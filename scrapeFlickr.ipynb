{
 "metadata": {
  "name": "",
  "signature": "sha256:c8edcdfc4fb443dfded796c701f15b4c7e4cbb4fd651086e4e4be725063f187a"
 },
 "nbformat": 3,
 "nbformat_minor": 0,
 "worksheets": [
  {
   "cells": [
    {
     "cell_type": "code",
     "collapsed": false,
     "input": [
      "import urllib2\n",
      "from bs4 import BeautifulSoup"
     ],
     "language": "python",
     "metadata": {},
     "outputs": [],
     "prompt_number": 1
    },
    {
     "cell_type": "markdown",
     "metadata": {},
     "source": [
      "#Code to scrape Flickr"
     ]
    },
    {
     "cell_type": "markdown",
     "metadata": {},
     "source": [
      "###Search photos of a certain type"
     ]
    },
    {
     "cell_type": "code",
     "collapsed": false,
     "input": [
      "#https://www.flickr.com/search/?q=\n",
      "#SEARCH FLICKR AND GET INFORMATION\n",
      "\n",
      "def getFlickrURL(term,startDate=None,endDate=None):\n",
      "    #dates in 20141201, 20141203 format\n",
      "    if startDate and endDate:\n",
      "        return \"\".join([\"https://www.flickr.com/search/?q=\",term,\"&d=taken-\",startDate,\"-\",endDate,\"&ct=0&mt=all&adv=1\"])\n",
      "    return \"\".join([\"www.flickr.com/search/?q=\",term])\n",
      "\n",
      "def getSoup(url):\n",
      "    return BeautifulSoup(urllib2.urlopen(url))\n",
      "\n",
      "def getImLinks(divs):\n",
      "    ims = []\n",
      "    for div in divs:\n",
      "        try:\n",
      "            if div[\"class\"][0]=='title':\n",
      "                ims.append(div.a[\"href\"])\n",
      "        except:\n",
      "            pass\n",
      "    return ims"
     ],
     "language": "python",
     "metadata": {},
     "outputs": [],
     "prompt_number": 2
    },
    {
     "cell_type": "code",
     "collapsed": false,
     "input": [
      "##Selenium\n",
      "\n",
      "def getLinks(browser):\n",
      "    items =set([])\n",
      "    for link in browser.find_elements_by_tag_name(\"a\"):\n",
      "        link = link.get_attribute(\"href\")\n",
      "        if re.match(\"https://www.flickr.com/photos/.*/[0-9]+\",link):\n",
      "            items.add(link)\n",
      "    return items\n",
      "\n",
      "def runBrowser(keyWord,startDate,endDate,pageDowns=10):\n",
      "    #ie \"portrait\",\"20131101\",\"20131131\n",
      "    browser = webdriver.Chrome()\n",
      "    browser.get(getFlickrURL(keyWord,startDate,endDate))\n",
      "    time.sleep(1)\n",
      "    elem = browser.find_element_by_tag_name(\"body\")\n",
      "    no_of_pagedowns = pageDowns\n",
      "    while no_of_pagedowns:\n",
      "        elem.send_keys(Keys.PAGE_DOWN)\n",
      "        time.sleep(0.2)\n",
      "        no_of_pagedowns-=1\n",
      "    \n",
      "    items =set([])\n",
      "    for link in browser.find_elements_by_tag_name(\"a\"):\n",
      "        link = link.get_attribute(\"href\")\n",
      "        if re.match(\"https://www.flickr.com/photos/.*/[0-9]+\",link):\n",
      "            items.add(link)\n",
      "    return items"
     ],
     "language": "python",
     "metadata": {},
     "outputs": [],
     "prompt_number": 3
    },
    {
     "cell_type": "markdown",
     "metadata": {},
     "source": [
      "### get stats and photo url"
     ]
    },
    {
     "cell_type": "code",
     "collapsed": false,
     "input": [
      "#Helpers: Extra information from photo URL\n",
      "\n",
      "def loadPhoto(photoName):\n",
      "    #Get photo information at provided url\n",
      "    return BeautifulSoup(urllib2.urlopen(photoName))\n",
      "\n",
      "def cleanInt(string):\n",
      "    if len(string) > 3:\n",
      "        return int(string.replace(\",\", \"\"))\n",
      "    return int(string)\n",
      "\n",
      "def getItemWithClass(items,classType):\n",
      "    results = []\n",
      "    for item in items:\n",
      "        try:\n",
      "            if item[\"class\"][0] == classType:\n",
      "                results.append(item)\n",
      "        except:\n",
      "            pass\n",
      "    return results\n",
      "\n",
      "def getViews(soup):\n",
      "    temp = getItemWithClass(soup.find_all('span'),\"full-text\")\n",
      "    return cleanInt(temp[0].text.strip('\\n').strip('\\t').strip('\\n').strip(\" Views\"))\n",
      "\n",
      "def getComments(soup):\n",
      "    try:\n",
      "        return int(soup.find(\"ul\",{\"id\": \"stats_ul\"}).find(\"li\",{\"class\":\"stat-item\",\"id\":\"comment-count\"}).text)\n",
      "    except:\n",
      "        return 0\n",
      "    \n",
      "def getFaves(soup):\n",
      "    num = int(soup.find(\"ul\",{\"id\": \"stats_ul\"}).find(\"li\",{\"class\":\"stat-item\",\"id\":\"fave-count\"}).text)\n",
      "    if num:\n",
      "        return num\n",
      "    return 0\n",
      "\n",
      "def getPhotoLink(soup):\n",
      "    return [link[\"content\"] for link in soup.find_all(\"meta\") if len(link[\"content\"])>4 and link[\"content\"][-4:]==\".jpg\"][0]\n",
      "\n",
      "def getPhotoInfo(photoName):\n",
      "    soup = loadPhoto(photoName)\n",
      "    return [photoName,getPhotoLink(soup),getViews(soup),getComments(soup),getFaves(soup)]"
     ],
     "language": "python",
     "metadata": {},
     "outputs": []
    },
    {
     "cell_type": "code",
     "collapsed": false,
     "input": [
      "def pipeline(term,startDate,endDate):\n",
      "    soup = getSoup(getFlickrURL(term,startDate,endDate))\n",
      "    imLinks = getImLinks(soup.find_all(\"div\"))\n",
      "    print imLinks\n",
      "    res = []\n",
      "    for link in imLinks:\n",
      "        try:\n",
      "            res.append(getPhotoInfo(link))\n",
      "        except:\n",
      "            pass\n",
      "    return res\n",
      "\n",
      "def seleniumPipeline(browser):\n",
      "    imLinks = getLinks(browser)\n",
      "    res = []\n",
      "    for link in imLinks:\n",
      "        try:\n",
      "            res.append(getPhotoInfo(link))\n",
      "            print link\n",
      "        except:\n",
      "            print \"error\",link\n",
      "    return res\n",
      "\n",
      "#getPhotoLink(soup)\n",
      "def getImageFromLink(url,savename):\n",
      "    text = urllib2.urlopen(urllib2.Request(url,None)).read()\n",
      "    open(savename,'wb').write(text)\n",
      "    return"
     ],
     "language": "python",
     "metadata": {},
     "outputs": [],
     "prompt_number": 104
    },
    {
     "cell_type": "markdown",
     "metadata": {},
     "source": [
      "## Run to start scraping. Selenium sometimes does not load page on first try, so load that cell and then run the rest of pipeline"
     ]
    },
    {
     "cell_type": "code",
     "collapsed": false,
     "input": [
      "#per_page\n",
      "import time,re\n",
      "from selenium import webdriver\n",
      "from selenium.webdriver.common.keys import Keys"
     ],
     "language": "python",
     "metadata": {},
     "outputs": [],
     "prompt_number": 21
    },
    {
     "cell_type": "code",
     "collapsed": false,
     "input": [
      "keyWord = \"portrait\"\n",
      "startDate = \"20130901\" #\"20131001\" #\"20131101\" #\"20131201\"\n",
      "endDate = \"20130930\" #\"20131031\" #\"20131131\"#\"20131231\""
     ],
     "language": "python",
     "metadata": {},
     "outputs": [],
     "prompt_number": 63
    },
    {
     "cell_type": "code",
     "collapsed": false,
     "input": [
      "# fromhttp://stackoverflow.com/questions/21006940/how-to-load-all-entries-in-an-infinite-scroll-at-once-to-parse-the-html-in-pytho\n",
      "browser = webdriver.Chrome()\n",
      "browser.get(getFlickrURL(keyWord,startDate,endDate))"
     ],
     "language": "python",
     "metadata": {},
     "outputs": [],
     "prompt_number": 64
    },
    {
     "cell_type": "code",
     "collapsed": false,
     "input": [
      "elem = browser.find_element_by_tag_name(\"body\")\n",
      "no_of_pagedowns = 25\n",
      "while no_of_pagedowns:\n",
      "    elem.send_keys(Keys.PAGE_DOWN)\n",
      "    time.sleep(1)\n",
      "    no_of_pagedowns-=1"
     ],
     "language": "python",
     "metadata": {},
     "outputs": [],
     "prompt_number": 65
    },
    {
     "cell_type": "code",
     "collapsed": false,
     "input": [
      "#results = seleniumPipeline(browser)"
     ],
     "language": "python",
     "metadata": {},
     "outputs": [],
     "prompt_number": 77
    },
    {
     "cell_type": "code",
     "collapsed": false,
     "input": [
      "#results"
     ],
     "language": "python",
     "metadata": {},
     "outputs": [],
     "prompt_number": 45
    },
    {
     "cell_type": "code",
     "collapsed": false,
     "input": [
      "print len(results)"
     ],
     "language": "python",
     "metadata": {},
     "outputs": [
      {
       "output_type": "stream",
       "stream": "stdout",
       "text": [
        "132\n"
       ]
      }
     ],
     "prompt_number": 67
    },
    {
     "cell_type": "code",
     "collapsed": false,
     "input": [
      "136 + 224 + 210 + 132"
     ],
     "language": "python",
     "metadata": {},
     "outputs": [
      {
       "metadata": {},
       "output_type": "pyout",
       "prompt_number": 68,
       "text": [
        "702"
       ]
      }
     ],
     "prompt_number": 68
    },
    {
     "cell_type": "markdown",
     "metadata": {},
     "source": [
      "## Add to MongoDB"
     ]
    },
    {
     "cell_type": "code",
     "collapsed": false,
     "input": [
      "from pymongo import MongoClient"
     ],
     "language": "python",
     "metadata": {},
     "outputs": [],
     "prompt_number": 69
    },
    {
     "cell_type": "code",
     "collapsed": false,
     "input": [
      "client = MongoClient('localhost',27017)\n",
      "db = client.flickrPhotoURLs\n",
      "posts = db.posts\n",
      "dates = startDate + \"-\" + endDate"
     ],
     "language": "python",
     "metadata": {},
     "outputs": [],
     "prompt_number": 70
    },
    {
     "cell_type": "code",
     "collapsed": false,
     "input": [
      "for link in results:\n",
      "    posts.insert({\"name\":link[1].strip(\"https://farm7.staticflickr.com/\"),\"pageLink\":link[0],\"link\":link[1],\"views\":link[2],\"comments\":link[3],\"faves\":link[4],\"dateRange\":dates})"
     ],
     "language": "python",
     "metadata": {},
     "outputs": [],
     "prompt_number": 71
    },
    {
     "cell_type": "code",
     "collapsed": false,
     "input": [
      "#db.posts.remove( { } )"
     ],
     "language": "python",
     "metadata": {},
     "outputs": [],
     "prompt_number": 33
    },
    {
     "cell_type": "code",
     "collapsed": false,
     "input": [
      "db.command(\"dbstats\")\n",
      "#db.command(\"adminCommand('getCmdLineOpts')\")"
     ],
     "language": "python",
     "metadata": {},
     "outputs": [
      {
       "metadata": {},
       "output_type": "pyout",
       "prompt_number": 76,
       "text": [
        "{u'avgObjSize': 493.1898016997167,\n",
        " u'collections': 3,\n",
        " u'dataFileVersion': {u'major': 4, u'minor': 5},\n",
        " u'dataSize': 348192,\n",
        " u'db': u'flickrPhotoURLs',\n",
        " u'extentFreeList': {u'num': 0, u'totalSize': 0},\n",
        " u'fileSize': 67108864,\n",
        " u'indexSize': 32704,\n",
        " u'indexes': 1,\n",
        " u'nsSizeMB': 16,\n",
        " u'numExtents': 6,\n",
        " u'objects': 706,\n",
        " u'ok': 1.0,\n",
        " u'storageSize': 712704}"
       ]
      }
     ],
     "prompt_number": 76
    },
    {
     "cell_type": "code",
     "collapsed": false,
     "input": [
      "len(list(posts.find({}))) #var/db"
     ],
     "language": "python",
     "metadata": {},
     "outputs": [
      {
       "metadata": {},
       "output_type": "pyout",
       "prompt_number": 72,
       "text": [
        "702"
       ]
      }
     ],
     "prompt_number": 72
    },
    {
     "cell_type": "code",
     "collapsed": false,
     "input": [
      "client.flickrBackup\n",
      "#db.posts.copyTo()"
     ],
     "language": "python",
     "metadata": {},
     "outputs": [
      {
       "metadata": {},
       "output_type": "pyout",
       "prompt_number": 84,
       "text": [
        "Database(MongoClient('localhost', 27017), u'flickrBackup')"
       ]
      }
     ],
     "prompt_number": 84
    },
    {
     "cell_type": "code",
     "collapsed": false,
     "input": [
      "import pickle\n",
      "\n",
      "def backup(posts):\n",
      "    posts = list(posts.find({}))\n",
      "    f = open(\"urls_backup.txt\",'w')\n",
      "    pickle.dump(posts,f)\n",
      "    f.close()\n",
      "    return\n",
      "    \n",
      "backup(posts)"
     ],
     "language": "python",
     "metadata": {},
     "outputs": [],
     "prompt_number": 100
    },
    {
     "cell_type": "code",
     "collapsed": false,
     "input": [],
     "language": "python",
     "metadata": {},
     "outputs": [],
     "prompt_number": 103
    },
    {
     "cell_type": "code",
     "collapsed": false,
     "input": [],
     "language": "python",
     "metadata": {},
     "outputs": []
    }
   ],
   "metadata": {}
  }
 ]
}