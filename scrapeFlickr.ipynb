{
 "metadata": {
  "name": "",
  "signature": "sha256:7bd85a26cfdb80075f37f48270d7d690f3eb06bd411a690b091aef9b9f61b6d9"
 },
 "nbformat": 3,
 "nbformat_minor": 0,
 "worksheets": [
  {
   "cells": [
    {
     "cell_type": "code",
     "collapsed": false,
     "input": [
      "import urllib2\n",
      "from bs4 import BeautifulSoup"
     ],
     "language": "python",
     "metadata": {},
     "outputs": [],
     "prompt_number": 1
    },
    {
     "cell_type": "markdown",
     "metadata": {},
     "source": [
      "#Code to scrape Flickr"
     ]
    },
    {
     "cell_type": "markdown",
     "metadata": {},
     "source": [
      "###Search photos of a certain type"
     ]
    },
    {
     "cell_type": "code",
     "collapsed": false,
     "input": [
      "#https://www.flickr.com/search/?q=\n",
      "#SEARCH FLICKR AND GET INFORMATION\n",
      "\n",
      "def getFlickrURL(term,startDate=None,endDate=None):\n",
      "    #dates in 20141201, 20141203 format\n",
      "    if startDate and endDate:\n",
      "        return \"\".join([\"https://www.flickr.com/search/?q=\",term,\"&d=taken-\",startDate,\"-\",endDate,\"&ct=0&mt=all&adv=1\"])\n",
      "    return \"\".join([\"www.flickr.com/search/?q=\",term])\n",
      "\n",
      "def getSoup(url):\n",
      "    return BeautifulSoup(urllib2.urlopen(url))\n",
      "\n",
      "def getImLinks(divs):\n",
      "    ims = []\n",
      "    for div in divs:\n",
      "        try:\n",
      "            if div[\"class\"][0]=='title':\n",
      "                ims.append(div.a[\"href\"])\n",
      "        except:\n",
      "            pass\n",
      "    return ims\n"
     ],
     "language": "python",
     "metadata": {},
     "outputs": [],
     "prompt_number": 2
    },
    {
     "cell_type": "code",
     "collapsed": false,
     "input": [
      "##Selenium\n",
      "\n",
      "def getLinks(browser):\n",
      "    items =set([])\n",
      "    for link in browser.find_elements_by_tag_name(\"a\"):\n",
      "        link = link.get_attribute(\"href\")\n",
      "        if re.match(\"https://www.flickr.com/photos/.*/[0-9]+\",link):\n",
      "            items.add(link)\n",
      "    return items\n",
      "\n",
      "def runBrowser(keyWord,startDate,endDate,pageDowns=10):\n",
      "    #ie \"portrait\",\"20131101\",\"20131131\n",
      "    browser = webdriver.Chrome()\n",
      "    browser.get(getFlickrURL(keyWord,startDate,endDate))\n",
      "    time.sleep(1)\n",
      "    elem = browser.find_element_by_tag_name(\"body\")\n",
      "    no_of_pagedowns = pageDowns\n",
      "    while no_of_pagedowns:\n",
      "        elem.send_keys(Keys.PAGE_DOWN)\n",
      "        time.sleep(0.2)\n",
      "        no_of_pagedowns-=1\n",
      "    \n",
      "    items =set([])\n",
      "    for link in browser.find_elements_by_tag_name(\"a\"):\n",
      "        link = link.get_attribute(\"href\")\n",
      "        if re.match(\"https://www.flickr.com/photos/.*/[0-9]+\",link):\n",
      "            items.add(link)\n",
      "    return items"
     ],
     "language": "python",
     "metadata": {},
     "outputs": [],
     "prompt_number": 3
    },
    {
     "cell_type": "markdown",
     "metadata": {},
     "source": [
      "### get stats and photo url"
     ]
    },
    {
     "cell_type": "code",
     "collapsed": false,
     "input": [
      "#Helpers: Extra information from photo URL\n",
      "\n",
      "def loadPhoto(photoName):\n",
      "    #Get photo information at provided url\n",
      "    return BeautifulSoup(urllib2.urlopen(photoName))\n",
      "\n",
      "def cleanInt(string):\n",
      "    if len(string) > 3:\n",
      "        return int(string.replace(\",\", \"\"))\n",
      "    return int(string)\n",
      "\n",
      "def getItemWithClass(items,classType):\n",
      "    results = []\n",
      "    for item in items:\n",
      "        try:\n",
      "            if item[\"class\"][0] == classType:\n",
      "                results.append(item)\n",
      "        except:\n",
      "            pass\n",
      "    return results\n",
      "\n",
      "def getViews(soup):\n",
      "    temp = getItemWithClass(soup.find_all('span'),\"full-text\")\n",
      "    return cleanInt(temp[0].text.strip('\\n').strip('\\t').strip('\\n').strip(\" Views\"))\n",
      "\n",
      "def getComments(soup):\n",
      "    try:\n",
      "        return int(soup.find(\"ul\",{\"id\": \"stats_ul\"}).find(\"li\",{\"class\":\"stat-item\",\"id\":\"comment-count\"}).text)\n",
      "    except:\n",
      "        return 0\n",
      "    \n",
      "def getFaves(soup):\n",
      "    num = int(soup.find(\"ul\",{\"id\": \"stats_ul\"}).find(\"li\",{\"class\":\"stat-item\",\"id\":\"fave-count\"}).text)\n",
      "    if num:\n",
      "        return num\n",
      "    return 0\n",
      "\n",
      "def getPhotoLink(soup):\n",
      "    return [link[\"content\"] for link in soup.find_all(\"meta\") if len(link[\"content\"])>4 and link[\"content\"][-4:]==\".jpg\"][0]\n",
      "\n",
      "def getPhotoInfo(photoName):\n",
      "    soup = loadPhoto(photoName)\n",
      "    return [photoName,getPhotoLink(soup),getViews(soup),getComments(soup),getFaves(soup)]"
     ],
     "language": "python",
     "metadata": {},
     "outputs": []
    },
    {
     "cell_type": "code",
     "collapsed": false,
     "input": [
      "def pipeline(term,startDate,endDate):\n",
      "    soup = getSoup(getFlickrURL(term,startDate,endDate))\n",
      "    imLinks = getImLinks(soup.find_all(\"div\"))\n",
      "    print imLinks\n",
      "    res = []\n",
      "    for link in imLinks:\n",
      "        try:\n",
      "            res.append(getPhotoInfo(link))\n",
      "        except:\n",
      "            pass\n",
      "    return res\n",
      "\n",
      "def seleniumPipeline(browser):\n",
      "    imLinks = getLinks(browser)\n",
      "    res = []\n",
      "    for link in imLinks:\n",
      "        try:\n",
      "            res.append(getPhotoInfo(link))\n",
      "            print link\n",
      "        except:\n",
      "            print \"error\",link\n",
      "    return res"
     ],
     "language": "python",
     "metadata": {},
     "outputs": [],
     "prompt_number": 20
    },
    {
     "cell_type": "code",
     "collapsed": false,
     "input": [
      "#soup = getSoup(getFlickrURL(\"portrait\",\"1112013\",\"11312013\"))"
     ],
     "language": "python",
     "metadata": {},
     "outputs": [],
     "prompt_number": 495
    },
    {
     "cell_type": "code",
     "collapsed": false,
     "input": [
      "#imLinks = getImLinks(soup.find_all(\"div\"))"
     ],
     "language": "python",
     "metadata": {},
     "outputs": [],
     "prompt_number": 496
    },
    {
     "cell_type": "code",
     "collapsed": false,
     "input": [
      "res = []\n",
      "for link in imLinks:\n",
      "    try:\n",
      "        res.append(getPhotoInfo(link))\n",
      "    except:\n",
      "        pass"
     ],
     "language": "python",
     "metadata": {},
     "outputs": [],
     "prompt_number": 497
    },
    {
     "cell_type": "code",
     "collapsed": false,
     "input": [
      "#getPhotoLink(soup)\n",
      "def getImageFromLink():\n",
      "    text = urllib2.urlopen(urllib2.Request('https://farm8.staticflickr.com/7208/6974889317_277c705f71_m.jpg',None)).read()\n",
      "    open(\"test.jpg\",'wb').write(text)\n",
      "    return"
     ],
     "language": "python",
     "metadata": {},
     "outputs": [],
     "prompt_number": 6
    },
    {
     "cell_type": "code",
     "collapsed": false,
     "input": [],
     "language": "python",
     "metadata": {},
     "outputs": [],
     "prompt_number": 360
    },
    {
     "cell_type": "code",
     "collapsed": false,
     "input": [],
     "language": "python",
     "metadata": {},
     "outputs": [],
     "prompt_number": 365
    },
    {
     "cell_type": "code",
     "collapsed": false,
     "input": [],
     "language": "python",
     "metadata": {},
     "outputs": [],
     "prompt_number": 367
    },
    {
     "cell_type": "code",
     "collapsed": false,
     "input": [],
     "language": "python",
     "metadata": {},
     "outputs": [],
     "prompt_number": 443
    },
    {
     "cell_type": "code",
     "collapsed": true,
     "input": [],
     "language": "python",
     "metadata": {},
     "outputs": [],
     "prompt_number": 491
    },
    {
     "cell_type": "markdown",
     "metadata": {},
     "source": [
      "## Run to start scraping. Selenium sometimes does not load page on first try, so load that cell and then run the rest of pipeline"
     ]
    },
    {
     "cell_type": "code",
     "collapsed": false,
     "input": [
      "#per_page\n",
      "import time,re\n",
      "from selenium import webdriver\n",
      "from selenium.webdriver.common.keys import Keys"
     ],
     "language": "python",
     "metadata": {},
     "outputs": [],
     "prompt_number": 21
    },
    {
     "cell_type": "code",
     "collapsed": false,
     "input": [
      "keyWord = \"portrait\"\n",
      "startDate = \"20131001\" #\"20131101\" #\"20131201\"\n",
      "endDate = \"20131031\" #\"20131131\"#\"20131231\""
     ],
     "language": "python",
     "metadata": {},
     "outputs": [],
     "prompt_number": 51
    },
    {
     "cell_type": "code",
     "collapsed": false,
     "input": [
      "# fromhttp://stackoverflow.com/questions/21006940/how-to-load-all-entries-in-an-infinite-scroll-at-once-to-parse-the-html-in-pytho\n",
      "browser = webdriver.Chrome()\n",
      "browser.get(getFlickrURL(keyWord,startDate,endDate))"
     ],
     "language": "python",
     "metadata": {},
     "outputs": [],
     "prompt_number": 52
    },
    {
     "cell_type": "code",
     "collapsed": false,
     "input": [
      "elem = browser.find_element_by_tag_name(\"body\")\n",
      "no_of_pagedowns = 25\n",
      "while no_of_pagedowns:\n",
      "    elem.send_keys(Keys.PAGE_DOWN)\n",
      "    time.sleep(1)\n",
      "    no_of_pagedowns-=1"
     ],
     "language": "python",
     "metadata": {},
     "outputs": [],
     "prompt_number": 54
    },
    {
     "cell_type": "code",
     "collapsed": false,
     "input": [
      "results = seleniumPipeline(browser)"
     ],
     "language": "python",
     "metadata": {},
     "outputs": [
      {
       "output_type": "stream",
       "stream": "stdout",
       "text": [
        "loaded photo\n",
        "error https://www.flickr.com/photos/sajophoto/10312406184\n",
        "loaded photo"
       ]
      },
      {
       "output_type": "stream",
       "stream": "stdout",
       "text": [
        "\n",
        "https://www.flickr.com/photos/106890064@N05/10695380784\n",
        "loaded photo"
       ]
      },
      {
       "output_type": "stream",
       "stream": "stdout",
       "text": [
        "\n",
        "https://www.flickr.com/photos/davidcbox/10491455835\n",
        "loaded photo"
       ]
      },
      {
       "output_type": "stream",
       "stream": "stdout",
       "text": [
        "\n",
        "https://www.flickr.com/photos/gamundi08/10988182543\n",
        "loaded photo"
       ]
      },
      {
       "output_type": "stream",
       "stream": "stdout",
       "text": [
        "\n",
        "https://www.flickr.com/photos/92239641@N02/11026384005\n",
        "loaded photo"
       ]
      },
      {
       "output_type": "stream",
       "stream": "stdout",
       "text": [
        "\n",
        "https://www.flickr.com/photos/56576098@N02/10482051266\n",
        "loaded photo"
       ]
      },
      {
       "output_type": "stream",
       "stream": "stdout",
       "text": [
        "\n",
        "error https://www.flickr.com/photos/buddhadog/10238181733\n",
        "loaded photo"
       ]
      },
      {
       "output_type": "stream",
       "stream": "stdout",
       "text": [
        "\n",
        "https://www.flickr.com/photos/saaste/10228567874\n",
        "loaded photo"
       ]
      },
      {
       "output_type": "stream",
       "stream": "stdout",
       "text": [
        "\n",
        "https://www.flickr.com/photos/97510924@N04/10222685206\n",
        "loaded photo"
       ]
      },
      {
       "output_type": "stream",
       "stream": "stdout",
       "text": [
        "\n",
        "https://www.flickr.com/photos/maria_mk/10407517435\n",
        "loaded photo"
       ]
      },
      {
       "output_type": "stream",
       "stream": "stdout",
       "text": [
        "\n",
        "https://www.flickr.com/photos/gunnisal/10140958865\n",
        "loaded photo"
       ]
      },
      {
       "output_type": "stream",
       "stream": "stdout",
       "text": [
        "\n",
        "https://www.flickr.com/photos/germanvidal/10540635645\n",
        "loaded photo"
       ]
      },
      {
       "output_type": "stream",
       "stream": "stdout",
       "text": [
        "\n",
        "https://www.flickr.com/photos/wfxue/11091994876\n",
        "loaded photo"
       ]
      },
      {
       "output_type": "stream",
       "stream": "stdout",
       "text": [
        "\n",
        "https://www.flickr.com/photos/buddhadog/10237664575\n",
        "loaded photo"
       ]
      },
      {
       "output_type": "stream",
       "stream": "stdout",
       "text": [
        "\n",
        "https://www.flickr.com/photos/ayuplass70/10543142744\n",
        "loaded photo"
       ]
      },
      {
       "output_type": "stream",
       "stream": "stdout",
       "text": [
        "\n",
        "https://www.flickr.com/photos/clearlight/10915295006\n",
        "loaded photo"
       ]
      },
      {
       "output_type": "stream",
       "stream": "stdout",
       "text": [
        "\n",
        "https://www.flickr.com/photos/natali_antonovich/10865795074\n",
        "loaded photo"
       ]
      },
      {
       "output_type": "stream",
       "stream": "stdout",
       "text": [
        "\n",
        "https://www.flickr.com/photos/sajophoto/10312463975\n",
        "loaded photo"
       ]
      },
      {
       "output_type": "stream",
       "stream": "stdout",
       "text": [
        "\n",
        "https://www.flickr.com/photos/tiziano56/10857038835\n",
        "loaded photo"
       ]
      },
      {
       "output_type": "stream",
       "stream": "stdout",
       "text": [
        "\n",
        "https://www.flickr.com/photos/brayo/10885835094\n",
        "loaded photo"
       ]
      },
      {
       "output_type": "stream",
       "stream": "stdout",
       "text": [
        "\n",
        "https://www.flickr.com/photos/malialeon/10403585694\n",
        "loaded photo"
       ]
      },
      {
       "output_type": "stream",
       "stream": "stdout",
       "text": [
        "\n",
        "https://www.flickr.com/photos/97510924@N04/10463939254\n",
        "loaded photo"
       ]
      },
      {
       "output_type": "stream",
       "stream": "stdout",
       "text": [
        "\n",
        "https://www.flickr.com/photos/ricklerocker/10385227005\n",
        "loaded photo"
       ]
      },
      {
       "output_type": "stream",
       "stream": "stdout",
       "text": [
        "\n",
        "https://www.flickr.com/photos/nalejandro/10445284496\n",
        "loaded photo"
       ]
      },
      {
       "output_type": "stream",
       "stream": "stdout",
       "text": [
        "\n",
        "https://www.flickr.com/photos/locksley_44/10612767803\n",
        "loaded photo"
       ]
      },
      {
       "output_type": "stream",
       "stream": "stdout",
       "text": [
        "\n",
        "https://www.flickr.com/photos/scottstillman/10338644956\n",
        "loaded photo"
       ]
      },
      {
       "output_type": "stream",
       "stream": "stdout",
       "text": [
        "\n",
        "https://www.flickr.com/photos/viewfromthestreet/10380810513\n",
        "loaded photo"
       ]
      },
      {
       "output_type": "stream",
       "stream": "stdout",
       "text": [
        "\n",
        "https://www.flickr.com/photos/104155752@N02/10279227266\n",
        "loaded photo"
       ]
      },
      {
       "output_type": "stream",
       "stream": "stdout",
       "text": [
        "\n",
        "error https://www.flickr.com/photos/blairweidman/10499051314\n",
        "loaded photo"
       ]
      },
      {
       "output_type": "stream",
       "stream": "stdout",
       "text": [
        "\n",
        "https://www.flickr.com/photos/41427422@N00/10448552695\n",
        "loaded photo"
       ]
      },
      {
       "output_type": "stream",
       "stream": "stdout",
       "text": [
        "\n",
        "https://www.flickr.com/photos/redhead_and_wolf/10114834485\n",
        "loaded photo"
       ]
      },
      {
       "output_type": "stream",
       "stream": "stdout",
       "text": [
        "\n",
        "https://www.flickr.com/photos/o0nefertem0o/10560184373\n",
        "loaded photo"
       ]
      },
      {
       "output_type": "stream",
       "stream": "stdout",
       "text": [
        "\n",
        "https://www.flickr.com/photos/43410638@N05/10347885436\n",
        "loaded photo"
       ]
      },
      {
       "output_type": "stream",
       "stream": "stdout",
       "text": [
        "\n",
        "https://www.flickr.com/photos/tonyweeg/10129120936\n",
        "loaded photo"
       ]
      },
      {
       "output_type": "stream",
       "stream": "stdout",
       "text": [
        "\n",
        "https://www.flickr.com/photos/93040738@N07/10587799006\n",
        "loaded photo"
       ]
      },
      {
       "output_type": "stream",
       "stream": "stdout",
       "text": [
        "\n",
        "error https://www.flickr.com/photos/75432530@N02/15641927957\n",
        "loaded photo"
       ]
      },
      {
       "output_type": "stream",
       "stream": "stdout",
       "text": [
        "\n",
        "https://www.flickr.com/photos/kolbyknightphotography/11325271726\n",
        "loaded photo"
       ]
      },
      {
       "output_type": "stream",
       "stream": "stdout",
       "text": [
        "\n",
        "https://www.flickr.com/photos/mjones41/10135322096\n",
        "loaded photo"
       ]
      },
      {
       "output_type": "stream",
       "stream": "stdout",
       "text": [
        "\n",
        "https://www.flickr.com/photos/cristinamateos/10738370296\n",
        "loaded photo"
       ]
      },
      {
       "output_type": "stream",
       "stream": "stdout",
       "text": [
        "\n",
        "error https://www.flickr.com/photos/sajophoto/10312451506\n",
        "loaded photo"
       ]
      },
      {
       "output_type": "stream",
       "stream": "stdout",
       "text": [
        "\n",
        "https://www.flickr.com/photos/bdphoto1/14289027866\n",
        "loaded photo"
       ]
      },
      {
       "output_type": "stream",
       "stream": "stdout",
       "text": [
        "\n",
        "https://www.flickr.com/photos/101661676@N03/10145898974\n",
        "loaded photo"
       ]
      },
      {
       "output_type": "stream",
       "stream": "stdout",
       "text": [
        "\n",
        "https://www.flickr.com/photos/107858535@N06/11159092504\n",
        "loaded photo"
       ]
      },
      {
       "output_type": "stream",
       "stream": "stdout",
       "text": [
        "\n",
        "https://www.flickr.com/photos/111475678@N03/11368091633\n",
        "loaded photo"
       ]
      },
      {
       "output_type": "stream",
       "stream": "stdout",
       "text": [
        "\n",
        "https://www.flickr.com/photos/gunnisal/10348137186\n",
        "loaded photo"
       ]
      },
      {
       "output_type": "stream",
       "stream": "stdout",
       "text": [
        "\n",
        "https://www.flickr.com/photos/macetrappedspace/10162904443\n",
        "loaded photo"
       ]
      },
      {
       "output_type": "stream",
       "stream": "stdout",
       "text": [
        "\n",
        "https://www.flickr.com/photos/72213316@N00/10338089594\n",
        "loaded photo"
       ]
      },
      {
       "output_type": "stream",
       "stream": "stdout",
       "text": [
        "\n",
        "https://www.flickr.com/photos/hayleyonfire/10271814563\n",
        "loaded photo"
       ]
      },
      {
       "output_type": "stream",
       "stream": "stdout",
       "text": [
        "\n",
        "https://www.flickr.com/photos/dannysantos/12109176615\n",
        "loaded photo"
       ]
      },
      {
       "output_type": "stream",
       "stream": "stdout",
       "text": [
        "\n",
        "https://www.flickr.com/photos/50260960@N06/10590264574\n",
        "loaded photo"
       ]
      },
      {
       "output_type": "stream",
       "stream": "stdout",
       "text": [
        "\n",
        "https://www.flickr.com/photos/alecmacias4/13747104694\n",
        "loaded photo"
       ]
      },
      {
       "output_type": "stream",
       "stream": "stdout",
       "text": [
        "\n",
        "https://www.flickr.com/photos/kelseybullockphotography/10587829176\n",
        "loaded photo"
       ]
      },
      {
       "output_type": "stream",
       "stream": "stdout",
       "text": [
        "\n",
        "https://www.flickr.com/photos/p_marione/10085775834\n",
        "loaded photo"
       ]
      },
      {
       "output_type": "stream",
       "stream": "stdout",
       "text": [
        "\n",
        "https://www.flickr.com/photos/tonyweeg/10128965144\n",
        "loaded photo"
       ]
      },
      {
       "output_type": "stream",
       "stream": "stdout",
       "text": [
        "\n",
        "error https://www.flickr.com/photos/buddhadog/10237987773\n",
        "loaded photo"
       ]
      },
      {
       "output_type": "stream",
       "stream": "stdout",
       "text": [
        "\n",
        "https://www.flickr.com/photos/29915557@N05/14524334433\n",
        "loaded photo"
       ]
      },
      {
       "output_type": "stream",
       "stream": "stdout",
       "text": [
        "\n",
        "https://www.flickr.com/photos/dennyc69/15054436526\n",
        "loaded photo"
       ]
      },
      {
       "output_type": "stream",
       "stream": "stdout",
       "text": [
        "\n",
        "https://www.flickr.com/photos/djericray/10108687254\n",
        "loaded photo"
       ]
      },
      {
       "output_type": "stream",
       "stream": "stdout",
       "text": [
        "\n",
        "https://www.flickr.com/photos/natali_antonovich/11924756846\n",
        "loaded photo"
       ]
      },
      {
       "output_type": "stream",
       "stream": "stdout",
       "text": [
        "\n",
        "https://www.flickr.com/photos/92239641@N02/10479566253\n",
        "loaded photo"
       ]
      },
      {
       "output_type": "stream",
       "stream": "stdout",
       "text": [
        "\n",
        "https://www.flickr.com/photos/f1ashev/15694505876\n",
        "loaded photo"
       ]
      },
      {
       "output_type": "stream",
       "stream": "stdout",
       "text": [
        "\n",
        "https://www.flickr.com/photos/scottstillman/10338810613\n",
        "loaded photo"
       ]
      },
      {
       "output_type": "stream",
       "stream": "stdout",
       "text": [
        "\n",
        "https://www.flickr.com/photos/davidcwt/10247893205\n",
        "loaded photo"
       ]
      },
      {
       "output_type": "stream",
       "stream": "stdout",
       "text": [
        "\n",
        "https://www.flickr.com/photos/dgoldsteinphotography/10802003046\n",
        "loaded photo"
       ]
      },
      {
       "output_type": "stream",
       "stream": "stdout",
       "text": [
        "\n",
        "https://www.flickr.com/photos/uri_nadav/10410552426\n",
        "loaded photo"
       ]
      },
      {
       "output_type": "stream",
       "stream": "stdout",
       "text": [
        "\n",
        "error https://www.flickr.com/photos/75432530@N02/15641875747\n",
        "loaded photo"
       ]
      },
      {
       "output_type": "stream",
       "stream": "stdout",
       "text": [
        "\n",
        "https://www.flickr.com/photos/carlzeisslenses/11048417456\n",
        "loaded photo"
       ]
      },
      {
       "output_type": "stream",
       "stream": "stdout",
       "text": [
        "\n",
        "https://www.flickr.com/photos/hasheed/12795191375\n",
        "loaded photo"
       ]
      },
      {
       "output_type": "stream",
       "stream": "stdout",
       "text": [
        "\n",
        "https://www.flickr.com/photos/22703131@N03/10723519554\n",
        "loaded photo"
       ]
      },
      {
       "output_type": "stream",
       "stream": "stdout",
       "text": [
        "\n",
        "https://www.flickr.com/photos/thepaulreid/10445663124\n",
        "loaded photo"
       ]
      },
      {
       "output_type": "stream",
       "stream": "stdout",
       "text": [
        "\n",
        "https://www.flickr.com/photos/pmkelly/10171130115\n",
        "loaded photo"
       ]
      },
      {
       "output_type": "stream",
       "stream": "stdout",
       "text": [
        "\n",
        "https://www.flickr.com/photos/francknikon/10166162964\n",
        "loaded photo"
       ]
      },
      {
       "output_type": "stream",
       "stream": "stdout",
       "text": [
        "\n",
        "https://www.flickr.com/photos/liaqat_ali_vance/10439686604\n",
        "loaded photo"
       ]
      },
      {
       "output_type": "stream",
       "stream": "stdout",
       "text": [
        "\n",
        "https://www.flickr.com/photos/jealousmindsthinkalikebabe/10332276953\n",
        "loaded photo"
       ]
      },
      {
       "output_type": "stream",
       "stream": "stdout",
       "text": [
        "\n",
        "https://www.flickr.com/photos/bumpy73/10326922773\n",
        "loaded photo"
       ]
      },
      {
       "output_type": "stream",
       "stream": "stdout",
       "text": [
        "\n",
        "https://www.flickr.com/photos/93752350@N06/10212285756\n",
        "loaded photo"
       ]
      },
      {
       "output_type": "stream",
       "stream": "stdout",
       "text": [
        "\n",
        "https://www.flickr.com/photos/jimianderson/10384654414\n",
        "loaded photo"
       ]
      },
      {
       "output_type": "stream",
       "stream": "stdout",
       "text": [
        "\n",
        "https://www.flickr.com/photos/joseph90/10210925345\n",
        "loaded photo"
       ]
      },
      {
       "output_type": "stream",
       "stream": "stdout",
       "text": [
        "\n",
        "error https://www.flickr.com/photos/sajophoto/10312482866\n",
        "loaded photo"
       ]
      },
      {
       "output_type": "stream",
       "stream": "stdout",
       "text": [
        "\n",
        "error https://www.flickr.com/photos/sajophoto/10312476816\n",
        "loaded photo"
       ]
      },
      {
       "output_type": "stream",
       "stream": "stdout",
       "text": [
        "\n",
        "https://www.flickr.com/photos/10278978@N02/10373110105\n",
        "loaded photo"
       ]
      },
      {
       "output_type": "stream",
       "stream": "stdout",
       "text": [
        "\n",
        "https://www.flickr.com/photos/victormitri/10312128684\n",
        "loaded photo"
       ]
      },
      {
       "output_type": "stream",
       "stream": "stdout",
       "text": [
        "\n",
        "https://www.flickr.com/photos/92239641@N02/10604881413\n",
        "loaded photo"
       ]
      },
      {
       "output_type": "stream",
       "stream": "stdout",
       "text": [
        "\n",
        "https://www.flickr.com/photos/joerouton/13902984107\n",
        "loaded photo"
       ]
      },
      {
       "output_type": "stream",
       "stream": "stdout",
       "text": [
        "\n",
        "https://www.flickr.com/photos/redhead_and_wolf/10306160024\n",
        "loaded photo"
       ]
      },
      {
       "output_type": "stream",
       "stream": "stdout",
       "text": [
        "\n",
        "https://www.flickr.com/photos/interzone-inc/14928732636\n",
        "loaded photo"
       ]
      },
      {
       "output_type": "stream",
       "stream": "stdout",
       "text": [
        "\n",
        "error https://www.flickr.com/photos/75432530@N02/15641242719\n",
        "loaded photo"
       ]
      },
      {
       "output_type": "stream",
       "stream": "stdout",
       "text": [
        "\n",
        "https://www.flickr.com/photos/davidkmartinez/10770606453\n",
        "loaded photo"
       ]
      },
      {
       "output_type": "stream",
       "stream": "stdout",
       "text": [
        "\n",
        "https://www.flickr.com/photos/43410638@N05/10348071643\n",
        "loaded photo"
       ]
      },
      {
       "output_type": "stream",
       "stream": "stdout",
       "text": [
        "\n",
        "https://www.flickr.com/photos/palatium/12240002594\n",
        "loaded photo"
       ]
      },
      {
       "output_type": "stream",
       "stream": "stdout",
       "text": [
        "\n",
        "https://www.flickr.com/photos/49074501@N02/10608841465\n",
        "loaded photo"
       ]
      },
      {
       "output_type": "stream",
       "stream": "stdout",
       "text": [
        "\n",
        "https://www.flickr.com/photos/76726552@N05/11731425286\n",
        "loaded photo"
       ]
      },
      {
       "output_type": "stream",
       "stream": "stdout",
       "text": [
        "\n",
        "error https://www.flickr.com/photos/75432530@N02/15642330060\n",
        "loaded photo"
       ]
      },
      {
       "output_type": "stream",
       "stream": "stdout",
       "text": [
        "\n",
        "error https://www.flickr.com/photos/92527241@N07/10491608136\n",
        "loaded photo"
       ]
      },
      {
       "output_type": "stream",
       "stream": "stdout",
       "text": [
        "\n",
        "https://www.flickr.com/photos/n1ct4yl0r/10447604435\n",
        "loaded photo"
       ]
      },
      {
       "output_type": "stream",
       "stream": "stdout",
       "text": [
        "\n",
        "https://www.flickr.com/photos/scottstillman/10338624014\n",
        "loaded photo"
       ]
      },
      {
       "output_type": "stream",
       "stream": "stdout",
       "text": [
        "\n",
        "error https://www.flickr.com/photos/92527241@N07/10491551836\n",
        "loaded photo"
       ]
      },
      {
       "output_type": "stream",
       "stream": "stdout",
       "text": [
        "\n",
        "https://www.flickr.com/photos/amellowlie/10043339443\n",
        "loaded photo"
       ]
      },
      {
       "output_type": "stream",
       "stream": "stdout",
       "text": [
        "\n",
        "https://www.flickr.com/photos/fysiot/13913092696\n",
        "loaded photo"
       ]
      },
      {
       "output_type": "stream",
       "stream": "stdout",
       "text": [
        "\n",
        "https://www.flickr.com/photos/svanvenetien/10038241044\n",
        "loaded photo"
       ]
      },
      {
       "output_type": "stream",
       "stream": "stdout",
       "text": [
        "\n",
        "https://www.flickr.com/photos/no_ok/10346788633\n",
        "loaded photo"
       ]
      },
      {
       "output_type": "stream",
       "stream": "stdout",
       "text": [
        "\n",
        "https://www.flickr.com/photos/11424874@N03/10056705865\n",
        "loaded photo"
       ]
      },
      {
       "output_type": "stream",
       "stream": "stdout",
       "text": [
        "\n",
        "error https://www.flickr.com/photos/75432530@N02/15207653223\n",
        "loaded photo"
       ]
      },
      {
       "output_type": "stream",
       "stream": "stdout",
       "text": [
        "\n",
        "https://www.flickr.com/photos/100744256@N02/10384945754\n",
        "loaded photo"
       ]
      },
      {
       "output_type": "stream",
       "stream": "stdout",
       "text": [
        "\n",
        "https://www.flickr.com/photos/mancabruno/10223334335\n",
        "loaded photo"
       ]
      },
      {
       "output_type": "stream",
       "stream": "stdout",
       "text": [
        "\n",
        "error https://www.flickr.com/photos/56627607@N05/14432844461\n",
        "loaded photo"
       ]
      },
      {
       "output_type": "stream",
       "stream": "stdout",
       "text": [
        "\n",
        "https://www.flickr.com/photos/markgill/10331359953\n",
        "loaded photo"
       ]
      },
      {
       "output_type": "stream",
       "stream": "stdout",
       "text": [
        "\n",
        "https://www.flickr.com/photos/damophotography/10243829334\n",
        "loaded photo"
       ]
      },
      {
       "output_type": "stream",
       "stream": "stdout",
       "text": [
        "\n",
        "error https://www.flickr.com/photos/symonmreynolds/10074150133\n",
        "loaded photo"
       ]
      },
      {
       "output_type": "stream",
       "stream": "stdout",
       "text": [
        "\n",
        "https://www.flickr.com/photos/home_of_chaos/10555316443\n",
        "loaded photo"
       ]
      },
      {
       "output_type": "stream",
       "stream": "stdout",
       "text": [
        "\n",
        "https://www.flickr.com/photos/bradytuckett/10750438845\n",
        "loaded photo"
       ]
      },
      {
       "output_type": "stream",
       "stream": "stdout",
       "text": [
        "\n",
        "https://www.flickr.com/photos/bayerzky/10567386953\n",
        "loaded photo"
       ]
      },
      {
       "output_type": "stream",
       "stream": "stdout",
       "text": [
        "\n",
        "error https://www.flickr.com/photos/sajophoto/10312439486\n",
        "loaded photo"
       ]
      },
      {
       "output_type": "stream",
       "stream": "stdout",
       "text": [
        "\n",
        "https://www.flickr.com/photos/piet-psch/15526046039\n",
        "loaded photo"
       ]
      },
      {
       "output_type": "stream",
       "stream": "stdout",
       "text": [
        "\n",
        "error https://www.flickr.com/photos/sajophoto/10312469245\n",
        "loaded photo"
       ]
      },
      {
       "output_type": "stream",
       "stream": "stdout",
       "text": [
        "\n",
        "https://www.flickr.com/photos/bybmedia/10773599015\n",
        "loaded photo"
       ]
      },
      {
       "output_type": "stream",
       "stream": "stdout",
       "text": [
        "\n",
        "https://www.flickr.com/photos/conortiffin/10294325323\n",
        "loaded photo"
       ]
      },
      {
       "output_type": "stream",
       "stream": "stdout",
       "text": [
        "\n",
        "https://www.flickr.com/photos/adrienzograffi/10271679956\n",
        "loaded photo"
       ]
      },
      {
       "output_type": "stream",
       "stream": "stdout",
       "text": [
        "\n",
        "error https://www.flickr.com/photos/75432530@N02/15641284759\n",
        "loaded photo"
       ]
      },
      {
       "output_type": "stream",
       "stream": "stdout",
       "text": [
        "\n",
        "https://www.flickr.com/photos/davidkmartinez/10770383066\n",
        "loaded photo"
       ]
      },
      {
       "output_type": "stream",
       "stream": "stdout",
       "text": [
        "\n",
        "https://www.flickr.com/photos/bergen_public_library/10534265063\n",
        "loaded photo"
       ]
      },
      {
       "output_type": "stream",
       "stream": "stdout",
       "text": [
        "\n",
        "https://www.flickr.com/photos/mizrak/10126046283\n",
        "loaded photo"
       ]
      },
      {
       "output_type": "stream",
       "stream": "stdout",
       "text": [
        "\n",
        "error https://www.flickr.com/photos/melvindejesus/10126657135\n",
        "loaded photo"
       ]
      },
      {
       "output_type": "stream",
       "stream": "stdout",
       "text": [
        "\n",
        "error https://www.flickr.com/photos/blairweidman/10499011476\n",
        "loaded photo"
       ]
      },
      {
       "output_type": "stream",
       "stream": "stdout",
       "text": [
        "\n",
        "https://www.flickr.com/photos/pharheen/10167313316\n",
        "loaded photo"
       ]
      },
      {
       "output_type": "stream",
       "stream": "stdout",
       "text": [
        "\n",
        "https://www.flickr.com/photos/andreucccia/10286267625\n",
        "loaded photo"
       ]
      },
      {
       "output_type": "stream",
       "stream": "stdout",
       "text": [
        "\n",
        "error https://www.flickr.com/photos/125430417@N02/14677316541\n",
        "loaded photo"
       ]
      },
      {
       "output_type": "stream",
       "stream": "stdout",
       "text": [
        "\n",
        "https://www.flickr.com/photos/kevyang15/11422905364\n",
        "loaded photo"
       ]
      },
      {
       "output_type": "stream",
       "stream": "stdout",
       "text": [
        "\n",
        "https://www.flickr.com/photos/derlevi/10307941023\n",
        "loaded photo"
       ]
      },
      {
       "output_type": "stream",
       "stream": "stdout",
       "text": [
        "\n",
        "https://www.flickr.com/photos/a_guerquin/10425922183\n",
        "loaded photo"
       ]
      },
      {
       "output_type": "stream",
       "stream": "stdout",
       "text": [
        "\n",
        "https://www.flickr.com/photos/benperrin/11995059085\n",
        "loaded photo"
       ]
      },
      {
       "output_type": "stream",
       "stream": "stdout",
       "text": [
        "\n",
        "https://www.flickr.com/photos/xbellanottephotography/13296122675\n",
        "loaded photo"
       ]
      },
      {
       "output_type": "stream",
       "stream": "stdout",
       "text": [
        "\n",
        "error https://www.flickr.com/photos/92527241@N07/10491826343\n",
        "loaded photo"
       ]
      },
      {
       "output_type": "stream",
       "stream": "stdout",
       "text": [
        "\n",
        "https://www.flickr.com/photos/101661676@N03/10256757373\n",
        "loaded photo"
       ]
      },
      {
       "output_type": "stream",
       "stream": "stdout",
       "text": [
        "\n",
        "error https://www.flickr.com/photos/75432530@N02/15641977907\n",
        "loaded photo"
       ]
      },
      {
       "output_type": "stream",
       "stream": "stdout",
       "text": [
        "\n",
        "https://www.flickr.com/photos/110624174@N02/15545420295\n",
        "loaded photo"
       ]
      },
      {
       "output_type": "stream",
       "stream": "stdout",
       "text": [
        "\n",
        "error https://www.flickr.com/photos/hasnaintahir/12414316895\n",
        "loaded photo"
       ]
      },
      {
       "output_type": "stream",
       "stream": "stdout",
       "text": [
        "\n",
        "https://www.flickr.com/photos/jond15/14576200526\n",
        "loaded photo"
       ]
      },
      {
       "output_type": "stream",
       "stream": "stdout",
       "text": [
        "\n",
        "https://www.flickr.com/photos/104046195@N04/10146639556\n",
        "loaded photo"
       ]
      },
      {
       "output_type": "stream",
       "stream": "stdout",
       "text": [
        "\n",
        "https://www.flickr.com/photos/99268402@N04/10354074504\n",
        "loaded photo"
       ]
      },
      {
       "output_type": "stream",
       "stream": "stdout",
       "text": [
        "\n",
        "https://www.flickr.com/photos/victormitri/10312179796\n",
        "loaded photo"
       ]
      },
      {
       "output_type": "stream",
       "stream": "stdout",
       "text": [
        "\n",
        "https://www.flickr.com/photos/greggybread/13454565365\n",
        "loaded photo"
       ]
      },
      {
       "output_type": "stream",
       "stream": "stdout",
       "text": [
        "\n",
        "error https://www.flickr.com/photos/75432530@N02/15828706162\n",
        "loaded photo"
       ]
      },
      {
       "output_type": "stream",
       "stream": "stdout",
       "text": [
        "\n",
        "https://www.flickr.com/photos/54894481@N04/10120511284\n",
        "loaded photo"
       ]
      },
      {
       "output_type": "stream",
       "stream": "stdout",
       "text": [
        "\n",
        "https://www.flickr.com/photos/peterderooij/12616119403\n",
        "loaded photo"
       ]
      },
      {
       "output_type": "stream",
       "stream": "stdout",
       "text": [
        "\n",
        "error https://www.flickr.com/photos/melvindejesus/10126797253\n",
        "loaded photo"
       ]
      },
      {
       "output_type": "stream",
       "stream": "stdout",
       "text": [
        "\n",
        "error https://www.flickr.com/photos/25562347@N00/13942857130\n",
        "loaded photo"
       ]
      },
      {
       "output_type": "stream",
       "stream": "stdout",
       "text": [
        "\n",
        "https://www.flickr.com/photos/76100871@N04/9096557468\n",
        "loaded photo"
       ]
      },
      {
       "output_type": "stream",
       "stream": "stdout",
       "text": [
        "\n",
        "error https://www.flickr.com/photos/carlospolo/10182906664\n",
        "loaded photo"
       ]
      },
      {
       "output_type": "stream",
       "stream": "stdout",
       "text": [
        "\n",
        "https://www.flickr.com/photos/deemac/10324601345\n",
        "loaded photo"
       ]
      },
      {
       "output_type": "stream",
       "stream": "stdout",
       "text": [
        "\n",
        "https://www.flickr.com/photos/derlevi/10220449794\n",
        "loaded photo"
       ]
      },
      {
       "output_type": "stream",
       "stream": "stdout",
       "text": [
        "\n",
        "https://www.flickr.com/photos/30087170@N00/10348278106\n",
        "loaded photo"
       ]
      },
      {
       "output_type": "stream",
       "stream": "stdout",
       "text": [
        "\n",
        "https://www.flickr.com/photos/kengoh8888/10157253733\n",
        "loaded photo"
       ]
      },
      {
       "output_type": "stream",
       "stream": "stdout",
       "text": [
        "\n",
        "https://www.flickr.com/photos/skytowerstudios/10279551513\n",
        "loaded photo"
       ]
      },
      {
       "output_type": "stream",
       "stream": "stdout",
       "text": [
        "\n",
        "https://www.flickr.com/photos/arnabkghosal/10223220063\n",
        "loaded photo"
       ]
      },
      {
       "output_type": "stream",
       "stream": "stdout",
       "text": [
        "\n",
        "https://www.flickr.com/photos/uri_nadav/10231044664\n",
        "loaded photo"
       ]
      },
      {
       "output_type": "stream",
       "stream": "stdout",
       "text": [
        "\n",
        "https://www.flickr.com/photos/bdphoto1/10509629643\n",
        "loaded photo"
       ]
      },
      {
       "output_type": "stream",
       "stream": "stdout",
       "text": [
        "\n",
        "https://www.flickr.com/photos/97510924@N04/10222590274\n",
        "loaded photo"
       ]
      },
      {
       "output_type": "stream",
       "stream": "stdout",
       "text": [
        "\n",
        "https://www.flickr.com/photos/bobdeinphoto/10555133366\n",
        "loaded photo"
       ]
      },
      {
       "output_type": "stream",
       "stream": "stdout",
       "text": [
        "\n",
        "https://www.flickr.com/photos/taulen/11938821415\n",
        "loaded photo"
       ]
      },
      {
       "output_type": "stream",
       "stream": "stdout",
       "text": [
        "\n",
        "https://www.flickr.com/photos/72213316@N00/10555095675\n",
        "loaded photo"
       ]
      },
      {
       "output_type": "stream",
       "stream": "stdout",
       "text": [
        "\n",
        "https://www.flickr.com/photos/42261589@N06/11011291683\n",
        "loaded photo"
       ]
      },
      {
       "output_type": "stream",
       "stream": "stdout",
       "text": [
        "\n",
        "https://www.flickr.com/photos/tnyzp/10149249123\n",
        "loaded photo"
       ]
      },
      {
       "output_type": "stream",
       "stream": "stdout",
       "text": [
        "\n",
        "https://www.flickr.com/photos/ajroder/10461009635\n",
        "loaded photo"
       ]
      },
      {
       "output_type": "stream",
       "stream": "stdout",
       "text": [
        "\n",
        "https://www.flickr.com/photos/jasmijnhormann/10386712144\n",
        "loaded photo"
       ]
      },
      {
       "output_type": "stream",
       "stream": "stdout",
       "text": [
        "\n",
        "https://www.flickr.com/photos/b-two/10447955355\n",
        "loaded photo"
       ]
      },
      {
       "output_type": "stream",
       "stream": "stdout",
       "text": [
        "\n",
        "https://www.flickr.com/photos/30087170@N00/10348290084\n",
        "loaded photo"
       ]
      },
      {
       "output_type": "stream",
       "stream": "stdout",
       "text": [
        "\n",
        "https://www.flickr.com/photos/nayeem_kalam/10569720023\n",
        "loaded photo"
       ]
      },
      {
       "output_type": "stream",
       "stream": "stdout",
       "text": [
        "\n",
        "https://www.flickr.com/photos/mariodanelli/10483014613\n",
        "loaded photo"
       ]
      },
      {
       "output_type": "stream",
       "stream": "stdout",
       "text": [
        "\n",
        "https://www.flickr.com/photos/8875581@N03/10404449254\n",
        "loaded photo"
       ]
      },
      {
       "output_type": "stream",
       "stream": "stdout",
       "text": [
        "\n",
        "https://www.flickr.com/photos/bettyfromtexas/10117476496\n",
        "loaded photo"
       ]
      },
      {
       "output_type": "stream",
       "stream": "stdout",
       "text": [
        "\n",
        "https://www.flickr.com/photos/faugel/10307648535\n",
        "loaded photo"
       ]
      },
      {
       "output_type": "stream",
       "stream": "stdout",
       "text": [
        "\n",
        "https://www.flickr.com/photos/lieerr/13783855745\n",
        "loaded photo"
       ]
      },
      {
       "output_type": "stream",
       "stream": "stdout",
       "text": [
        "\n",
        "https://www.flickr.com/photos/33556375@N05/10411272326\n",
        "loaded photo"
       ]
      },
      {
       "output_type": "stream",
       "stream": "stdout",
       "text": [
        "\n",
        "error https://www.flickr.com/photos/hervesifferlin/12504472424\n",
        "loaded photo"
       ]
      },
      {
       "output_type": "stream",
       "stream": "stdout",
       "text": [
        "\n",
        "error https://www.flickr.com/photos/111689184@N07/11409087133\n",
        "loaded photo"
       ]
      },
      {
       "output_type": "stream",
       "stream": "stdout",
       "text": [
        "\n",
        "https://www.flickr.com/photos/igor_isaychouk/10250209446\n",
        "loaded photo"
       ]
      },
      {
       "output_type": "stream",
       "stream": "stdout",
       "text": [
        "\n",
        "https://www.flickr.com/photos/davidcbox/10460839496\n",
        "loaded photo"
       ]
      },
      {
       "output_type": "stream",
       "stream": "stdout",
       "text": [
        "\n",
        "https://www.flickr.com/photos/23jc23/10097554243\n",
        "loaded photo"
       ]
      },
      {
       "output_type": "stream",
       "stream": "stdout",
       "text": [
        "\n",
        "https://www.flickr.com/photos/raulito39/10445512364\n",
        "loaded photo"
       ]
      },
      {
       "output_type": "stream",
       "stream": "stdout",
       "text": [
        "\n",
        "https://www.flickr.com/photos/emmaetlaphotographie/10154951066\n",
        "loaded photo"
       ]
      },
      {
       "output_type": "stream",
       "stream": "stdout",
       "text": [
        "\n",
        "https://www.flickr.com/photos/fobosobn55858/10447993405\n",
        "loaded photo"
       ]
      },
      {
       "output_type": "stream",
       "stream": "stdout",
       "text": [
        "\n",
        "https://www.flickr.com/photos/wahine_87/14480231552\n",
        "loaded photo"
       ]
      },
      {
       "output_type": "stream",
       "stream": "stdout",
       "text": [
        "\n",
        "https://www.flickr.com/photos/chrisandholley/10199947655\n",
        "loaded photo"
       ]
      },
      {
       "output_type": "stream",
       "stream": "stdout",
       "text": [
        "\n",
        "https://www.flickr.com/photos/macetrappedspace/10142996136\n",
        "loaded photo"
       ]
      },
      {
       "output_type": "stream",
       "stream": "stdout",
       "text": [
        "\n",
        "error https://www.flickr.com/photos/flickr/sets/72157639868074114/\n",
        "loaded photo"
       ]
      },
      {
       "output_type": "stream",
       "stream": "stdout",
       "text": [
        "\n",
        "https://www.flickr.com/photos/15077500@N00/10685879494\n",
        "loaded photo"
       ]
      },
      {
       "output_type": "stream",
       "stream": "stdout",
       "text": [
        "\n",
        "https://www.flickr.com/photos/30087170@N00/10348283156\n",
        "loaded photo"
       ]
      },
      {
       "output_type": "stream",
       "stream": "stdout",
       "text": [
        "\n",
        "https://www.flickr.com/photos/pharheen/10136813606\n",
        "loaded photo"
       ]
      },
      {
       "output_type": "stream",
       "stream": "stdout",
       "text": [
        "\n",
        "https://www.flickr.com/photos/scottstillman/10338622554\n",
        "loaded photo"
       ]
      },
      {
       "output_type": "stream",
       "stream": "stdout",
       "text": [
        "\n",
        "https://www.flickr.com/photos/dmd67/10490760875\n",
        "loaded photo"
       ]
      },
      {
       "output_type": "stream",
       "stream": "stdout",
       "text": [
        "\n",
        "https://www.flickr.com/photos/rsnguyen/10392733565\n",
        "loaded photo"
       ]
      },
      {
       "output_type": "stream",
       "stream": "stdout",
       "text": [
        "\n",
        "https://www.flickr.com/photos/88837985@N08/10120999203\n",
        "loaded photo"
       ]
      },
      {
       "output_type": "stream",
       "stream": "stdout",
       "text": [
        "\n",
        "https://www.flickr.com/photos/pitbuehler/13902446509\n",
        "loaded photo"
       ]
      },
      {
       "output_type": "stream",
       "stream": "stdout",
       "text": [
        "\n",
        "https://www.flickr.com/photos/redhead_and_wolf/10119975993\n",
        "loaded photo"
       ]
      },
      {
       "output_type": "stream",
       "stream": "stdout",
       "text": [
        "\n",
        "https://www.flickr.com/photos/mademoiselledurand/10089319293\n",
        "loaded photo"
       ]
      },
      {
       "output_type": "stream",
       "stream": "stdout",
       "text": [
        "\n",
        "https://www.flickr.com/photos/sajophoto/10312596883\n",
        "loaded photo"
       ]
      },
      {
       "output_type": "stream",
       "stream": "stdout",
       "text": [
        "\n",
        "https://www.flickr.com/photos/8636448@N04/10566163244\n",
        "loaded photo"
       ]
      },
      {
       "output_type": "stream",
       "stream": "stdout",
       "text": [
        "\n",
        "error https://www.flickr.com/photos/75432530@N02/15207821613\n",
        "loaded photo"
       ]
      },
      {
       "output_type": "stream",
       "stream": "stdout",
       "text": [
        "\n",
        "https://www.flickr.com/photos/raulito39/10189097736\n",
        "loaded photo"
       ]
      },
      {
       "output_type": "stream",
       "stream": "stdout",
       "text": [
        "\n",
        "https://www.flickr.com/photos/alexanderkuzmin/10402799383\n",
        "loaded photo"
       ]
      },
      {
       "output_type": "stream",
       "stream": "stdout",
       "text": [
        "\n",
        "https://www.flickr.com/photos/gisakadze/14579228525\n",
        "loaded photo"
       ]
      },
      {
       "output_type": "stream",
       "stream": "stdout",
       "text": [
        "\n",
        "https://www.flickr.com/photos/prasundutta/10355978234\n",
        "loaded photo"
       ]
      },
      {
       "output_type": "stream",
       "stream": "stdout",
       "text": [
        "\n",
        "https://www.flickr.com/photos/scottstillman/10338645426\n",
        "loaded photo"
       ]
      },
      {
       "output_type": "stream",
       "stream": "stdout",
       "text": [
        "\n",
        "https://www.flickr.com/photos/101661676@N03/10174104536\n",
        "loaded photo"
       ]
      },
      {
       "output_type": "stream",
       "stream": "stdout",
       "text": [
        "\n",
        "https://www.flickr.com/photos/russellcardwell/10508152873\n",
        "loaded photo"
       ]
      },
      {
       "output_type": "stream",
       "stream": "stdout",
       "text": [
        "\n",
        "https://www.flickr.com/photos/frankdohle/10116287505\n",
        "loaded photo"
       ]
      },
      {
       "output_type": "stream",
       "stream": "stdout",
       "text": [
        "\n",
        "error https://www.flickr.com/photos/pharheen/10442396284\n",
        "loaded photo"
       ]
      },
      {
       "output_type": "stream",
       "stream": "stdout",
       "text": [
        "\n",
        "https://www.flickr.com/photos/laughytaffy/10150158593\n",
        "loaded photo"
       ]
      },
      {
       "output_type": "stream",
       "stream": "stdout",
       "text": [
        "\n",
        "https://www.flickr.com/photos/kevyang15/10965351685\n",
        "loaded photo"
       ]
      },
      {
       "output_type": "stream",
       "stream": "stdout",
       "text": [
        "\n",
        "https://www.flickr.com/photos/miquelgp/14980801656\n",
        "loaded photo"
       ]
      },
      {
       "output_type": "stream",
       "stream": "stdout",
       "text": [
        "\n",
        "https://www.flickr.com/photos/oliap/10456009543\n",
        "loaded photo"
       ]
      },
      {
       "output_type": "stream",
       "stream": "stdout",
       "text": [
        "\n",
        "https://www.flickr.com/photos/sajophoto/10312473535\n",
        "loaded photo"
       ]
      },
      {
       "output_type": "stream",
       "stream": "stdout",
       "text": [
        "\n",
        "https://www.flickr.com/photos/rajesh_taylor_photography/10342295344\n",
        "loaded photo"
       ]
      },
      {
       "output_type": "stream",
       "stream": "stdout",
       "text": [
        "\n",
        "https://www.flickr.com/photos/mwrightphotography93/10322235945\n",
        "loaded photo"
       ]
      },
      {
       "output_type": "stream",
       "stream": "stdout",
       "text": [
        "\n",
        "https://www.flickr.com/photos/108126973@N02/10755544764\n",
        "loaded photo"
       ]
      },
      {
       "output_type": "stream",
       "stream": "stdout",
       "text": [
        "\n",
        "https://www.flickr.com/photos/101661676@N03/12479809464\n",
        "loaded photo"
       ]
      },
      {
       "output_type": "stream",
       "stream": "stdout",
       "text": [
        "\n",
        "https://www.flickr.com/photos/lookupinwonder/3237348776\n",
        "loaded photo"
       ]
      },
      {
       "output_type": "stream",
       "stream": "stdout",
       "text": [
        "\n",
        "https://www.flickr.com/photos/pharheen/10345639424\n",
        "loaded photo"
       ]
      },
      {
       "output_type": "stream",
       "stream": "stdout",
       "text": [
        "\n",
        "https://www.flickr.com/photos/philip_van_ootegem/10509515993\n",
        "loaded photo"
       ]
      },
      {
       "output_type": "stream",
       "stream": "stdout",
       "text": [
        "\n",
        "https://www.flickr.com/photos/moracha/10346564306\n",
        "loaded photo"
       ]
      },
      {
       "output_type": "stream",
       "stream": "stdout",
       "text": [
        "\n",
        "https://www.flickr.com/photos/tuansnv/10205002016\n",
        "loaded photo"
       ]
      },
      {
       "output_type": "stream",
       "stream": "stdout",
       "text": [
        "\n",
        "https://www.flickr.com/photos/oldbearchris/10060392546\n",
        "loaded photo"
       ]
      },
      {
       "output_type": "stream",
       "stream": "stdout",
       "text": [
        "\n",
        "https://www.flickr.com/photos/simonashmore/10367357256\n",
        "loaded photo"
       ]
      },
      {
       "output_type": "stream",
       "stream": "stdout",
       "text": [
        "\n",
        "https://www.flickr.com/photos/neilmoralee/10579792984\n",
        "loaded photo"
       ]
      },
      {
       "output_type": "stream",
       "stream": "stdout",
       "text": [
        "\n",
        "https://www.flickr.com/photos/97510924@N04/10222780413\n",
        "loaded photo"
       ]
      },
      {
       "output_type": "stream",
       "stream": "stdout",
       "text": [
        "\n",
        "error https://www.flickr.com/photos/125430417@N02/14657508196\n",
        "loaded photo"
       ]
      },
      {
       "output_type": "stream",
       "stream": "stdout",
       "text": [
        "\n",
        "https://www.flickr.com/photos/smittix/10805373653\n",
        "loaded photo"
       ]
      },
      {
       "output_type": "stream",
       "stream": "stdout",
       "text": [
        "\n",
        "error https://www.flickr.com/photos/75432530@N02/15828645722\n",
        "loaded photo"
       ]
      },
      {
       "output_type": "stream",
       "stream": "stdout",
       "text": [
        "\n",
        "error https://www.flickr.com/photos/92527241@N07/10491657804\n",
        "loaded photo"
       ]
      },
      {
       "output_type": "stream",
       "stream": "stdout",
       "text": [
        "\n",
        "https://www.flickr.com/photos/nicogovoni/10377114565\n",
        "loaded photo"
       ]
      },
      {
       "output_type": "stream",
       "stream": "stdout",
       "text": [
        "\n",
        "https://www.flickr.com/photos/jonathangoehler/10089173704\n",
        "loaded photo"
       ]
      },
      {
       "output_type": "stream",
       "stream": "stdout",
       "text": [
        "\n",
        "https://www.flickr.com/photos/92250809@N04/12083847326\n",
        "loaded photo"
       ]
      },
      {
       "output_type": "stream",
       "stream": "stdout",
       "text": [
        "\n",
        "https://www.flickr.com/photos/92576665@N02/10718346116\n",
        "loaded photo"
       ]
      },
      {
       "output_type": "stream",
       "stream": "stdout",
       "text": [
        "\n",
        "https://www.flickr.com/photos/natali_antonovich/11044392253\n",
        "loaded photo"
       ]
      },
      {
       "output_type": "stream",
       "stream": "stdout",
       "text": [
        "\n",
        "https://www.flickr.com/photos/klois69/12675557884\n",
        "loaded photo"
       ]
      },
      {
       "output_type": "stream",
       "stream": "stdout",
       "text": [
        "\n",
        "error https://www.flickr.com/photos/blairweidman/10499227833\n",
        "loaded photo"
       ]
      },
      {
       "output_type": "stream",
       "stream": "stdout",
       "text": [
        "\n",
        "https://www.flickr.com/photos/nicouze/10317010726\n",
        "loaded photo"
       ]
      },
      {
       "output_type": "stream",
       "stream": "stdout",
       "text": [
        "\n",
        "https://www.flickr.com/photos/mitch2388/10441832694\n",
        "loaded photo"
       ]
      },
      {
       "output_type": "stream",
       "stream": "stdout",
       "text": [
        "\n",
        "error https://www.flickr.com/photos/75432530@N02/15207108234\n",
        "loaded photo"
       ]
      },
      {
       "output_type": "stream",
       "stream": "stdout",
       "text": [
        "\n",
        "https://www.flickr.com/photos/arsgera/12031871173\n",
        "loaded photo"
       ]
      },
      {
       "output_type": "stream",
       "stream": "stdout",
       "text": [
        "\n",
        "https://www.flickr.com/photos/bobdeinphoto/10534088136\n",
        "loaded photo"
       ]
      },
      {
       "output_type": "stream",
       "stream": "stdout",
       "text": [
        "\n",
        "https://www.flickr.com/photos/framptop/10101169414\n",
        "loaded photo"
       ]
      },
      {
       "output_type": "stream",
       "stream": "stdout",
       "text": [
        "\n",
        "https://www.flickr.com/photos/cyndisuewho/10170289096\n",
        "loaded photo"
       ]
      },
      {
       "output_type": "stream",
       "stream": "stdout",
       "text": [
        "\n",
        "https://www.flickr.com/photos/oh_george/10529040774\n",
        "loaded photo"
       ]
      },
      {
       "output_type": "stream",
       "stream": "stdout",
       "text": [
        "\n",
        "https://www.flickr.com/photos/malhawash/10162031763\n",
        "loaded photo"
       ]
      },
      {
       "output_type": "stream",
       "stream": "stdout",
       "text": [
        "\n",
        "https://www.flickr.com/photos/buddhadog/10238273544\n",
        "loaded photo"
       ]
      },
      {
       "output_type": "stream",
       "stream": "stdout",
       "text": [
        "\n",
        "https://www.flickr.com/photos/jonashellsen/10390328765\n",
        "loaded photo"
       ]
      },
      {
       "output_type": "stream",
       "stream": "stdout",
       "text": [
        "\n",
        "https://www.flickr.com/photos/grauwinkel-photography/13338064794\n"
       ]
      }
     ],
     "prompt_number": 55
    },
    {
     "cell_type": "code",
     "collapsed": false,
     "input": [
      "#results"
     ],
     "language": "python",
     "metadata": {},
     "outputs": [],
     "prompt_number": 45
    },
    {
     "cell_type": "code",
     "collapsed": false,
     "input": [
      "print len(results)"
     ],
     "language": "python",
     "metadata": {},
     "outputs": [
      {
       "output_type": "stream",
       "stream": "stdout",
       "text": [
        "224\n"
       ]
      }
     ],
     "prompt_number": 44
    },
    {
     "cell_type": "code",
     "collapsed": false,
     "input": [
      "136 + 224"
     ],
     "language": "python",
     "metadata": {},
     "outputs": [
      {
       "metadata": {},
       "output_type": "pyout",
       "prompt_number": 46,
       "text": [
        "360"
       ]
      }
     ],
     "prompt_number": 46
    },
    {
     "cell_type": "markdown",
     "metadata": {},
     "source": [
      "## Add to MongoDB"
     ]
    },
    {
     "cell_type": "code",
     "collapsed": false,
     "input": [
      "from pymongo import MongoClient"
     ],
     "language": "python",
     "metadata": {},
     "outputs": [],
     "prompt_number": 47
    },
    {
     "cell_type": "code",
     "collapsed": false,
     "input": [
      "client = MongoClient('localhost',27017)\n",
      "db = client.flickrPhotoURLs\n",
      "posts = db.posts\n",
      "dates = startDate + \"-\" + endDate"
     ],
     "language": "python",
     "metadata": {},
     "outputs": [],
     "prompt_number": 48
    },
    {
     "cell_type": "code",
     "collapsed": false,
     "input": [
      "for link in results:\n",
      "    posts.insert({\"name\":link[1].strip(\"https://farm7.staticflickr.com/\"),\"pageLink\":link[0],\"link\":link[1],\"views\":link[2],\"comments\":link[3],\"faves\":link[4],\"dateRange\":dates})"
     ],
     "language": "python",
     "metadata": {},
     "outputs": [],
     "prompt_number": 49
    },
    {
     "cell_type": "code",
     "collapsed": false,
     "input": [
      "#db.posts.remove( { } )"
     ],
     "language": "python",
     "metadata": {},
     "outputs": [],
     "prompt_number": 33
    },
    {
     "cell_type": "code",
     "collapsed": false,
     "input": [
      "list(posts.find({}).limit(5))"
     ],
     "language": "python",
     "metadata": {},
     "outputs": [
      {
       "metadata": {},
       "output_type": "pyout",
       "prompt_number": 50,
       "text": [
        "[{u'_id': ObjectId('5488aa681c664206336d135a'),\n",
        "  u'comments': 12,\n",
        "  u'dateRange': u'20131201-20131231',\n",
        "  u'faves': 39,\n",
        "  u'link': u'https://farm6.staticflickr.com/5535/11633698783_23f326822a_z.jpg',\n",
        "  u'name': u'6.staticflickr.com/5535/11633698783_23f326822a_z.jpg',\n",
        "  u'pageLink': u'https://www.flickr.com/photos/fotografofreelance81/11633698783',\n",
        "  u'views': 8046},\n",
        " {u'_id': ObjectId('5488aa681c664206336d135b'),\n",
        "  u'comments': 33,\n",
        "  u'dateRange': u'20131201-20131231',\n",
        "  u'faves': 50,\n",
        "  u'link': u'https://farm6.staticflickr.com/5508/11345377226_314e098c3a_z.jpg',\n",
        "  u'name': u'6.staticflickr.com/5508/11345377226_314e098c3a_z.jpg',\n",
        "  u'pageLink': u'https://www.flickr.com/photos/rachid_naim/11345377226',\n",
        "  u'views': 5668},\n",
        " {u'_id': ObjectId('5488aa681c664206336d135c'),\n",
        "  u'comments': 12,\n",
        "  u'dateRange': u'20131201-20131231',\n",
        "  u'faves': 29,\n",
        "  u'link': u'https://farm8.staticflickr.com/7327/14130404405_a88619713d_z.jpg',\n",
        "  u'name': u'8.staticflickr.com/7327/14130404405_a88619713d_z.jpg',\n",
        "  u'pageLink': u'https://www.flickr.com/photos/ichauvel/14130404405',\n",
        "  u'views': 5293},\n",
        " {u'_id': ObjectId('5488aa681c664206336d135d'),\n",
        "  u'comments': 4,\n",
        "  u'dateRange': u'20131201-20131231',\n",
        "  u'faves': 13,\n",
        "  u'link': u'https://farm8.staticflickr.com/7405/11575548475_9516d4a16a_z.jpg',\n",
        "  u'name': u'8.staticflickr.com/7405/11575548475_9516d4a16a_z.jpg',\n",
        "  u'pageLink': u'https://www.flickr.com/photos/jdpphoto/11575548475',\n",
        "  u'views': 11455},\n",
        " {u'_id': ObjectId('5488aa681c664206336d135e'),\n",
        "  u'comments': 4,\n",
        "  u'dateRange': u'20131201-20131231',\n",
        "  u'faves': 12,\n",
        "  u'link': u'https://farm6.staticflickr.com/5492/11295577283_c6767598a2_z.jpg',\n",
        "  u'name': u'6.staticflickr.com/5492/11295577283_c6767598a2_z.jpg',\n",
        "  u'pageLink': u'https://www.flickr.com/photos/auvidis/11295577283',\n",
        "  u'views': 1573}]"
       ]
      }
     ],
     "prompt_number": 50
    },
    {
     "cell_type": "code",
     "collapsed": false,
     "input": [],
     "language": "python",
     "metadata": {},
     "outputs": []
    }
   ],
   "metadata": {}
  }
 ]
}