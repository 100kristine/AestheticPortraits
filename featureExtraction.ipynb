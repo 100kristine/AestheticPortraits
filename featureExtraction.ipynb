{
 "metadata": {
  "name": "",
  "signature": "sha256:70d4e2bbdcbb75457174aa49db09b14805241953ad256642a97336168e94d4d4"
 },
 "nbformat": 3,
 "nbformat_minor": 0,
 "worksheets": [
  {
   "cells": [
    {
     "cell_type": "code",
     "collapsed": false,
     "input": [
      "from __future__ import division\n",
      "import cv2,os,cv,random,math\n",
      "import matplotlib.pyplot as plt\n",
      "from scipy import misc,ndimage\n",
      "from skimage.filter.rank import entropy\n",
      "from skimage.morphology import disk\n",
      "from scipy.misc import imread,imshow\n",
      "from matplotlib.patches import Rectangle\n",
      "import numpy as np\n",
      "from skimage.color import rgb2gray\n",
      "import pywt,pickle\n",
      "import matplotlib.cm as cm\n",
      "from sklearn import preprocessing\n",
      "from collections import defaultdict"
     ],
     "language": "python",
     "metadata": {},
     "outputs": [],
     "prompt_number": 2
    },
    {
     "cell_type": "markdown",
     "metadata": {},
     "source": [
      "## Global Features\n",
      "- Gist? \n",
      "- Saturation\n",
      "- Color Histogram\n",
      "- wavelets\n",
      "## Local Features\n",
      "- Background Samples (4 ?)\n",
      "- Eyes\n",
      "- Face\n",
      "- Below eyes \n",
      "\n",
      "For each local feature, get Saturation, histogram, wavelets, etc?\n",
      "\n",
      "- For wavelets: \n",
      "- get high, low, mid frequencies"
     ]
    },
    {
     "cell_type": "markdown",
     "metadata": {},
     "source": [
      "## Load default classifiers"
     ]
    },
    {
     "cell_type": "code",
     "collapsed": false,
     "input": [
      "haar = \"/Users/Artemis/anaconda/pkgs/opencv-2.4.8-np17py27_2/share/OpenCV/haarcascades/\"\n",
      "face = cv2.CascadeClassifier(haar + \"haarcascade_frontalface_default.xml\")\n",
      "faceAlt = cv2.CascadeClassifier(haar + \"haarcascade_frontalface_alt.xml\")\n",
      "profile = cv2.CascadeClassifier(haar + \"haarcascade_profileface.xml\")\n",
      "eye = cv2.CascadeClassifier(haar + \"haarcascade_eye.xml\")\n",
      "leftEye = cv2.CascadeClassifier(haar + \"haarcascade_mcs_lefteye.xml\")\n",
      "rightEye = cv2.CascadeClassifier(haar + \"haarcascade_mcs_righteye.xml\")\n",
      "smile = cv2.CascadeClassifier(haar + \"haarcascade_smile.xml\")\n",
      "nose = cv2.CascadeClassifier(haar + \"haarcascade_mcs_nose.xml\")"
     ],
     "language": "python",
     "metadata": {},
     "outputs": [],
     "prompt_number": 3
    },
    {
     "cell_type": "markdown",
     "metadata": {},
     "source": [
      "## Face/Feature Detection \n",
      "\n",
      "1. Check that there is a face\n",
      "2. If so, check that there are eyes.\n",
      "3. Use grabcut to extract face, protecting the eyes\n",
      "4. Use grabcut to extract eyes"
     ]
    },
    {
     "cell_type": "code",
     "collapsed": false,
     "input": [
      "#Face and Eye Detection\n",
      "\n",
      "def findRects(classifier,im):\n",
      "    #Return rectangles that find elements in image\n",
      "    return classifier.detectMultiScale(im,1.3,1)\n",
      "\n",
      "def getXEnd(rect):\n",
      "    return rect[0] + rect[2] # x + width\n",
      "\n",
      "def getYEnd(rect):\n",
      "    return rect[1] + rect[3] # y + height\n",
      "\n",
      "def getArea(rect):\n",
      "    return rect[2]*rect[3]\n",
      "\n",
      "def center(rect):\n",
      "    return (((rect[0] + getXEnd(rect))/2),((rect[1] + getYEnd(rect))/2))\n",
      "\n",
      "def euclidean(pt1,pt2):\n",
      "    return math.sqrt(((pt1[0]-pt2[0])**2)+((pt1[1]-pt2[1])**2))\n",
      "\n",
      "def getClosest2(lst,lst2,n=2):\n",
      "    \"\"\" \n",
      "    >>> getClosest2([3,1,2,4],[1,2,3,4],n=2)\n",
      "    [1, 4]\n",
      "    \"\"\"\n",
      "    v = lst[:]\n",
      "    v.sort()\n",
      "    return [lst2[lst.index(i)] for i in v[:n]]\n",
      "\n",
      "def contains(bigRect,littleRect):\n",
      "    #Checks if little rectangle is inside the big one, use to see if eyes are in face box\n",
      "    xRange = xrange(bigRect[0],getXEnd(bigRect))\n",
      "    yRange = xrange(bigRect[1],getYEnd(bigRect))\n",
      "    return (littleRect[0] in xRange) and (getXEnd(littleRect) in xRange) and\\\n",
      "(littleRect[1] in yRange) and (getYEnd(littleRect) in yRange)\n",
      "\n",
      "def findEyes(im,faces):\n",
      "    #Avoid false detection of eyes, very common\n",
      "    #faces = findRects(face,im)\n",
      "    trueEyes =[]\n",
      "    if len(faces) > 0:\n",
      "        eyes = findRects(eye,im)\n",
      "        for i in eyes:\n",
      "            if contains(faces[0],i):\n",
      "                trueEyes += [i]\n",
      "    \n",
      "    if len(trueEyes) > 2: #Sometimes multiple eyes are in bounding box\n",
      "        pruned = []\n",
      "        for item in trueEyes:\n",
      "            pruned.append(euclidean(center(faces[0]),center(item)))\n",
      "        return getClosest2(pruned,trueEyes)\n",
      "    return None\n",
      "\n",
      "def eyeMask(im,rects,visualize=False):\n",
      "    \"\"\" Mask all areas in the rectangles with a 1\n",
      "    \"\"\"\n",
      "    mask = np.zeros(im.shape,np.uint8)\n",
      "    for rect in rects:\n",
      "        mask[rect[1]:rect[1]+rect[3],rect[0]:rect[0]+rect[2]] = 255\n",
      "    if visualize:\n",
      "        plt.imshow(mask)\n",
      "        plt.show()\n",
      "    return mask[:,:,1]\n",
      "\n",
      "def getTopLeft(im,rect):\n",
      "    #Returns as (x,y,w,h)\n",
      "    return (0,0,rect[0],rect[1])\n",
      "\n",
      "def getTopRight(im,rect):\n",
      "    end = getXEnd(rect)\n",
      "    return (end,0,im.shape[1]-end,rect[1])\n",
      "\n",
      "def getBottomRight(im,rect):\n",
      "    endX = getXEnd(rect)\n",
      "    endY = getYEnd(rect)\n",
      "    return (endX,endY,im.shape[1] - endX,im.shape[0] - endY)\n",
      "\n",
      "def getBottomLeft(im,rect):\n",
      "    end = getYEnd(rect)\n",
      "    return (0,end,rect[0],im.shape[0]-end)\n",
      "\n",
      "def getCorners(im,rect):\n",
      "    #Top left, top right, bottom right, bottom left, clockwise\n",
      "    lst = getTopLeft(im,rect),getTopRight(im,rect),getBottomRight(im,rect),getBottomLeft(im,rect)\n",
      "    return cropRects(lst,im)"
     ],
     "language": "python",
     "metadata": {},
     "outputs": [],
     "prompt_number": 4
    },
    {
     "cell_type": "code",
     "collapsed": false,
     "input": [
      "im = cv2.imread(\"./hires.jpg\",cv2.COLOR_BGR2GRAY) #use this this as the test image"
     ],
     "language": "python",
     "metadata": {},
     "outputs": [],
     "prompt_number": 5
    },
    {
     "cell_type": "code",
     "collapsed": false,
     "input": [
      "rects = findRects(face,im)\n",
      "back = getBackgroundSample(rects,im)\n",
      "fore = cropRects(rects,im)\n",
      "visualizeRects(rects,im)"
     ],
     "language": "python",
     "metadata": {},
     "outputs": [
      {
       "ename": "NameError",
       "evalue": "name 'getBackgroundSample' is not defined",
       "output_type": "pyerr",
       "traceback": [
        "\u001b[0;31m---------------------------------------------------------------------------\u001b[0m\n\u001b[0;31mNameError\u001b[0m                                 Traceback (most recent call last)",
        "\u001b[0;32m<ipython-input-6-625c5757d2b1>\u001b[0m in \u001b[0;36m<module>\u001b[0;34m()\u001b[0m\n\u001b[1;32m      1\u001b[0m \u001b[0mrects\u001b[0m \u001b[0;34m=\u001b[0m \u001b[0mfindRects\u001b[0m\u001b[0;34m(\u001b[0m\u001b[0mface\u001b[0m\u001b[0;34m,\u001b[0m\u001b[0mim\u001b[0m\u001b[0;34m)\u001b[0m\u001b[0;34m\u001b[0m\u001b[0m\n\u001b[0;32m----> 2\u001b[0;31m \u001b[0mback\u001b[0m \u001b[0;34m=\u001b[0m \u001b[0mgetBackgroundSample\u001b[0m\u001b[0;34m(\u001b[0m\u001b[0mrects\u001b[0m\u001b[0;34m,\u001b[0m\u001b[0mim\u001b[0m\u001b[0;34m)\u001b[0m\u001b[0;34m\u001b[0m\u001b[0m\n\u001b[0m\u001b[1;32m      3\u001b[0m \u001b[0mfore\u001b[0m \u001b[0;34m=\u001b[0m \u001b[0mcropRects\u001b[0m\u001b[0;34m(\u001b[0m\u001b[0mrects\u001b[0m\u001b[0;34m,\u001b[0m\u001b[0mim\u001b[0m\u001b[0;34m)\u001b[0m\u001b[0;34m\u001b[0m\u001b[0m\n\u001b[1;32m      4\u001b[0m \u001b[0mvisualizeRects\u001b[0m\u001b[0;34m(\u001b[0m\u001b[0mrects\u001b[0m\u001b[0;34m,\u001b[0m\u001b[0mim\u001b[0m\u001b[0;34m)\u001b[0m\u001b[0;34m\u001b[0m\u001b[0m\n",
        "\u001b[0;31mNameError\u001b[0m: name 'getBackgroundSample' is not defined"
       ]
      }
     ],
     "prompt_number": 6
    },
    {
     "cell_type": "code",
     "collapsed": false,
     "input": [
      "def inFace(face,eye):\n",
      "    return  face[0] <= eye[0] and (eye[0] <= face[0] + face[2]) and face[1] <= eye[1] and eye[1] <= (face[1] + face[3])\n",
      "\n",
      "def selectFace(im):\n",
      "    faces = findRects(face,im)\n",
      "    if faces is None:\n",
      "        return faces\n",
      "    if len(faces) > 1:\n",
      "        sizes = [f[2]*f[3] for f in faces]\n",
      "        faces = [faces[sizes.index(max(sizes))]]\n",
      "    return faces\n",
      "\n",
      "def closestY(rects):\n",
      "    #Return rects with closest aligned on y axis\n",
      "    distances = []\n",
      "    rects = list(rects)\n",
      "    for j in range(len(rects)):\n",
      "        for i in range(len(rects)):\n",
      "            if i != j:\n",
      "                distances.append((abs(rects[j][1]-rects[i][1]),j,i))\n",
      "    distances.sort()\n",
      "    top = distances[0]\n",
      "    return (rects[top[1]],rects[top[2]])\n",
      "\n",
      "def extractFaceandEyes(im):\n",
      "    \"\"\">>> faces,eyes,faceCut,eyesCut = extractFaceandEyes(im)\"\"\"\n",
      "    faces = selectFace(im)\n",
      "    if faces is not None: \n",
      "        #faceCut = runGrabCut(im,faces,visualize=False)\n",
      "        #visualizeRects([faces[0]],im)\n",
      "        eyes = findRects(eye,im)\n",
      "        if eyes is not None:\n",
      "            eyes = [rect for rect in eyes if inFace(faces[0],rect)] \n",
      "            if len(eyes) >= 3:\n",
      "                eyes = closestY(eyes)\n",
      "            if len(eyes) == 2:\n",
      "                #visualizeRects(eyes,im)\n",
      "                return [faces[0]],eyes,cropRects([faces[0]],im),cropRects(eyes,im)\n",
      "    return None"
     ],
     "language": "python",
     "metadata": {},
     "outputs": [],
     "prompt_number": 7
    },
    {
     "cell_type": "code",
     "collapsed": false,
     "input": [
      "#Crop out elements of the face\n",
      "\n",
      "def visualizeRects(rects,im):\n",
      "    for (x,y,w,h) in rects:\n",
      "        #plt.Rectangle(im,(x,y),(x+w,y+h),(255,0,0),2)\n",
      "        plt.gca().add_patch(Rectangle((x,y), w,h, alpha=1, facecolor='none'))\n",
      "        r_color = im[y:y+h, x:x+w]\n",
      "    showCVim(im)\n",
      "    return \n",
      "\n",
      "def getBackgroundSample(rects,im):\n",
      "    #Gets a small rectangle from left corner of image\n",
      "    (x,y,w,h) = rects[0]\n",
      "    return #(0,0,x-10,y-10) #im[0:x-10,0:y-10] #crude, fix later\n",
      "\n",
      "def cropRects(rects,im):\n",
      "    #return segments containing area within rectangle\n",
      "    segments = []\n",
      "    for (x,y,w,h) in rects:\n",
      "        segments.append(im[y:y+h+1,x:x+w+1])\n",
      "    return segments\n",
      "\n",
      "def getHistogram(im,show=True):\n",
      "    hist = cv2.calcHist([im],[0],None,[256],[0,256])\n",
      "    if show:\n",
      "        plt.hist(im.ravel(),256,[0,256])\n",
      "    return hist\n",
      "\n",
      "def runGrabCut(im,rects,face=True,visualize=True): \n",
      "    #Uses first rectangle as the background sample\n",
      "    #rects = findRects(eye,im)\n",
      "   \n",
      "    #mask[newmask == 0] = 0 \n",
      "    #mask[newmask == 255] = 1 white (sure foreground), change mask=1\n",
      "\n",
      "    #backgroundRect = (x,y,w,h)\n",
      "    backgroundRect = getBackgroundSample(rects,im)\n",
      "    mask = np.zeros(im.shape[:2],np.uint8) \n",
      "    \n",
      "    #if face: #protect eyes\n",
      "    #    protected = eyeMask(im,eyes,False)\n",
      "    #    mask[np.where(protected == 255)] = 1\n",
      "        \n",
      "    cv2.grabCut(im,mask,tuple(rects[0]),np.zeros((1,65),np.float64),np.zeros((1,65),np.float64),5,cv2.GC_INIT_WITH_RECT)\n",
      "    mask2 = np.where((mask==1)|(mask==0),0,1).astype('uint8')\n",
      "\n",
      "    imcut = im*mask2[:,:,np.newaxis]\n",
      "    \n",
      "    if visualize:\n",
      "        plt.subplot(211),plt.imshow(im)\n",
      "        plt.subplot(212),plt.imshow(imcut)\n",
      "        plt.show()\n",
      "    return imcut\n",
      "\n",
      "#runGrabCut(im,rects,eyes,face=True,visualize=True)"
     ],
     "language": "python",
     "metadata": {},
     "outputs": [],
     "prompt_number": 12
    },
    {
     "cell_type": "code",
     "collapsed": false,
     "input": [
      "def getImageFiles():\n",
      "    return os.listdir('./Images/')\n",
      "\n",
      "def loadIm(name):\n",
      "    return imread('./Images/'+name)\n",
      "\n",
      "def getRandomSample(n=5):\n",
      "    files = getImageFiles()\n",
      "    return [imread('./Images/'+files[random.randint(0,len(files))]) for i in range(n)]\n",
      "    #return [files[random.randint(0,len(files))] for i in range(n)]\n",
      "\n",
      "def showCVim(im):\n",
      "    \"\"\" >>> cv2.imread(\"./hires.jpg\") \"\"\"\n",
      "    b,g,r = cv2.split(im)       # get b,g,r\n",
      "    rgb_img = cv2.merge([r,g,b])\n",
      "    plt.imshow(rgb_img)\n",
      "    plt.show()\n",
      "    return #cv2.cvtColor(image, cv2.COLOR_BGR2RGB)"
     ],
     "language": "python",
     "metadata": {},
     "outputs": [],
     "prompt_number": 9
    },
    {
     "cell_type": "code",
     "collapsed": false,
     "input": [
      "def getWaveletCoeffs(patch):\n",
      "    \"\"\"Patch needs to be grayscale ie rgb2gray\n",
      "    >>> cA,cD = getWaveletCoeffs(ex)\n",
      "    \"\"\"\n",
      "    reshaped = patch.reshape(1,patch.shape[0]*patch.shape[1])\n",
      "    cA, cD  = pywt.dwt(reshaped[0],'db2')\n",
      "    return cA,cD\n",
      "\n",
      "\n",
      "def getPatchStatistics(lst):\n",
      "    \"\"\" >>> stDev, mean, max, min\n",
      "    \"\"\"\n",
      "    return np.std(lst),np.mean(lst),np.max(lst),np.min(lst)\n",
      "\n",
      "def getBands(patch):\n",
      "    high = ndimage.filters.laplace(patch)\n",
      "    mid = ndimage.gaussian_filter(patch,1)\n",
      "    low = ndimage.gaussian_filter(patch,2)\n",
      "    return high,mid,low\n",
      "\n",
      "def statsAllBands(patch):\n",
      "    \"\"\"Calls getPatch statistics for low,mid, and high frequencies in the 3 bands of image\n",
      "    >>> stats = statsAllBands(ex) s\"\"\"\n",
      "    high,mid,low = getBands(patch)\n",
      "    res = []\n",
      "    for band in [high,mid,low]:\n",
      "        cA,cD = getWaveletCoeffs(band)\n",
      "        res += getPatchStatistics(cA)\n",
      "        res += getPatchStatistics(cD)\n",
      "    return res"
     ],
     "language": "python",
     "metadata": {},
     "outputs": [],
     "prompt_number": 10
    },
    {
     "cell_type": "code",
     "collapsed": false,
     "input": [
      "def getEntropy(patch):\n",
      "    return entropy(patch,disk(5))\n",
      "\n",
      "def getNormalizedEntHist(im):\n",
      "    #hist = np.histogram(getEntropy(rgb2gray(im)),10)\n",
      "    return list(np.histogram(getEntropy(rgb2gray(im)),10)[0])\n",
      "\n",
      "def getColorHist(im):\n",
      "    #im should be in color\n",
      "    return list(cv2.calcHist([im],[0,1,2],None,[4,4,4],[0,256,0,256,0,256]).flatten())\n",
      "\n",
      "def normalize(arr):\n",
      "    return (arr-np.mean(arr))/np.std(arr)\n",
      "\n",
      "def rescale(arr):\n",
      "    return (arr - np.min(arr))/(np.max(arr)-np.min(arr))\n",
      "\n",
      "def preprocess(arr):\n",
      "    return preprocessing.scale(arr.astype(float))"
     ],
     "language": "python",
     "metadata": {},
     "outputs": [],
     "prompt_number": 13
    },
    {
     "cell_type": "code",
     "collapsed": false,
     "input": [],
     "language": "python",
     "metadata": {},
     "outputs": [],
     "prompt_number": 13
    },
    {
     "cell_type": "code",
     "collapsed": false,
     "input": [
      "def getFeatures(im,imName):\n",
      "    features = []\n",
      "    try:\n",
      "        faces,eyes,faceCut,eyesCut = extractFaceandEyes(im)\n",
      "    except:\n",
      "        \"Not found\"\n",
      "        return None\n",
      "    if faces is not None and eyes is not None:\n",
      "        features = []\n",
      "        features += getNormalizedEntHist(im)\n",
      "        corners = getCorners(im,faces[0])\n",
      "        features += statsAllBands(rgb2gray(faceCut[0]))\n",
      "        features += statsAllBands(rgb2gray(eyesCut[0]))\n",
      "        features += getColorHist(faceCut[0])\n",
      "        features += getNormalizedEntHist(rgb2gray(eyesCut[0]))\n",
      "        #visualizeRects(faces,im)\n",
      "        for corner in corners:\n",
      "            try:\n",
      "                features += statsAllBands(rgb2gray(corner))\n",
      "                features += getColorHist(corner)\n",
      "                features += getNormalizedEntHist(rgb2gray(corner))\n",
      "            except:\n",
      "                print \"Error in corners\"\n",
      "                return None\n",
      "        return features\n",
      "    return None"
     ],
     "language": "python",
     "metadata": {},
     "outputs": [],
     "prompt_number": 14
    },
    {
     "cell_type": "code",
     "collapsed": false,
     "input": [
      "#Labels can be:\n",
      "# - number of views \n",
      "# - faves/views\n",
      "# - comments/views\n",
      "\n",
      "def loadFeatures():\n",
      "    designMat,labelInfo,names = [],[],[]\n",
      "    samples = getImageFiles()\n",
      "    #samples = getRandomSample(n=5)\n",
      "    mongoDB = loadMongo()\n",
      "    for sample in samples:\n",
      "        try:\n",
      "            features = getFeatures(loadIm(sample),sample)\n",
      "            if features is not None:\n",
      "                designMat.append(features)\n",
      "                labelInfo.append([mongoDB[sample]['views'],mongoDB[sample]['comments'],mongoDB[sample]['faves']])\n",
      "                names.append(sample)\n",
      "        except:\n",
      "            print \"error\"\n",
      "    return names,designMat,labelInfo\n",
      "\n",
      "#designMat,labelInfo = [],[]\n",
      "#samples = getImageFiles()\n",
      "samples = getRandomSample(n=5)"
     ],
     "language": "python",
     "metadata": {},
     "outputs": [],
     "prompt_number": 18
    },
    {
     "cell_type": "code",
     "collapsed": false,
     "input": [
      "#mongoDB = loadMongo()"
     ],
     "language": "python",
     "metadata": {},
     "outputs": [],
     "prompt_number": 39
    },
    {
     "cell_type": "code",
     "collapsed": false,
     "input": [
      "designMat = pickle.load(open('designMat','r'))\n"
     ],
     "language": "python",
     "metadata": {},
     "outputs": [],
     "prompt_number": 66
    },
    {
     "cell_type": "code",
     "collapsed": false,
     "input": [],
     "language": "python",
     "metadata": {},
     "outputs": []
    },
    {
     "cell_type": "code",
     "collapsed": false,
     "input": [
      "names,designMat,labelInfo = loadFeatures()"
     ],
     "language": "python",
     "metadata": {},
     "outputs": [
      {
       "ename": "NameError",
       "evalue": "global name 'loadMongo' is not defined",
       "output_type": "pyerr",
       "traceback": [
        "\u001b[0;31m---------------------------------------------------------------------------\u001b[0m\n\u001b[0;31mNameError\u001b[0m                                 Traceback (most recent call last)",
        "\u001b[0;32m<ipython-input-17-ebf9eb618196>\u001b[0m in \u001b[0;36m<module>\u001b[0;34m()\u001b[0m\n\u001b[0;32m----> 1\u001b[0;31m \u001b[0mnames\u001b[0m\u001b[0;34m,\u001b[0m\u001b[0mdesignMat\u001b[0m\u001b[0;34m,\u001b[0m\u001b[0mlabelInfo\u001b[0m \u001b[0;34m=\u001b[0m \u001b[0mloadFeatures\u001b[0m\u001b[0;34m(\u001b[0m\u001b[0;34m)\u001b[0m\u001b[0;34m\u001b[0m\u001b[0m\n\u001b[0m",
        "\u001b[0;32m<ipython-input-15-c482e03e405d>\u001b[0m in \u001b[0;36mloadFeatures\u001b[0;34m()\u001b[0m\n\u001b[1;32m      8\u001b[0m     \u001b[0msamples\u001b[0m \u001b[0;34m=\u001b[0m \u001b[0mgetImageFiles\u001b[0m\u001b[0;34m(\u001b[0m\u001b[0;34m)\u001b[0m\u001b[0;34m\u001b[0m\u001b[0m\n\u001b[1;32m      9\u001b[0m     \u001b[0;31m#samples = getRandomSample(n=5)\u001b[0m\u001b[0;34m\u001b[0m\u001b[0;34m\u001b[0m\u001b[0m\n\u001b[0;32m---> 10\u001b[0;31m     \u001b[0mmongoDB\u001b[0m \u001b[0;34m=\u001b[0m \u001b[0mloadMongo\u001b[0m\u001b[0;34m(\u001b[0m\u001b[0;34m)\u001b[0m\u001b[0;34m\u001b[0m\u001b[0m\n\u001b[0m\u001b[1;32m     11\u001b[0m     \u001b[0;32mfor\u001b[0m \u001b[0msample\u001b[0m \u001b[0;32min\u001b[0m \u001b[0msamples\u001b[0m\u001b[0;34m:\u001b[0m\u001b[0;34m\u001b[0m\u001b[0m\n\u001b[1;32m     12\u001b[0m         \u001b[0;32mtry\u001b[0m\u001b[0;34m:\u001b[0m\u001b[0;34m\u001b[0m\u001b[0m\n",
        "\u001b[0;31mNameError\u001b[0m: global name 'loadMongo' is not defined"
       ]
      }
     ],
     "prompt_number": 17
    },
    {
     "cell_type": "code",
     "collapsed": false,
     "input": [
      "pickle.dump(designMat,open('designMat','w'))"
     ],
     "language": "python",
     "metadata": {},
     "outputs": [],
     "prompt_number": 47
    },
    {
     "cell_type": "code",
     "collapsed": false,
     "input": [
      "pickle.dump(labelInfo,open('labels','w'))\n",
      "pickle.dump(names,open('names','w'))"
     ],
     "language": "python",
     "metadata": {},
     "outputs": [],
     "prompt_number": 50
    },
    {
     "cell_type": "code",
     "collapsed": false,
     "input": [
      "def loadMongo():\n",
      "    mongoposts = pickle.load(open('./mongodb_posts','r'))\n",
      "    mongoDB = defaultdict()\n",
      "    for post in mongoposts:\n",
      "        mongoDB[post['name'][-28:]] = post\n",
      "    return mongoDB\n",
      "\n",
      "mongoDB = loadMongo()"
     ],
     "language": "python",
     "metadata": {},
     "outputs": [],
     "prompt_number": 19
    },
    {
     "cell_type": "code",
     "collapsed": false,
     "input": [
      "mongoDB[mongoDB.keys()[0]]['comments']"
     ],
     "language": "python",
     "metadata": {},
     "outputs": [
      {
       "metadata": {},
       "output_type": "pyout",
       "prompt_number": 31,
       "text": [
        "12"
       ]
      }
     ],
     "prompt_number": 31
    },
    {
     "cell_type": "code",
     "collapsed": false,
     "input": [
      "#Cool to try kmeans on center points and create some average images?"
     ],
     "language": "python",
     "metadata": {},
     "outputs": [],
     "prompt_number": 1246
    },
    {
     "cell_type": "code",
     "collapsed": false,
     "input": [
      "rand = getRandomSample(n=5)\n",
      "\n",
      "\n",
      "features = []\n",
      "\n",
      "for r in [rand[0]]:\n",
      "\n",
      "    faces,eyes,faceCut,eyesCut = extractFaceandEyes(im) \n",
      "    print \"normalizedHist\", len(getNormalizedEntHist(im))\n",
      "    corners = getCorners(im,faces[0])\n",
      "    print \"Band stats face\",len(statsAllBands(rgb2gray(faceCut[0])))\n",
      "    print \"Band stats eyes\",len(statsAllBands(rgb2gray(eyesCut[0])))\n",
      "    print \"Color histogram\", len(getColorHist(faceCut[0]))\n",
      "    print \"Normalized ent histogram\",len(getNormalizedEntHist(rgb2gray(eyesCut[0])))\n",
      "    for corner in corners:\n",
      "            try:\n",
      "                bands = statsAllBands(rgb2gray(corner))\n",
      "                print \"bands\",len(bands)\n",
      "            except:\n",
      "                print \"stats\"#,corner\n",
      "            try:\n",
      "                hist = getColorHist(corner)\n",
      "                print \"color\",len(hist)\n",
      "            except:\n",
      "                print \"hist\"#,corner\n",
      "            try:\n",
      "                norm = getNormalizedEntHist(rgb2gray(corner))\n",
      "                print len(norm)\n",
      "            except:\n",
      "                print \"ent\"#,corner\n",
      "   # except:\n",
      "   #     pass\n"
     ],
     "language": "python",
     "metadata": {},
     "outputs": [
      {
       "output_type": "stream",
       "stream": "stdout",
       "text": [
        "normalizedHist "
       ]
      },
      {
       "output_type": "stream",
       "stream": "stdout",
       "text": [
        "10\n",
        "Band stats face "
       ]
      },
      {
       "output_type": "stream",
       "stream": "stdout",
       "text": [
        "24\n",
        "Band stats eyes 24\n",
        "Color histogram 64\n",
        "Normalized ent histogram "
       ]
      },
      {
       "output_type": "stream",
       "stream": "stdout",
       "text": [
        "10\n",
        "bands 24\n",
        "color 64\n",
        "10"
       ]
      },
      {
       "output_type": "stream",
       "stream": "stdout",
       "text": [
        "\n",
        "bands 24\n",
        "color 64\n",
        "10"
       ]
      },
      {
       "output_type": "stream",
       "stream": "stdout",
       "text": [
        "\n",
        "bands 24\n",
        "color 64\n",
        "10"
       ]
      },
      {
       "output_type": "stream",
       "stream": "stdout",
       "text": [
        "\n",
        "bands 24\n",
        "color 64\n",
        "10"
       ]
      },
      {
       "output_type": "stream",
       "stream": "stdout",
       "text": [
        "\n"
       ]
      }
     ],
     "prompt_number": 27
    },
    {
     "cell_type": "code",
     "collapsed": false,
     "input": [
      "print \"Sanity check\",10+24+24+64+10+((24+64+10)+(24+64+10)+(24+64+10)+(24+64+10))"
     ],
     "language": "python",
     "metadata": {},
     "outputs": [
      {
       "output_type": "stream",
       "stream": "stdout",
       "text": [
        "Sanity check 524\n"
       ]
      }
     ],
     "prompt_number": 29
    },
    {
     "cell_type": "code",
     "collapsed": false,
     "input": [
      "sum([10+24+24+64+10])"
     ],
     "language": "python",
     "metadata": {},
     "outputs": [
      {
       "metadata": {},
       "output_type": "pyout",
       "prompt_number": 31,
       "text": [
        "132"
       ]
      }
     ],
     "prompt_number": 31
    },
    {
     "cell_type": "code",
     "collapsed": false,
     "input": [
      "156+64"
     ],
     "language": "python",
     "metadata": {},
     "outputs": [
      {
       "metadata": {},
       "output_type": "pyout",
       "prompt_number": 32,
       "text": [
        "220"
       ]
      }
     ],
     "prompt_number": 32
    },
    {
     "cell_type": "code",
     "collapsed": false,
     "input": [
      "132+24+64+10+(24+64+10)+24+64+10+24+64#+10)"
     ],
     "language": "python",
     "metadata": {},
     "outputs": [
      {
       "metadata": {},
       "output_type": "pyout",
       "prompt_number": 65,
       "text": [
        "514"
       ]
      }
     ],
     "prompt_number": 65
    },
    {
     "cell_type": "code",
     "collapsed": false,
     "input": [
      "450+64"
     ],
     "language": "python",
     "metadata": {},
     "outputs": [
      {
       "metadata": {},
       "output_type": "pyout",
       "prompt_number": 67,
       "text": [
        "514"
       ]
      }
     ],
     "prompt_number": 67
    },
    {
     "cell_type": "code",
     "collapsed": false,
     "input": [],
     "language": "python",
     "metadata": {},
     "outputs": []
    }
   ],
   "metadata": {}
  }
 ]
}