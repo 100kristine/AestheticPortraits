{
 "metadata": {
  "name": "",
  "signature": "sha256:0d853b7a2ea925eec8c08ae0cdc1a5002bcf35286bcdeecb84d92c7bc9c10cab"
 },
 "nbformat": 3,
 "nbformat_minor": 0,
 "worksheets": [
  {
   "cells": [
    {
     "cell_type": "code",
     "collapsed": false,
     "input": [
      "import pymongo\n",
      "import urllib2"
     ],
     "language": "python",
     "metadata": {},
     "outputs": [],
     "prompt_number": 1
    },
    {
     "cell_type": "code",
     "collapsed": false,
     "input": [
      "def getImageFromLink(url,savename):\n",
      "    text = urllib2.urlopen(urllib2.Request(url,None)).read()\n",
      "    f = open(savename,'w')\n",
      "    f.write(text)\n",
      "    f.close()\n",
      "    return"
     ],
     "language": "python",
     "metadata": {},
     "outputs": [],
     "prompt_number": 8
    },
    {
     "cell_type": "code",
     "collapsed": false,
     "input": [
      "client = pymongo.MongoClient('localhost',27017)\n",
      "db = client.flickrPhotoURLs\n",
      "posts = db.posts"
     ],
     "language": "python",
     "metadata": {},
     "outputs": [],
     "prompt_number": 3
    },
    {
     "cell_type": "markdown",
     "metadata": {},
     "source": [
      "{u'name': u'6.staticflickr.com/5535/11633698783_23f326822a_z.jpg', \n",
      "\n",
      "u'views': 8046,\n",
      "\n",
      "u'dateRange': u'20131201-20131231', \n",
      "\n",
      "u'pageLink': u'https://www.flickr.com/photos/fotografofreelance81/11633698783', \n",
      "\n",
      "u'faves': 39, \n",
      "\n",
      "u'link': u'https://farm6.staticflickr.com/5535/11633698783_23f326822a_z.jpg', \n",
      "\n",
      "u'comments': 12, \n",
      "\n",
      "u'_id': ObjectId('5488aa681c664206336d135a')}"
     ]
    },
    {
     "cell_type": "code",
     "collapsed": false,
     "input": [
      "urls = posts.find({})"
     ],
     "language": "python",
     "metadata": {},
     "outputs": [],
     "prompt_number": 21
    },
    {
     "cell_type": "code",
     "collapsed": false,
     "input": [
      "for url in urls:\n",
      "    try:\n",
      "        getImageFromLink(url['link'],url['name'][-28:])\n",
      "        print url['link']\n",
      "        url[\"saveName\"] = url['name'][-24:]\n",
      "    except:\n",
      "        print \"error\",url['link']"
     ],
     "language": "python",
     "metadata": {},
     "outputs": [
      {
       "output_type": "stream",
       "stream": "stdout",
       "text": [
        "https://farm4.staticflickr.com/3703/11610712433_68c90e4a35_z.jpg\n",
        "https://farm4.staticflickr.com/3800/11696502093_d596715e88_z.jpg"
       ]
      },
      {
       "output_type": "stream",
       "stream": "stdout",
       "text": [
        "\n",
        "https://farm6.staticflickr.com/5539/11162782314_a6fbc3a310_z.jpg"
       ]
      },
      {
       "output_type": "stream",
       "stream": "stdout",
       "text": [
        "\n",
        "https://farm6.staticflickr.com/5499/11265854373_f2f73efcec_z.jpg"
       ]
      },
      {
       "output_type": "stream",
       "stream": "stdout",
       "text": [
        "\n",
        "https://farm6.staticflickr.com/5507/11362552645_679c3320bf_z.jpg"
       ]
      },
      {
       "output_type": "stream",
       "stream": "stdout",
       "text": [
        "\n",
        "https://farm4.staticflickr.com/3804/11658448256_df192956e3_z.jpg"
       ]
      },
      {
       "output_type": "stream",
       "stream": "stdout",
       "text": [
        "\n",
        "https://farm3.staticflickr.com/2861/11265658796_5dfd597caf_z.jpg"
       ]
      },
      {
       "output_type": "stream",
       "stream": "stdout",
       "text": [
        "\n",
        "https://farm3.staticflickr.com/2832/11455006143_f169a025bf_z.jpg"
       ]
      },
      {
       "output_type": "stream",
       "stream": "stdout",
       "text": [
        "\n",
        "https://farm3.staticflickr.com/2824/11654527054_99bb0927d3_z.jpg"
       ]
      },
      {
       "output_type": "stream",
       "stream": "stdout",
       "text": [
        "\n",
        "https://farm8.staticflickr.com/7339/11547804563_f898fd9921_z.jpg"
       ]
      },
      {
       "output_type": "stream",
       "stream": "stdout",
       "text": [
        "\n",
        "https://farm8.staticflickr.com/7311/11260903723_3291818a70_z.jpg"
       ]
      },
      {
       "output_type": "stream",
       "stream": "stdout",
       "text": [
        "\n",
        "https://farm4.staticflickr.com/3809/11471811543_5f3a3ab78f_z.jpg"
       ]
      },
      {
       "output_type": "stream",
       "stream": "stdout",
       "text": [
        "\n",
        "https://farm6.staticflickr.com/5509/11553594414_e588651d1c_z.jpg"
       ]
      },
      {
       "output_type": "stream",
       "stream": "stdout",
       "text": [
        "\n",
        "https://farm6.staticflickr.com/5489/11841625793_fd3a2260c5_z.jpg"
       ]
      },
      {
       "output_type": "stream",
       "stream": "stdout",
       "text": [
        "\n",
        "https://farm3.staticflickr.com/2829/11527743366_3d03972b5b_z.jpg"
       ]
      },
      {
       "output_type": "stream",
       "stream": "stdout",
       "text": [
        "\n",
        "https://farm4.staticflickr.com/3789/12787805303_25d920d304_z.jpg"
       ]
      },
      {
       "output_type": "stream",
       "stream": "stdout",
       "text": [
        "\n",
        "https://farm4.staticflickr.com/3926/14830250146_ffdb40cdf9_z.jpg"
       ]
      },
      {
       "output_type": "stream",
       "stream": "stdout",
       "text": [
        "\n",
        "https://farm3.staticflickr.com/2879/13844231903_d7701a989a_z.jpg"
       ]
      },
      {
       "output_type": "stream",
       "stream": "stdout",
       "text": [
        "\n",
        "https://farm6.staticflickr.com/5514/11497519896_1fd650b551_z.jpg"
       ]
      },
      {
       "output_type": "stream",
       "stream": "stdout",
       "text": [
        "\n",
        "https://farm8.staticflickr.com/7337/14174987381_7f17b3a6be_z.jpg"
       ]
      },
      {
       "output_type": "stream",
       "stream": "stdout",
       "text": [
        "\n",
        "https://farm4.staticflickr.com/3779/11339156845_0e29806f74_z.jpg"
       ]
      },
      {
       "output_type": "stream",
       "stream": "stdout",
       "text": [
        "\n",
        "https://farm3.staticflickr.com/2829/11501949224_dac2b41c91_z.jpg"
       ]
      },
      {
       "output_type": "stream",
       "stream": "stdout",
       "text": [
        "\n",
        "https://farm8.staticflickr.com/7343/12744097134_fceff571db_z.jpg"
       ]
      },
      {
       "output_type": "stream",
       "stream": "stdout",
       "text": [
        "\n",
        "https://farm3.staticflickr.com/2814/11284175545_614456bd64_z.jpg"
       ]
      },
      {
       "output_type": "stream",
       "stream": "stdout",
       "text": [
        "\n",
        "https://farm6.staticflickr.com/5535/11265717346_0ae55eaeac_z.jpg"
       ]
      },
      {
       "output_type": "stream",
       "stream": "stdout",
       "text": [
        "\n",
        "https://farm3.staticflickr.com/2872/11364899203_d4581076d4_z.jpg"
       ]
      },
      {
       "output_type": "stream",
       "stream": "stdout",
       "text": [
        "\n",
        "https://farm6.staticflickr.com/5517/11315099785_f54a610594_z.jpg"
       ]
      },
      {
       "output_type": "stream",
       "stream": "stdout",
       "text": [
        "\n",
        "https://farm4.staticflickr.com/3743/11223935113_653734cb29_z.jpg"
       ]
      },
      {
       "output_type": "stream",
       "stream": "stdout",
       "text": [
        "\n",
        "https://farm8.staticflickr.com/7386/11280540133_2ed3cb652d_z.jpg"
       ]
      },
      {
       "output_type": "stream",
       "stream": "stdout",
       "text": [
        "\n",
        "https://farm4.staticflickr.com/3782/11646557183_a5e046b7d1_z.jpg"
       ]
      },
      {
       "output_type": "stream",
       "stream": "stdout",
       "text": [
        "\n",
        "https://farm3.staticflickr.com/2927/13935304654_d4b1bb97d5_z.jpg"
       ]
      },
      {
       "output_type": "stream",
       "stream": "stdout",
       "text": [
        "\n",
        "https://farm6.staticflickr.com/5472/11350558295_fba49c7b83_z.jpg"
       ]
      },
      {
       "output_type": "stream",
       "stream": "stdout",
       "text": [
        "\n",
        "https://farm4.staticflickr.com/3740/11399668543_b18c850d93_z.jpg"
       ]
      },
      {
       "output_type": "stream",
       "stream": "stdout",
       "text": [
        "\n",
        "https://farm8.staticflickr.com/7374/11756476873_9ba07dc409_z.jpg"
       ]
      },
      {
       "output_type": "stream",
       "stream": "stdout",
       "text": [
        "\n",
        "https://farm4.staticflickr.com/3833/11633479233_3fff5f3563_z.jpg"
       ]
      },
      {
       "output_type": "stream",
       "stream": "stdout",
       "text": [
        "\n",
        "https://farm8.staticflickr.com/7363/11476174794_4b38642742_z.jpg"
       ]
      },
      {
       "output_type": "stream",
       "stream": "stdout",
       "text": [
        "\n",
        "https://farm8.staticflickr.com/7350/11532918863_e2647d8181_z.jpg"
       ]
      },
      {
       "output_type": "stream",
       "stream": "stdout",
       "text": [
        "\n",
        "https://farm3.staticflickr.com/2861/11154432865_37a0198030_z.jpg"
       ]
      },
      {
       "output_type": "stream",
       "stream": "stdout",
       "text": [
        "\n",
        "https://farm4.staticflickr.com/3748/11924445485_2905052e02_z.jpg"
       ]
      },
      {
       "output_type": "stream",
       "stream": "stdout",
       "text": [
        "\n",
        "https://farm4.staticflickr.com/3914/14567299296_0d3a1cafbc_z.jpg"
       ]
      },
      {
       "output_type": "stream",
       "stream": "stdout",
       "text": [
        "\n",
        "https://farm3.staticflickr.com/2831/11385756426_e566174ccf_z.jpg"
       ]
      },
      {
       "output_type": "stream",
       "stream": "stdout",
       "text": [
        "\n",
        "https://farm3.staticflickr.com/2815/11385786054_c2e516ae81_z.jpg"
       ]
      },
      {
       "output_type": "stream",
       "stream": "stdout",
       "text": [
        "\n",
        "https://farm8.staticflickr.com/7323/12505950563_f1ab5cc089_z.jpg"
       ]
      },
      {
       "output_type": "stream",
       "stream": "stdout",
       "text": [
        "\n",
        "https://farm8.staticflickr.com/7362/11214796886_25ac1b4088_z.jpg"
       ]
      },
      {
       "output_type": "stream",
       "stream": "stdout",
       "text": [
        "\n",
        "https://farm4.staticflickr.com/3779/11466032663_301a1cbf82_z.jpg"
       ]
      },
      {
       "output_type": "stream",
       "stream": "stdout",
       "text": [
        "\n",
        "https://farm4.staticflickr.com/3676/11642114124_86b3c917a3_z.jpg"
       ]
      },
      {
       "output_type": "stream",
       "stream": "stdout",
       "text": [
        "\n",
        "https://farm6.staticflickr.com/5039/14269628476_e95c4a613d_z.jpg"
       ]
      },
      {
       "output_type": "stream",
       "stream": "stdout",
       "text": [
        "\n",
        "https://farm3.staticflickr.com/2849/11616983573_1f617f90f5_z.jpg"
       ]
      },
      {
       "output_type": "stream",
       "stream": "stdout",
       "text": [
        "\n",
        "https://farm4.staticflickr.com/3851/14997724890_e85a860326_z.jpg"
       ]
      },
      {
       "output_type": "stream",
       "stream": "stdout",
       "text": [
        "\n",
        "https://farm6.staticflickr.com/5471/11315564476_e2cc803152_z.jpg"
       ]
      },
      {
       "output_type": "stream",
       "stream": "stdout",
       "text": [
        "\n",
        "https://farm6.staticflickr.com/5482/11634718146_a1609a6a57_z.jpg"
       ]
      },
      {
       "output_type": "stream",
       "stream": "stdout",
       "text": [
        "\n",
        "https://farm4.staticflickr.com/3785/13832886053_1ba90c5047_z.jpg"
       ]
      },
      {
       "output_type": "stream",
       "stream": "stdout",
       "text": [
        "\n",
        "https://farm4.staticflickr.com/3737/11643829843_16ba144eb7_z.jpg"
       ]
      },
      {
       "output_type": "stream",
       "stream": "stdout",
       "text": [
        "\n",
        "https://farm6.staticflickr.com/5477/11470220535_b39493991b_z.jpg"
       ]
      },
      {
       "output_type": "stream",
       "stream": "stdout",
       "text": [
        "\n",
        "https://farm3.staticflickr.com/2872/11614382606_82950656c8_z.jpg"
       ]
      },
      {
       "output_type": "stream",
       "stream": "stdout",
       "text": [
        "\n",
        "https://farm6.staticflickr.com/5542/11914051333_5c84f47732_z.jpg"
       ]
      },
      {
       "output_type": "stream",
       "stream": "stdout",
       "text": [
        "\n",
        "https://farm4.staticflickr.com/3848/15327235661_36d08c4567_z.jpg"
       ]
      },
      {
       "output_type": "stream",
       "stream": "stdout",
       "text": [
        "\n",
        "https://farm4.staticflickr.com/3829/11351531274_d707d613ea_z.jpg"
       ]
      },
      {
       "output_type": "stream",
       "stream": "stdout",
       "text": [
        "\n",
        "https://farm8.staticflickr.com/7309/11196585106_b9488cf65b_z.jpg"
       ]
      },
      {
       "output_type": "stream",
       "stream": "stdout",
       "text": [
        "\n",
        "https://farm3.staticflickr.com/2818/11461796345_052779ff6e_z.jpg"
       ]
      },
      {
       "output_type": "stream",
       "stream": "stdout",
       "text": [
        "\n",
        "https://farm4.staticflickr.com/3800/11770328773_29ffa6fda6_z.jpg"
       ]
      },
      {
       "output_type": "stream",
       "stream": "stdout",
       "text": [
        "\n",
        "https://farm4.staticflickr.com/3778/11442746903_c5cfe38a2f_z.jpg"
       ]
      },
      {
       "output_type": "stream",
       "stream": "stdout",
       "text": [
        "\n",
        "https://farm3.staticflickr.com/2826/11384992133_047e0cc602_z.jpg"
       ]
      },
      {
       "output_type": "stream",
       "stream": "stdout",
       "text": [
        "\n",
        "https://farm8.staticflickr.com/7395/12607820135_b04e4c0b68_z.jpg"
       ]
      },
      {
       "output_type": "stream",
       "stream": "stdout",
       "text": [
        "\n",
        "https://farm8.staticflickr.com/7227/13764850083_34cfe25237_z.jpg"
       ]
      },
      {
       "output_type": "stream",
       "stream": "stdout",
       "text": [
        "\n",
        "https://farm6.staticflickr.com/5520/11651991793_14610a1677_z.jpg"
       ]
      },
      {
       "output_type": "stream",
       "stream": "stdout",
       "text": [
        "\n",
        "https://farm4.staticflickr.com/3753/11342802793_df86846c38_z.jpg"
       ]
      },
      {
       "output_type": "stream",
       "stream": "stdout",
       "text": [
        "\n",
        "https://farm8.staticflickr.com/7545/15693260700_10c2fb4d01_z.jpg"
       ]
      },
      {
       "output_type": "stream",
       "stream": "stdout",
       "text": [
        "\n",
        "https://farm3.staticflickr.com/2896/14549976550_9be6321c0f_z.jpg"
       ]
      },
      {
       "output_type": "stream",
       "stream": "stdout",
       "text": [
        "\n",
        "https://farm3.staticflickr.com/2825/11265705126_7547e92503_z.jpg"
       ]
      },
      {
       "output_type": "stream",
       "stream": "stdout",
       "text": [
        "\n",
        "https://farm6.staticflickr.com/5476/11265791204_25d3b2b127_z.jpg"
       ]
      },
      {
       "output_type": "stream",
       "stream": "stdout",
       "text": [
        "\n",
        "https://farm4.staticflickr.com/3812/11429357073_7f98c1c62c_z.jpg"
       ]
      },
      {
       "output_type": "stream",
       "stream": "stdout",
       "text": [
        "\n",
        "https://farm3.staticflickr.com/2812/11638314895_ee6f299664_z.jpg"
       ]
      },
      {
       "output_type": "stream",
       "stream": "stdout",
       "text": [
        "\n",
        "https://farm4.staticflickr.com/3754/11354133114_789b6f66b0_z.jpg"
       ]
      },
      {
       "output_type": "stream",
       "stream": "stdout",
       "text": [
        "\n",
        "https://farm8.staticflickr.com/7425/11848251464_111d586533_z.jpg"
       ]
      },
      {
       "output_type": "stream",
       "stream": "stdout",
       "text": [
        "\n",
        "https://farm8.staticflickr.com/7366/11519560493_d847458177_z.jpg"
       ]
      },
      {
       "output_type": "stream",
       "stream": "stdout",
       "text": [
        "\n",
        "https://farm3.staticflickr.com/2905/14798506886_d7c4486afb_z.jpg"
       ]
      },
      {
       "output_type": "stream",
       "stream": "stdout",
       "text": [
        "\n",
        "https://farm4.staticflickr.com/3770/11594071366_b732e48e66_z.jpg"
       ]
      },
      {
       "output_type": "stream",
       "stream": "stdout",
       "text": [
        "\n",
        "https://farm4.staticflickr.com/3805/11518846594_8aaf24b662_z.jpg"
       ]
      },
      {
       "output_type": "stream",
       "stream": "stdout",
       "text": [
        "\n",
        "https://farm4.staticflickr.com/3722/11348664436_f471fe0399_z.jpg"
       ]
      },
      {
       "output_type": "stream",
       "stream": "stdout",
       "text": [
        "\n",
        "https://farm6.staticflickr.com/5481/11692660575_ca95860b50_z.jpg"
       ]
      },
      {
       "output_type": "stream",
       "stream": "stdout",
       "text": [
        "\n",
        "https://farm3.staticflickr.com/2892/12858083294_30961c2e5f_z.jpg"
       ]
      },
      {
       "output_type": "stream",
       "stream": "stdout",
       "text": [
        "\n",
        "https://farm4.staticflickr.com/3832/11303048626_f5c3513be0_z.jpg"
       ]
      },
      {
       "output_type": "stream",
       "stream": "stdout",
       "text": [
        "\n",
        "https://farm3.staticflickr.com/2849/11466826946_40fdd4d0e1_z.jpg"
       ]
      },
      {
       "output_type": "stream",
       "stream": "stdout",
       "text": [
        "\n",
        "https://farm4.staticflickr.com/3708/11364341364_b5d87bd959_z.jpg"
       ]
      },
      {
       "output_type": "stream",
       "stream": "stdout",
       "text": [
        "\n",
        "https://farm8.staticflickr.com/7389/11621376866_293f24f2af_z.jpg"
       ]
      },
      {
       "output_type": "stream",
       "stream": "stdout",
       "text": [
        "\n",
        "https://farm3.staticflickr.com/2863/11655803583_c6c24cb9f5_z.jpg"
       ]
      },
      {
       "output_type": "stream",
       "stream": "stdout",
       "text": [
        "\n",
        "https://farm9.staticflickr.com/8682/15756400830_7f19a0256c_z.jpg"
       ]
      },
      {
       "output_type": "stream",
       "stream": "stdout",
       "text": [
        "\n",
        "https://farm4.staticflickr.com/3720/11241372944_b8210ff354_z.jpg"
       ]
      },
      {
       "output_type": "stream",
       "stream": "stdout",
       "text": [
        "\n",
        "https://farm6.staticflickr.com/5501/11691202344_1b27390eb8_z.jpg"
       ]
      },
      {
       "output_type": "stream",
       "stream": "stdout",
       "text": [
        "\n",
        "https://farm3.staticflickr.com/2829/11657644656_931b450c3a_z.jpg"
       ]
      },
      {
       "output_type": "stream",
       "stream": "stdout",
       "text": [
        "\n",
        "https://farm6.staticflickr.com/5550/11553950634_2e2c8b366a_z.jpg"
       ]
      },
      {
       "output_type": "stream",
       "stream": "stdout",
       "text": [
        "\n",
        "https://farm3.staticflickr.com/2853/11248005315_298d750a61_z.jpg"
       ]
      },
      {
       "output_type": "stream",
       "stream": "stdout",
       "text": [
        "\n",
        "https://farm4.staticflickr.com/3784/11266169534_eddf147961_z.jpg"
       ]
      },
      {
       "output_type": "stream",
       "stream": "stdout",
       "text": [
        "\n",
        "https://farm6.staticflickr.com/5538/11280362813_83300fd024_z.jpg"
       ]
      },
      {
       "output_type": "stream",
       "stream": "stdout",
       "text": [
        "\n",
        "https://farm8.staticflickr.com/7463/15606383399_11e3b7cc18_z.jpg"
       ]
      },
      {
       "output_type": "stream",
       "stream": "stdout",
       "text": [
        "\n",
        "https://farm3.staticflickr.com/2882/11390345985_26cc7e43fb_z.jpg"
       ]
      },
      {
       "output_type": "stream",
       "stream": "stdout",
       "text": [
        "\n",
        "https://farm6.staticflickr.com/5522/11236954573_e090bee5eb_z.jpg"
       ]
      },
      {
       "output_type": "stream",
       "stream": "stdout",
       "text": [
        "\n",
        "https://farm4.staticflickr.com/3831/12253675185_32c740c037_z.jpg"
       ]
      },
      {
       "output_type": "stream",
       "stream": "stdout",
       "text": [
        "\n",
        "https://farm8.staticflickr.com/7346/11654115813_8a36b68ddd_z.jpg"
       ]
      },
      {
       "output_type": "stream",
       "stream": "stdout",
       "text": [
        "\n",
        "https://farm3.staticflickr.com/2876/11341485256_e77ee1c0a6_z.jpg"
       ]
      },
      {
       "output_type": "stream",
       "stream": "stdout",
       "text": [
        "\n",
        "https://farm8.staticflickr.com/7303/12778610995_5756dab876_z.jpg"
       ]
      },
      {
       "output_type": "stream",
       "stream": "stdout",
       "text": [
        "\n",
        "https://farm4.staticflickr.com/3765/11327109764_a08496b930_z.jpg"
       ]
      },
      {
       "output_type": "stream",
       "stream": "stdout",
       "text": [
        "\n",
        "https://farm8.staticflickr.com/7299/11447946806_e36f2297a9_z.jpg"
       ]
      },
      {
       "output_type": "stream",
       "stream": "stdout",
       "text": [
        "\n",
        "https://farm8.staticflickr.com/7484/15737735979_d62186901b_z.jpg"
       ]
      },
      {
       "output_type": "stream",
       "stream": "stdout",
       "text": [
        "\n",
        "https://farm6.staticflickr.com/5471/11661601524_0150faf860_z.jpg"
       ]
      },
      {
       "output_type": "stream",
       "stream": "stdout",
       "text": [
        "\n",
        "https://farm8.staticflickr.com/7405/11285365365_891c352d86_z.jpg"
       ]
      },
      {
       "output_type": "stream",
       "stream": "stdout",
       "text": [
        "\n",
        "https://farm3.staticflickr.com/2817/11625973645_c29fdfd969_z.jpg"
       ]
      },
      {
       "output_type": "stream",
       "stream": "stdout",
       "text": [
        "\n",
        "https://farm6.staticflickr.com/5503/11189210103_82eb1e2e57_z.jpg"
       ]
      },
      {
       "output_type": "stream",
       "stream": "stdout",
       "text": [
        "\n",
        "https://farm4.staticflickr.com/3733/11602583536_f5f21666b4_z.jpg"
       ]
      },
      {
       "output_type": "stream",
       "stream": "stdout",
       "text": [
        "\n",
        "https://farm8.staticflickr.com/7341/12046357004_335c66e535_z.jpg"
       ]
      },
      {
       "output_type": "stream",
       "stream": "stdout",
       "text": [
        "\n",
        "https://farm3.staticflickr.com/2819/11414927626_c6c69d650b_z.jpg"
       ]
      },
      {
       "output_type": "stream",
       "stream": "stdout",
       "text": [
        "\n",
        "https://farm6.staticflickr.com/5530/11639397534_1cfaaaa339_z.jpg"
       ]
      },
      {
       "output_type": "stream",
       "stream": "stdout",
       "text": [
        "\n",
        "https://farm3.staticflickr.com/2916/14778101674_72e37c6a5d_z.jpg"
       ]
      },
      {
       "output_type": "stream",
       "stream": "stdout",
       "text": [
        "\n",
        "https://farm3.staticflickr.com/2844/11445129425_2bf6eb722f_z.jpg"
       ]
      },
      {
       "output_type": "stream",
       "stream": "stdout",
       "text": [
        "\n",
        "https://farm3.staticflickr.com/2861/11277876575_668e10a1ea_z.jpg"
       ]
      },
      {
       "output_type": "stream",
       "stream": "stdout",
       "text": [
        "\n",
        "https://farm8.staticflickr.com/7334/11708839235_b20a1c3868_z.jpg"
       ]
      },
      {
       "output_type": "stream",
       "stream": "stdout",
       "text": [
        "\n",
        "https://farm3.staticflickr.com/2818/11162737005_68cf099c0d_z.jpg"
       ]
      },
      {
       "output_type": "stream",
       "stream": "stdout",
       "text": [
        "\n",
        "https://farm8.staticflickr.com/7391/11439331393_f2f692dd8c_z.jpg"
       ]
      },
      {
       "output_type": "stream",
       "stream": "stdout",
       "text": [
        "\n",
        "https://farm8.staticflickr.com/7436/13885072089_8991b34e66_z.jpg"
       ]
      },
      {
       "output_type": "stream",
       "stream": "stdout",
       "text": [
        "\n",
        "https://farm6.staticflickr.com/5497/11398885645_0e0c0facce_z.jpg"
       ]
      },
      {
       "output_type": "stream",
       "stream": "stdout",
       "text": [
        "\n",
        "https://farm8.staticflickr.com/7418/13012930645_33961f7bc5_z.jpg"
       ]
      },
      {
       "output_type": "stream",
       "stream": "stdout",
       "text": [
        "\n",
        "https://farm8.staticflickr.com/7388/11162901233_0240c72dc4_z.jpg"
       ]
      },
      {
       "output_type": "stream",
       "stream": "stdout",
       "text": [
        "\n",
        "https://farm6.staticflickr.com/5497/11624650343_af18190230_z.jpg"
       ]
      },
      {
       "output_type": "stream",
       "stream": "stdout",
       "text": [
        "\n",
        "https://farm4.staticflickr.com/3691/11557012273_40b3e1e1fa_z.jpg"
       ]
      },
      {
       "output_type": "stream",
       "stream": "stdout",
       "text": [
        "\n",
        "https://farm8.staticflickr.com/7359/12289444936_0327ef8322_z.jpg"
       ]
      },
      {
       "output_type": "stream",
       "stream": "stdout",
       "text": [
        "\n",
        "https://farm4.staticflickr.com/3707/11328288255_9626e76e9e_z.jpg"
       ]
      },
      {
       "output_type": "stream",
       "stream": "stdout",
       "text": [
        "\n",
        "https://farm3.staticflickr.com/2880/11027288263_11a4091ae3_z.jpg"
       ]
      },
      {
       "output_type": "stream",
       "stream": "stdout",
       "text": [
        "\n",
        "error"
       ]
      },
      {
       "output_type": "stream",
       "stream": "stdout",
       "text": [
        " https://farm8.staticflickr.com/7303/11517770294_91b7e3fc10.jpg\n",
        "https://farm6.staticflickr.com/5525/10824657876_4c32b266ce_z.jpg"
       ]
      },
      {
       "output_type": "stream",
       "stream": "stdout",
       "text": [
        "\n",
        "https://farm4.staticflickr.com/3687/11028180746_4440da18bb_z.jpg"
       ]
      },
      {
       "output_type": "stream",
       "stream": "stdout",
       "text": [
        "\n",
        "https://farm3.staticflickr.com/2872/11821764423_b8de639211_z.jpg"
       ]
      },
      {
       "output_type": "stream",
       "stream": "stdout",
       "text": [
        "\n",
        "https://farm6.staticflickr.com/5488/10739923134_69c905d476_z.jpg"
       ]
      },
      {
       "output_type": "stream",
       "stream": "stdout",
       "text": [
        "\n",
        "https://farm3.staticflickr.com/2853/12830741893_beca8c0da9_z.jpg"
       ]
      },
      {
       "output_type": "stream",
       "stream": "stdout",
       "text": [
        "\n",
        "https://farm4.staticflickr.com/3668/11372760685_a0f0f12456_z.jpg"
       ]
      },
      {
       "output_type": "stream",
       "stream": "stdout",
       "text": [
        "\n",
        "https://farm8.staticflickr.com/7301/11184019903_b5350c83d5_z.jpg"
       ]
      },
      {
       "output_type": "stream",
       "stream": "stdout",
       "text": [
        "\n",
        "https://farm4.staticflickr.com/3799/10793597216_7b48d3ff6b_z.jpg"
       ]
      },
      {
       "output_type": "stream",
       "stream": "stdout",
       "text": [
        "\n",
        "https://farm6.staticflickr.com/5510/11067416794_dfe5ea204c_z.jpg"
       ]
      },
      {
       "output_type": "stream",
       "stream": "stdout",
       "text": [
        "\n",
        "https://farm4.staticflickr.com/3698/13101582424_c5282f317c_z.jpg"
       ]
      },
      {
       "output_type": "stream",
       "stream": "stdout",
       "text": [
        "\n",
        "https://farm4.staticflickr.com/3774/10755402814_89e2a3abbc_z.jpg"
       ]
      },
      {
       "output_type": "stream",
       "stream": "stdout",
       "text": [
        "\n",
        "https://farm4.staticflickr.com/3777/11825758554_922ae52494_z.jpg"
       ]
      },
      {
       "output_type": "stream",
       "stream": "stdout",
       "text": [
        "\n",
        "https://farm6.staticflickr.com/5501/12658397593_582682ef81_z.jpg"
       ]
      },
      {
       "output_type": "stream",
       "stream": "stdout",
       "text": [
        "\n",
        "https://farm8.staticflickr.com/7381/10785944176_5d2ca6e148_z.jpg"
       ]
      },
      {
       "output_type": "stream",
       "stream": "stdout",
       "text": [
        "\n",
        "https://farm8.staticflickr.com/7384/10893767314_0d4ddf6482_z.jpg"
       ]
      },
      {
       "output_type": "stream",
       "stream": "stdout",
       "text": [
        "\n",
        "https://farm4.staticflickr.com/3727/10992265913_63687ca4dd_z.jpg"
       ]
      },
      {
       "output_type": "stream",
       "stream": "stdout",
       "text": [
        "\n",
        "https://farm3.staticflickr.com/2860/10869495094_dd8eb06375_z.jpg"
       ]
      },
      {
       "output_type": "stream",
       "stream": "stdout",
       "text": [
        "\n",
        "https://farm6.staticflickr.com/5477/10725804515_77b0e667b2_z.jpg"
       ]
      },
      {
       "output_type": "stream",
       "stream": "stdout",
       "text": [
        "\n",
        "https://farm6.staticflickr.com/5540/11067614456_7cfc501eea_z.jpg"
       ]
      },
      {
       "output_type": "stream",
       "stream": "stdout",
       "text": [
        "\n",
        "https://farm3.staticflickr.com/2860/11860443543_a5a81247c8_z.jpg"
       ]
      },
      {
       "output_type": "stream",
       "stream": "stdout",
       "text": [
        "\n",
        "https://farm3.staticflickr.com/2860/11102591794_4cfc367895_z.jpg"
       ]
      },
      {
       "output_type": "stream",
       "stream": "stdout",
       "text": [
        "\n",
        "https://farm8.staticflickr.com/7453/11115635794_f05d7114cc_z.jpg"
       ]
      },
      {
       "output_type": "stream",
       "stream": "stdout",
       "text": [
        "\n",
        "https://farm8.staticflickr.com/7452/10632644403_89a187bd9a_z.jpg"
       ]
      },
      {
       "output_type": "stream",
       "stream": "stdout",
       "text": [
        "\n",
        "https://farm6.staticflickr.com/5541/11389243033_dfcfb49d7d_z.jpg"
       ]
      },
      {
       "output_type": "stream",
       "stream": "stdout",
       "text": [
        "\n",
        "https://farm4.staticflickr.com/3692/10652016403_d946721174_z.jpg"
       ]
      },
      {
       "output_type": "stream",
       "stream": "stdout",
       "text": [
        "\n",
        "https://farm4.staticflickr.com/3791/10500457273_c1c0acb27b_z.jpg"
       ]
      },
      {
       "output_type": "stream",
       "stream": "stdout",
       "text": [
        "\n",
        "https://farm4.staticflickr.com/3682/13786315614_54951b6e81_z.jpg"
       ]
      },
      {
       "output_type": "stream",
       "stream": "stdout",
       "text": [
        "\n",
        "https://farm6.staticflickr.com/5533/11094038913_34d50db4d7_z.jpg"
       ]
      },
      {
       "output_type": "stream",
       "stream": "stdout",
       "text": [
        "\n",
        "https://farm6.staticflickr.com/5504/11055512736_1230647b8a_z.jpg"
       ]
      },
      {
       "output_type": "stream",
       "stream": "stdout",
       "text": [
        "\n",
        "https://farm8.staticflickr.com/7459/10685979913_90d26d0814_z.jpg"
       ]
      },
      {
       "output_type": "stream",
       "stream": "stdout",
       "text": [
        "\n",
        "https://farm4.staticflickr.com/3748/12301251415_00122875ce_z.jpg"
       ]
      },
      {
       "output_type": "stream",
       "stream": "stdout",
       "text": [
        "\n",
        "https://farm8.staticflickr.com/7307/10806135275_03d81bc859_z.jpg"
       ]
      },
      {
       "output_type": "stream",
       "stream": "stdout",
       "text": [
        "\n",
        "https://farm3.staticflickr.com/2807/10885313283_fe1b36ec94_z.jpg"
       ]
      },
      {
       "output_type": "stream",
       "stream": "stdout",
       "text": [
        "\n",
        "https://farm6.staticflickr.com/5489/10778478153_ecc19cbc7d_z.jpg"
       ]
      },
      {
       "output_type": "stream",
       "stream": "stdout",
       "text": [
        "\n",
        "https://farm4.staticflickr.com/3717/10953979645_e46f7d799b_z.jpg"
       ]
      },
      {
       "output_type": "stream",
       "stream": "stdout",
       "text": [
        "\n",
        "https://farm4.staticflickr.com/3805/10883609175_b981794e37_z.jpg"
       ]
      },
      {
       "output_type": "stream",
       "stream": "stdout",
       "text": [
        "\n",
        "https://farm4.staticflickr.com/3711/10933872373_666fda74a2_z.jpg"
       ]
      },
      {
       "output_type": "stream",
       "stream": "stdout",
       "text": [
        "\n",
        "https://farm4.staticflickr.com/3748/11567679323_686cc00668_z.jpg"
       ]
      },
      {
       "output_type": "stream",
       "stream": "stdout",
       "text": [
        "\n",
        "https://farm8.staticflickr.com/7428/10910863683_a343a409ef_z.jpg"
       ]
      },
      {
       "output_type": "stream",
       "stream": "stdout",
       "text": [
        "\n",
        "https://farm6.staticflickr.com/5477/11426499233_762e320c75_z.jpg"
       ]
      },
      {
       "output_type": "stream",
       "stream": "stdout",
       "text": [
        "\n",
        "https://farm8.staticflickr.com/7318/11004493445_3c6f8eec7f_z.jpg"
       ]
      },
      {
       "output_type": "stream",
       "stream": "stdout",
       "text": [
        "\n",
        "https://farm4.staticflickr.com/3801/12692910203_b7f7cbc460_z.jpg"
       ]
      },
      {
       "output_type": "stream",
       "stream": "stdout",
       "text": [
        "\n",
        "https://farm8.staticflickr.com/7324/10705580764_597c02d19c_z.jpg"
       ]
      },
      {
       "output_type": "stream",
       "stream": "stdout",
       "text": [
        "\n",
        "https://farm3.staticflickr.com/2861/10698555815_b38efe222a_z.jpg"
       ]
      },
      {
       "output_type": "stream",
       "stream": "stdout",
       "text": [
        "\n",
        "https://farm6.staticflickr.com/5476/10822760433_232fd07f4c_z.jpg"
       ]
      },
      {
       "output_type": "stream",
       "stream": "stdout",
       "text": [
        "\n",
        "https://farm4.staticflickr.com/3834/10887899724_f033152e78_z.jpg"
       ]
      },
      {
       "output_type": "stream",
       "stream": "stdout",
       "text": [
        "\n",
        "https://farm4.staticflickr.com/3697/10992428373_5595ee0f9e_z.jpg"
       ]
      },
      {
       "output_type": "stream",
       "stream": "stdout",
       "text": [
        "\n",
        "https://farm6.staticflickr.com/5475/10925651943_89935f5e58_z.jpg"
       ]
      },
      {
       "output_type": "stream",
       "stream": "stdout",
       "text": [
        "\n",
        "https://farm4.staticflickr.com/3792/10909741383_82a7255f45_z.jpg"
       ]
      },
      {
       "output_type": "stream",
       "stream": "stdout",
       "text": [
        "\n",
        "https://farm8.staticflickr.com/7363/11036154844_57ca4ec5c6_z.jpg"
       ]
      },
      {
       "output_type": "stream",
       "stream": "stdout",
       "text": [
        "\n",
        "https://farm6.staticflickr.com/5524/10822875546_e8500b020c_z.jpg"
       ]
      },
      {
       "output_type": "stream",
       "stream": "stdout",
       "text": [
        "\n",
        "https://farm3.staticflickr.com/2892/10854871444_0d5f60a135_z.jpg"
       ]
      },
      {
       "output_type": "stream",
       "stream": "stdout",
       "text": [
        "\n",
        "https://farm3.staticflickr.com/2892/10626650325_263f4dca07_z.jpg"
       ]
      },
      {
       "output_type": "stream",
       "stream": "stdout",
       "text": [
        "\n",
        "https://farm8.staticflickr.com/7430/10989570504_4ccf064a1f_z.jpg"
       ]
      },
      {
       "output_type": "stream",
       "stream": "stdout",
       "text": [
        "\n",
        "https://farm3.staticflickr.com/2831/11170313024_bb54e66bcf_z.jpg"
       ]
      },
      {
       "output_type": "stream",
       "stream": "stdout",
       "text": [
        "\n",
        "https://farm4.staticflickr.com/3783/11057486794_ded16a794a_z.jpg"
       ]
      },
      {
       "output_type": "stream",
       "stream": "stdout",
       "text": [
        "\n",
        "https://farm6.staticflickr.com/5534/11163935553_3f43d84a25_z.jpg"
       ]
      },
      {
       "output_type": "stream",
       "stream": "stdout",
       "text": [
        "\n",
        "https://farm3.staticflickr.com/2924/14396927685_aae5862f4e_z.jpg"
       ]
      },
      {
       "output_type": "stream",
       "stream": "stdout",
       "text": [
        "\n",
        "https://farm4.staticflickr.com/3736/11108324354_6990612a7f_z.jpg"
       ]
      },
      {
       "output_type": "stream",
       "stream": "stdout",
       "text": [
        "\n",
        "https://farm4.staticflickr.com/3739/10794956446_0d7838582e_z.jpg"
       ]
      },
      {
       "output_type": "stream",
       "stream": "stdout",
       "text": [
        "\n",
        "https://farm6.staticflickr.com/5483/11090394834_13a4f5b2e3_z.jpg"
       ]
      },
      {
       "output_type": "stream",
       "stream": "stdout",
       "text": [
        "\n",
        "https://farm8.staticflickr.com/7359/10632965116_97c6f27181_z.jpg"
       ]
      },
      {
       "output_type": "stream",
       "stream": "stdout",
       "text": [
        "\n",
        "https://farm8.staticflickr.com/7367/11210706586_eb3cd19bf1_z.jpg"
       ]
      },
      {
       "output_type": "stream",
       "stream": "stdout",
       "text": [
        "\n",
        "https://farm8.staticflickr.com/7064/13273385755_5e1f00a074_z.jpg"
       ]
      },
      {
       "output_type": "stream",
       "stream": "stdout",
       "text": [
        "\n",
        "https://farm8.staticflickr.com/7445/12081114376_831e2a4dcb_z.jpg"
       ]
      },
      {
       "output_type": "stream",
       "stream": "stdout",
       "text": [
        "\n",
        "https://farm6.staticflickr.com/5572/15199003296_e4ae7c78c5_z.jpg"
       ]
      },
      {
       "output_type": "stream",
       "stream": "stdout",
       "text": [
        "\n",
        "https://farm3.staticflickr.com/2853/11044245483_8b688c7914_z.jpg"
       ]
      },
      {
       "output_type": "stream",
       "stream": "stdout",
       "text": [
        "\n",
        "https://farm8.staticflickr.com/7342/11057172373_4a13d1ea97_z.jpg"
       ]
      },
      {
       "output_type": "stream",
       "stream": "stdout",
       "text": [
        "\n",
        "https://farm4.staticflickr.com/3686/10642479383_728fa6633b_z.jpg"
       ]
      },
      {
       "output_type": "stream",
       "stream": "stdout",
       "text": [
        "\n",
        "https://farm8.staticflickr.com/7337/12910301984_5d54b693c3_z.jpg"
       ]
      },
      {
       "output_type": "stream",
       "stream": "stdout",
       "text": [
        "\n",
        "https://farm8.staticflickr.com/7291/11056336833_32617eb7d3_z.jpg"
       ]
      },
      {
       "output_type": "stream",
       "stream": "stdout",
       "text": [
        "\n",
        "https://farm4.staticflickr.com/3723/10866248843_22a37857fa_z.jpg"
       ]
      },
      {
       "output_type": "stream",
       "stream": "stdout",
       "text": [
        "\n",
        "https://farm6.staticflickr.com/5513/11039990063_8b6af99bed_z.jpg"
       ]
      },
      {
       "output_type": "stream",
       "stream": "stdout",
       "text": [
        "\n",
        "https://farm4.staticflickr.com/3774/11060334053_bc56557c8e_z.jpg"
       ]
      },
      {
       "output_type": "stream",
       "stream": "stdout",
       "text": [
        "\n",
        "error DSC_6239-Edit.jpg\n",
        "https://farm3.staticflickr.com/2807/10911843215_8d0cbb86d1_z.jpg"
       ]
      },
      {
       "output_type": "stream",
       "stream": "stdout",
       "text": [
        "\n",
        "https://farm4.staticflickr.com/3677/10920687616_6e453aaa11_z.jpg"
       ]
      },
      {
       "output_type": "stream",
       "stream": "stdout",
       "text": [
        "\n",
        "https://farm4.staticflickr.com/3802/10992854803_5ca08ea216_z.jpg"
       ]
      },
      {
       "output_type": "stream",
       "stream": "stdout",
       "text": [
        "\n",
        "https://farm8.staticflickr.com/7343/10862344184_55508d5d6e_z.jpg"
       ]
      },
      {
       "output_type": "stream",
       "stream": "stdout",
       "text": [
        "\n",
        "https://farm3.staticflickr.com/2888/10818675893_903a56d814_z.jpg"
       ]
      },
      {
       "output_type": "stream",
       "stream": "stdout",
       "text": [
        "\n",
        "https://farm4.staticflickr.com/3791/11895412824_8890f78edc_z.jpg"
       ]
      },
      {
       "output_type": "stream",
       "stream": "stdout",
       "text": [
        "\n",
        "https://farm8.staticflickr.com/7430/10935486145_7cab1687e5_z.jpg"
       ]
      },
      {
       "output_type": "stream",
       "stream": "stdout",
       "text": [
        "\n",
        "https://farm4.staticflickr.com/3902/14810258268_e392abfc35_z.jpg"
       ]
      },
      {
       "output_type": "stream",
       "stream": "stdout",
       "text": [
        "\n",
        "https://farm8.staticflickr.com/7402/10789850755_907a970bfc_z.jpg"
       ]
      },
      {
       "output_type": "stream",
       "stream": "stdout",
       "text": [
        "\n",
        "https://farm6.staticflickr.com/5474/10870386953_215fa302ef_z.jpg"
       ]
      },
      {
       "output_type": "stream",
       "stream": "stdout",
       "text": [
        "\n",
        "https://farm8.staticflickr.com/7372/11073512766_a70ba63afb_z.jpg"
       ]
      },
      {
       "output_type": "stream",
       "stream": "stdout",
       "text": [
        "\n",
        "https://farm8.staticflickr.com/7293/10713360073_f65ff4043f_z.jpg"
       ]
      },
      {
       "output_type": "stream",
       "stream": "stdout",
       "text": [
        "\n",
        "https://farm6.staticflickr.com/5487/14142194818_6f2e781290_z.jpg"
       ]
      },
      {
       "output_type": "stream",
       "stream": "stdout",
       "text": [
        "\n",
        "https://farm6.staticflickr.com/5502/11026047576_43c4b661e9_z.jpg"
       ]
      },
      {
       "output_type": "stream",
       "stream": "stdout",
       "text": [
        "\n",
        "https://farm6.staticflickr.com/5534/10645936554_76f5ed2840_z.jpg"
       ]
      },
      {
       "output_type": "stream",
       "stream": "stdout",
       "text": [
        "\n",
        "https://farm6.staticflickr.com/5495/10949376813_c40ae88f45_z.jpg"
       ]
      },
      {
       "output_type": "stream",
       "stream": "stdout",
       "text": [
        "\n",
        "https://farm6.staticflickr.com/5488/11421339775_4bcfdd57f0_z.jpg"
       ]
      },
      {
       "output_type": "stream",
       "stream": "stdout",
       "text": [
        "\n",
        "https://farm6.staticflickr.com/5575/15165849476_dc561ce1c3_z.jpg"
       ]
      },
      {
       "output_type": "stream",
       "stream": "stdout",
       "text": [
        "\n",
        "https://farm4.staticflickr.com/3712/13216515864_0dd5657821_z.jpg"
       ]
      },
      {
       "output_type": "stream",
       "stream": "stdout",
       "text": [
        "\n",
        "https://farm4.staticflickr.com/3770/10823303583_069275bb39_z.jpg"
       ]
      },
      {
       "output_type": "stream",
       "stream": "stdout",
       "text": [
        "\n",
        "https://farm3.staticflickr.com/2822/11099417554_02f97bcb42_z.jpg"
       ]
      },
      {
       "output_type": "stream",
       "stream": "stdout",
       "text": [
        "\n",
        "https://farm6.staticflickr.com/5608/15322820228_ef20d7df69_z.jpg"
       ]
      },
      {
       "output_type": "stream",
       "stream": "stdout",
       "text": [
        "\n",
        "https://farm8.staticflickr.com/7291/11775559206_d6128fbbe8_z.jpg"
       ]
      },
      {
       "output_type": "stream",
       "stream": "stdout",
       "text": [
        "\n",
        "https://farm8.staticflickr.com/7294/11954106644_f333426e27_z.jpg"
       ]
      },
      {
       "output_type": "stream",
       "stream": "stdout",
       "text": [
        "\n",
        "https://farm8.staticflickr.com/7340/11101678423_2ffbdcc323_z.jpg"
       ]
      },
      {
       "output_type": "stream",
       "stream": "stdout",
       "text": [
        "\n",
        "https://farm8.staticflickr.com/7337/10719356255_ecc8eed6cb_z.jpg"
       ]
      },
      {
       "output_type": "stream",
       "stream": "stdout",
       "text": [
        "\n",
        "https://farm6.staticflickr.com/5508/11231755183_e82434f3d2_z.jpg"
       ]
      },
      {
       "output_type": "stream",
       "stream": "stdout",
       "text": [
        "\n",
        "https://farm6.staticflickr.com/5542/10770326565_7df8b18e42_z.jpg"
       ]
      },
      {
       "output_type": "stream",
       "stream": "stdout",
       "text": [
        "\n",
        "https://farm3.staticflickr.com/2811/11101778366_8d307209f9_z.jpg"
       ]
      },
      {
       "output_type": "stream",
       "stream": "stdout",
       "text": [
        "\n",
        "https://farm4.staticflickr.com/3676/10843166534_e06391f333_z.jpg"
       ]
      },
      {
       "output_type": "stream",
       "stream": "stdout",
       "text": [
        "\n",
        "https://farm6.staticflickr.com/5521/11163788216_318ef222ac_z.jpg"
       ]
      },
      {
       "output_type": "stream",
       "stream": "stdout",
       "text": [
        "\n",
        "https://farm6.staticflickr.com/5473/10842807745_c39cbb850e_z.jpg"
       ]
      },
      {
       "output_type": "stream",
       "stream": "stdout",
       "text": [
        "\n",
        "https://farm8.staticflickr.com/7391/10716978313_b1d57f74b4_z.jpg"
       ]
      },
      {
       "output_type": "stream",
       "stream": "stdout",
       "text": [
        "\n",
        "https://farm8.staticflickr.com/7304/12563480974_49d21d9205_z.jpg"
       ]
      },
      {
       "output_type": "stream",
       "stream": "stdout",
       "text": [
        "\n",
        "https://farm8.staticflickr.com/7323/10905932096_9a47c302f3_z.jpg"
       ]
      },
      {
       "output_type": "stream",
       "stream": "stdout",
       "text": [
        "\n",
        "https://farm6.staticflickr.com/5040/14142195588_ab43775e0d_z.jpg"
       ]
      },
      {
       "output_type": "stream",
       "stream": "stdout",
       "text": [
        "\n",
        "https://farm3.staticflickr.com/2865/10845314766_5a77baaffb_z.jpg"
       ]
      },
      {
       "output_type": "stream",
       "stream": "stdout",
       "text": [
        "\n",
        "https://farm4.staticflickr.com/3832/11056722886_f7faa44907_z.jpg"
       ]
      },
      {
       "output_type": "stream",
       "stream": "stdout",
       "text": [
        "\n",
        "https://farm3.staticflickr.com/2815/10824091984_4cfdac3e1a_z.jpg"
       ]
      },
      {
       "output_type": "stream",
       "stream": "stdout",
       "text": [
        "\n",
        "https://farm6.staticflickr.com/5589/13888819198_f74e7103ce_z.jpg"
       ]
      },
      {
       "output_type": "stream",
       "stream": "stdout",
       "text": [
        "\n",
        "https://farm6.staticflickr.com/5544/10633931536_d14e5d36a9_z.jpg"
       ]
      },
      {
       "output_type": "stream",
       "stream": "stdout",
       "text": [
        "\n",
        "https://farm6.staticflickr.com/5471/10999425254_5a4cda47a6_z.jpg"
       ]
      },
      {
       "output_type": "stream",
       "stream": "stdout",
       "text": [
        "\n",
        "https://farm8.staticflickr.com/7331/10871690506_3a340746c4_z.jpg"
       ]
      },
      {
       "output_type": "stream",
       "stream": "stdout",
       "text": [
        "\n",
        "https://farm4.staticflickr.com/3685/12855487214_a358df5709_z.jpg"
       ]
      },
      {
       "output_type": "stream",
       "stream": "stdout",
       "text": [
        "\n",
        "https://farm8.staticflickr.com/7300/10949387905_beb43f5644_z.jpg"
       ]
      },
      {
       "output_type": "stream",
       "stream": "stdout",
       "text": [
        "\n",
        "https://farm3.staticflickr.com/2946/15286725070_06180c8300_z.jpg"
       ]
      },
      {
       "output_type": "stream",
       "stream": "stdout",
       "text": [
        "\n",
        "https://farm8.staticflickr.com/7373/11580847033_a09de99921_z.jpg"
       ]
      },
      {
       "output_type": "stream",
       "stream": "stdout",
       "text": [
        "\n",
        "https://farm6.staticflickr.com/5506/10743668544_ef4cb1cb53_z.jpg"
       ]
      },
      {
       "output_type": "stream",
       "stream": "stdout",
       "text": [
        "\n",
        "https://farm8.staticflickr.com/7417/10785986536_9af8ef6cc4_z.jpg"
       ]
      },
      {
       "output_type": "stream",
       "stream": "stdout",
       "text": [
        "\n",
        "https://farm8.staticflickr.com/7367/10989742166_0159a58a8d_z.jpg"
       ]
      },
      {
       "output_type": "stream",
       "stream": "stdout",
       "text": [
        "\n",
        "https://farm8.staticflickr.com/7369/10830020865_811d918559_z.jpg"
       ]
      },
      {
       "output_type": "stream",
       "stream": "stdout",
       "text": [
        "\n",
        "https://farm8.staticflickr.com/7399/11055533025_6502cde00b_z.jpg"
       ]
      },
      {
       "output_type": "stream",
       "stream": "stdout",
       "text": [
        "\n",
        "https://farm3.staticflickr.com/2819/11014999503_b16c83ee1a_z.jpg"
       ]
      },
      {
       "output_type": "stream",
       "stream": "stdout",
       "text": [
        "\n",
        "https://farm6.staticflickr.com/5481/11074548373_ff61bd4840_z.jpg"
       ]
      },
      {
       "output_type": "stream",
       "stream": "stdout",
       "text": [
        "\n",
        "https://farm6.staticflickr.com/5516/11546000755_67dd8180d1_z.jpg"
       ]
      },
      {
       "output_type": "stream",
       "stream": "stdout",
       "text": [
        "\n",
        "https://farm3.staticflickr.com/2846/11135449884_283c083392_z.jpg"
       ]
      },
      {
       "output_type": "stream",
       "stream": "stdout",
       "text": [
        "\n",
        "https://farm8.staticflickr.com/7389/10907458253_8a4db9ae0f_z.jpg"
       ]
      },
      {
       "output_type": "stream",
       "stream": "stdout",
       "text": [
        "\n",
        "https://farm4.staticflickr.com/3834/11055977646_3c09f508d1_z.jpg"
       ]
      },
      {
       "output_type": "stream",
       "stream": "stdout",
       "text": [
        "\n",
        "https://farm8.staticflickr.com/7434/11177416236_4d32717b62_z.jpg"
       ]
      },
      {
       "output_type": "stream",
       "stream": "stdout",
       "text": [
        "\n",
        "https://farm4.staticflickr.com/3666/10910994985_72986c9ae1_z.jpg"
       ]
      },
      {
       "output_type": "stream",
       "stream": "stdout",
       "text": [
        "\n",
        "https://farm4.staticflickr.com/3754/11563485236_497f7171cf_z.jpg"
       ]
      },
      {
       "output_type": "stream",
       "stream": "stdout",
       "text": [
        "\n",
        "https://farm4.staticflickr.com/3729/10936800864_1fedffdd9b_z.jpg"
       ]
      },
      {
       "output_type": "stream",
       "stream": "stdout",
       "text": [
        "\n",
        "https://farm4.staticflickr.com/3755/10704442784_43e4e1d913_z.jpg"
       ]
      },
      {
       "output_type": "stream",
       "stream": "stdout",
       "text": [
        "\n",
        "https://farm6.staticflickr.com/5474/11194895845_441c2106e8_z.jpg"
       ]
      },
      {
       "output_type": "stream",
       "stream": "stdout",
       "text": [
        "\n",
        "https://farm6.staticflickr.com/5499/10759624774_eef12cc6a6_z.jpg"
       ]
      },
      {
       "output_type": "stream",
       "stream": "stdout",
       "text": [
        "\n",
        "https://farm6.staticflickr.com/5495/10905311063_a914894752_z.jpg"
       ]
      },
      {
       "output_type": "stream",
       "stream": "stdout",
       "text": [
        "\n",
        "https://farm6.staticflickr.com/5500/11619990956_61a11819c0_z.jpg"
       ]
      },
      {
       "output_type": "stream",
       "stream": "stdout",
       "text": [
        "\n",
        "https://farm4.staticflickr.com/3716/11561120814_4f407c01a6_z.jpg"
       ]
      },
      {
       "output_type": "stream",
       "stream": "stdout",
       "text": [
        "\n",
        "https://farm4.staticflickr.com/3857/14973881736_e70b33d92b_z.jpg"
       ]
      },
      {
       "output_type": "stream",
       "stream": "stdout",
       "text": [
        "\n",
        "https://farm4.staticflickr.com/3666/11456035384_e2a5989eaa_z.jpg"
       ]
      },
      {
       "output_type": "stream",
       "stream": "stdout",
       "text": [
        "\n",
        "https://farm8.staticflickr.com/7355/11619467174_ec8e4eb5a8_z.jpg"
       ]
      },
      {
       "output_type": "stream",
       "stream": "stdout",
       "text": [
        "\n",
        "https://farm6.staticflickr.com/5525/11057042183_24f984815b_z.jpg"
       ]
      },
      {
       "output_type": "stream",
       "stream": "stdout",
       "text": [
        "\n",
        "https://farm6.staticflickr.com/5535/10928154776_1e0d2d3b8d_z.jpg"
       ]
      },
      {
       "output_type": "stream",
       "stream": "stdout",
       "text": [
        "\n",
        "https://farm3.staticflickr.com/2884/10790141444_4718e912dd_z.jpg"
       ]
      },
      {
       "output_type": "stream",
       "stream": "stdout",
       "text": [
        "\n",
        "https://farm3.staticflickr.com/2887/10890046315_39e268b2ff_z.jpg"
       ]
      },
      {
       "output_type": "stream",
       "stream": "stdout",
       "text": [
        "\n",
        "https://farm3.staticflickr.com/2854/13273413365_f7a3341eb9_z.jpg"
       ]
      },
      {
       "output_type": "stream",
       "stream": "stdout",
       "text": [
        "\n",
        "https://farm8.staticflickr.com/7443/10891550774_49eb335d2a_z.jpg"
       ]
      },
      {
       "output_type": "stream",
       "stream": "stdout",
       "text": [
        "\n",
        "https://farm6.staticflickr.com/5476/10811764384_ab48c10440_z.jpg"
       ]
      },
      {
       "output_type": "stream",
       "stream": "stdout",
       "text": [
        "\n",
        "https://farm8.staticflickr.com/7358/11089920323_40289ee9a5_z.jpg"
       ]
      },
      {
       "output_type": "stream",
       "stream": "stdout",
       "text": [
        "\n",
        "https://farm4.staticflickr.com/3825/10905485724_a559081f6e_z.jpg"
       ]
      },
      {
       "output_type": "stream",
       "stream": "stdout",
       "text": [
        "\n",
        "https://farm8.staticflickr.com/7392/11109411204_142d2b9ab3_z.jpg"
       ]
      },
      {
       "output_type": "stream",
       "stream": "stdout",
       "text": [
        "\n",
        "https://farm6.staticflickr.com/5605/14943537593_6162ba122f_z.jpg"
       ]
      },
      {
       "output_type": "stream",
       "stream": "stdout",
       "text": [
        "\n",
        "https://farm6.staticflickr.com/5471/11167013725_d587d15da0_z.jpg"
       ]
      },
      {
       "output_type": "stream",
       "stream": "stdout",
       "text": [
        "\n",
        "https://farm4.staticflickr.com/3728/10980561715_8b0994745e_z.jpg"
       ]
      },
      {
       "output_type": "stream",
       "stream": "stdout",
       "text": [
        "\n",
        "https://farm6.staticflickr.com/5518/11002140913_6f342f8ebb_z.jpg"
       ]
      },
      {
       "output_type": "stream",
       "stream": "stdout",
       "text": [
        "\n",
        "https://farm6.staticflickr.com/5549/11083575413_bd3117c5dd_z.jpg"
       ]
      },
      {
       "output_type": "stream",
       "stream": "stdout",
       "text": [
        "\n",
        "https://farm6.staticflickr.com/5496/11086039375_4505e8c141_z.jpg"
       ]
      },
      {
       "output_type": "stream",
       "stream": "stdout",
       "text": [
        "\n",
        "https://farm3.staticflickr.com/2854/11352498483_83b3d727c2_z.jpg"
       ]
      },
      {
       "output_type": "stream",
       "stream": "stdout",
       "text": [
        "\n",
        "https://farm6.staticflickr.com/5534/11067865053_49474e5048_z.jpg"
       ]
      },
      {
       "output_type": "stream",
       "stream": "stdout",
       "text": [
        "\n",
        "error"
       ]
      },
      {
       "output_type": "stream",
       "stream": "stdout",
       "text": [
        " https://farm8.staticflickr.com/7164/6513202341_5eec5f0f02_z.jpg\n",
        "https://farm8.staticflickr.com/7372/12456156303_42c8537656_z.jpg"
       ]
      },
      {
       "output_type": "stream",
       "stream": "stdout",
       "text": [
        "\n",
        "https://farm6.staticflickr.com/5490/11119139516_6cf97b9034_z.jpg"
       ]
      },
      {
       "output_type": "stream",
       "stream": "stdout",
       "text": [
        "\n",
        "https://farm4.staticflickr.com/3802/11206824263_931be804e0_z.jpg"
       ]
      },
      {
       "output_type": "stream",
       "stream": "stdout",
       "text": [
        "\n",
        "https://farm4.staticflickr.com/3714/11693035963_4bcf6910a1_z.jpg"
       ]
      },
      {
       "output_type": "stream",
       "stream": "stdout",
       "text": [
        "\n",
        "https://farm8.staticflickr.com/7381/10933653096_dcb2fcb045_z.jpg"
       ]
      },
      {
       "output_type": "stream",
       "stream": "stdout",
       "text": [
        "\n",
        "https://farm8.staticflickr.com/7308/11180452445_ae54d73f3a_z.jpg"
       ]
      },
      {
       "output_type": "stream",
       "stream": "stdout",
       "text": [
        "\n",
        "https://farm6.staticflickr.com/5482/10980752934_8b7b6d467c_z.jpg"
       ]
      },
      {
       "output_type": "stream",
       "stream": "stdout",
       "text": [
        "\n",
        "https://farm6.staticflickr.com/5492/10657534606_de93c4863d_z.jpg"
       ]
      },
      {
       "output_type": "stream",
       "stream": "stdout",
       "text": [
        "\n",
        "https://farm8.staticflickr.com/7410/10785933815_11221b599e_z.jpg"
       ]
      },
      {
       "output_type": "stream",
       "stream": "stdout",
       "text": [
        "\n",
        "https://farm3.staticflickr.com/2906/14083840159_d81daff474_z.jpg"
       ]
      },
      {
       "output_type": "stream",
       "stream": "stdout",
       "text": [
        "\n",
        "https://farm6.staticflickr.com/5546/12029610123_1def9b0d8e_z.jpg"
       ]
      },
      {
       "output_type": "stream",
       "stream": "stdout",
       "text": [
        "\n",
        "https://farm4.staticflickr.com/3683/11044622685_eb5b40d916_z.jpg"
       ]
      },
      {
       "output_type": "stream",
       "stream": "stdout",
       "text": [
        "\n",
        "https://farm4.staticflickr.com/3708/10708395775_d3479e2985_z.jpg"
       ]
      },
      {
       "output_type": "stream",
       "stream": "stdout",
       "text": [
        "\n",
        "https://farm8.staticflickr.com/7443/13243873813_11dd8dac05_z.jpg"
       ]
      },
      {
       "output_type": "stream",
       "stream": "stdout",
       "text": [
        "\n",
        "https://farm8.staticflickr.com/7375/10798931106_00d43b6968_z.jpg"
       ]
      },
      {
       "output_type": "stream",
       "stream": "stdout",
       "text": [
        "\n",
        "https://farm3.staticflickr.com/2822/11231821055_eeed90785d_z.jpg"
       ]
      },
      {
       "output_type": "stream",
       "stream": "stdout",
       "text": [
        "\n",
        "https://farm4.staticflickr.com/3778/11128624436_80790fbfe9_z.jpg"
       ]
      },
      {
       "output_type": "stream",
       "stream": "stdout",
       "text": [
        "\n",
        "https://farm4.staticflickr.com/3753/11139094364_6281e36475_z.jpg"
       ]
      },
      {
       "output_type": "stream",
       "stream": "stdout",
       "text": [
        "\n",
        "https://farm8.staticflickr.com/7322/10905055344_ba7e3e09be_z.jpg"
       ]
      },
      {
       "output_type": "stream",
       "stream": "stdout",
       "text": [
        "\n",
        "https://farm4.staticflickr.com/3677/11094666873_40fd30c6a3_z.jpg"
       ]
      },
      {
       "output_type": "stream",
       "stream": "stdout",
       "text": [
        "\n",
        "https://farm8.staticflickr.com/7351/11151943933_2dc820527c_z.jpg"
       ]
      },
      {
       "output_type": "stream",
       "stream": "stdout",
       "text": [
        "\n",
        "https://farm3.staticflickr.com/2843/11170341696_1606a577ee_z.jpg"
       ]
      },
      {
       "output_type": "stream",
       "stream": "stdout",
       "text": [
        "\n",
        "https://farm4.staticflickr.com/3814/11150908363_0d76c2f5d7_z.jpg"
       ]
      },
      {
       "output_type": "stream",
       "stream": "stdout",
       "text": [
        "\n",
        "https://farm4.staticflickr.com/3787/10837753314_f038a8f595_z.jpg"
       ]
      },
      {
       "output_type": "stream",
       "stream": "stdout",
       "text": [
        "\n",
        "https://farm3.staticflickr.com/2880/10922485826_019b3596d9_z.jpg"
       ]
      },
      {
       "output_type": "stream",
       "stream": "stdout",
       "text": [
        "\n",
        "https://farm3.staticflickr.com/2838/10776117485_c98c254a1c_z.jpg"
       ]
      },
      {
       "output_type": "stream",
       "stream": "stdout",
       "text": [
        "\n",
        "https://farm4.staticflickr.com/3707/10709417575_231048c8fb_z.jpg"
       ]
      },
      {
       "output_type": "stream",
       "stream": "stdout",
       "text": [
        "\n",
        "https://farm4.staticflickr.com/3713/11017929895_ba21560ebf_z.jpg"
       ]
      },
      {
       "output_type": "stream",
       "stream": "stdout",
       "text": [
        "\n",
        "https://farm8.staticflickr.com/7389/11748545494_6da82910ba_z.jpg"
       ]
      },
      {
       "output_type": "stream",
       "stream": "stdout",
       "text": [
        "\n",
        "https://farm6.staticflickr.com/5493/10900410873_9f076b639a_z.jpg"
       ]
      },
      {
       "output_type": "stream",
       "stream": "stdout",
       "text": [
        "\n",
        "https://farm3.staticflickr.com/2816/11014871126_ed51a239df_z.jpg"
       ]
      },
      {
       "output_type": "stream",
       "stream": "stdout",
       "text": [
        "\n",
        "https://farm6.staticflickr.com/5503/10968260665_3b7a38683d_z.jpg"
       ]
      },
      {
       "output_type": "stream",
       "stream": "stdout",
       "text": [
        "\n",
        "https://farm6.staticflickr.com/5503/10797449924_a7a3dd3611_z.jpg"
       ]
      },
      {
       "output_type": "stream",
       "stream": "stdout",
       "text": [
        "\n",
        "https://farm8.staticflickr.com/7410/11031797945_36d444ab9a_z.jpg"
       ]
      },
      {
       "output_type": "stream",
       "stream": "stdout",
       "text": [
        "\n",
        "https://farm8.staticflickr.com/7453/10977220606_fe87e713b5_z.jpg"
       ]
      },
      {
       "output_type": "stream",
       "stream": "stdout",
       "text": [
        "\n",
        "https://farm3.staticflickr.com/2813/10988665465_d744fe6cd0_z.jpg"
       ]
      },
      {
       "output_type": "stream",
       "stream": "stdout",
       "text": [
        "\n",
        "https://farm3.staticflickr.com/2822/12031602405_cd878bf5d5_z.jpg"
       ]
      },
      {
       "output_type": "stream",
       "stream": "stdout",
       "text": [
        "\n",
        "https://farm3.staticflickr.com/2851/10765708005_e1d4821a93_z.jpg"
       ]
      },
      {
       "output_type": "stream",
       "stream": "stdout",
       "text": [
        "\n",
        "https://farm4.staticflickr.com/3876/14694202106_cccbb0a8a0_z.jpg"
       ]
      },
      {
       "output_type": "stream",
       "stream": "stdout",
       "text": [
        "\n",
        "https://farm4.staticflickr.com/3675/11114814675_3955b958b1_z.jpg"
       ]
      },
      {
       "output_type": "stream",
       "stream": "stdout",
       "text": [
        "\n",
        "https://farm3.staticflickr.com/2858/10911996786_a5b43e2811_z.jpg"
       ]
      },
      {
       "output_type": "stream",
       "stream": "stdout",
       "text": [
        "\n",
        "https://farm6.staticflickr.com/5474/11115035396_dec5d76538_z.jpg"
       ]
      },
      {
       "output_type": "stream",
       "stream": "stdout",
       "text": [
        "\n",
        "https://farm3.staticflickr.com/2823/10718008254_8656a9ffc9_z.jpg"
       ]
      },
      {
       "output_type": "stream",
       "stream": "stdout",
       "text": [
        "\n",
        "https://farm8.staticflickr.com/7230/13913460483_594baacbc3_z.jpg"
       ]
      },
      {
       "output_type": "stream",
       "stream": "stdout",
       "text": [
        "\n",
        "https://farm4.staticflickr.com/3782/13916791454_06c59775c0_z.jpg"
       ]
      },
      {
       "output_type": "stream",
       "stream": "stdout",
       "text": [
        "\n",
        "https://farm3.staticflickr.com/2868/10802092126_65dabb6db5_z.jpg"
       ]
      },
      {
       "output_type": "stream",
       "stream": "stdout",
       "text": [
        "\n",
        "https://farm8.staticflickr.com/7380/10842705443_a7ec800ed6_z.jpg"
       ]
      },
      {
       "output_type": "stream",
       "stream": "stdout",
       "text": [
        "\n",
        "https://farm8.staticflickr.com/7289/10804699074_a2757cb5c2_z.jpg"
       ]
      },
      {
       "output_type": "stream",
       "stream": "stdout",
       "text": [
        "\n",
        "https://farm3.staticflickr.com/2865/11026055525_4d836f7dd3_z.jpg"
       ]
      },
      {
       "output_type": "stream",
       "stream": "stdout",
       "text": [
        "\n",
        "https://farm8.staticflickr.com/7323/10664975695_3ef4f9dd14_z.jpg"
       ]
      },
      {
       "output_type": "stream",
       "stream": "stdout",
       "text": [
        "\n",
        "https://farm3.staticflickr.com/2831/11993935426_b2e595a7a1_z.jpg"
       ]
      },
      {
       "output_type": "stream",
       "stream": "stdout",
       "text": [
        "\n",
        "https://farm4.staticflickr.com/3756/11193854196_9ac3d3738b_z.jpg"
       ]
      },
      {
       "output_type": "stream",
       "stream": "stdout",
       "text": [
        "\n",
        "https://farm4.staticflickr.com/3829/10982467294_cc740622a4_z.jpg"
       ]
      },
      {
       "output_type": "stream",
       "stream": "stdout",
       "text": [
        "\n",
        "https://farm8.staticflickr.com/7322/10851201265_f203f4906c_z.jpg"
       ]
      },
      {
       "output_type": "stream",
       "stream": "stdout",
       "text": [
        "\n",
        "https://farm4.staticflickr.com/3715/12118632103_3abc273a73_z.jpg"
       ]
      },
      {
       "output_type": "stream",
       "stream": "stdout",
       "text": [
        "\n",
        "https://farm3.staticflickr.com/2813/11340623305_b8a1c9a3d8_z.jpg"
       ]
      },
      {
       "output_type": "stream",
       "stream": "stdout",
       "text": [
        "\n",
        "https://farm8.staticflickr.com/7347/10695380784_aaf7875634_z.jpg"
       ]
      },
      {
       "output_type": "stream",
       "stream": "stdout",
       "text": [
        "\n",
        "https://farm3.staticflickr.com/2809/10491455835_62bb93b575_z.jpg"
       ]
      },
      {
       "output_type": "stream",
       "stream": "stdout",
       "text": [
        "\n",
        "https://farm4.staticflickr.com/3717/10988182543_94851b1af5_z.jpg"
       ]
      },
      {
       "output_type": "stream",
       "stream": "stdout",
       "text": [
        "\n",
        "https://farm3.staticflickr.com/2826/11026384005_1a618c9cda_z.jpg"
       ]
      },
      {
       "output_type": "stream",
       "stream": "stdout",
       "text": [
        "\n",
        "https://farm6.staticflickr.com/5531/10482051266_a86332e347_z.jpg"
       ]
      },
      {
       "output_type": "stream",
       "stream": "stdout",
       "text": [
        "\n",
        "https://farm3.staticflickr.com/2837/10228567874_7dfb1cbceb_z.jpg"
       ]
      },
      {
       "output_type": "stream",
       "stream": "stdout",
       "text": [
        "\n",
        "https://farm6.staticflickr.com/5528/10222685206_ce3052b0a1_z.jpg"
       ]
      },
      {
       "output_type": "stream",
       "stream": "stdout",
       "text": [
        "\n",
        "https://farm8.staticflickr.com/7370/10407517435_92831e79ea_z.jpg"
       ]
      },
      {
       "output_type": "stream",
       "stream": "stdout",
       "text": [
        "\n",
        "https://farm8.staticflickr.com/7333/10140958865_40c273dcbe_z.jpg"
       ]
      },
      {
       "output_type": "stream",
       "stream": "stdout",
       "text": [
        "\n",
        "https://farm4.staticflickr.com/3709/10540635645_667c2b6452_z.jpg"
       ]
      },
      {
       "output_type": "stream",
       "stream": "stdout",
       "text": [
        "\n",
        "https://farm4.staticflickr.com/3822/11091994876_1145f92493_z.jpg"
       ]
      },
      {
       "output_type": "stream",
       "stream": "stdout",
       "text": [
        "\n",
        "https://farm4.staticflickr.com/3668/10237664575_89e3f5c6a0_z.jpg"
       ]
      },
      {
       "output_type": "stream",
       "stream": "stdout",
       "text": [
        "\n",
        "https://farm6.staticflickr.com/5501/10543142744_716dc7fb15_z.jpg"
       ]
      },
      {
       "output_type": "stream",
       "stream": "stdout",
       "text": [
        "\n",
        "https://farm3.staticflickr.com/2837/10915295006_371aee52a3_z.jpg"
       ]
      },
      {
       "output_type": "stream",
       "stream": "stdout",
       "text": [
        "\n",
        "https://farm4.staticflickr.com/3712/10865795074_a1261362f6_z.jpg"
       ]
      },
      {
       "output_type": "stream",
       "stream": "stdout",
       "text": [
        "\n",
        "https://farm8.staticflickr.com/7326/10312463975_8ba8b5c408_z.jpg"
       ]
      },
      {
       "output_type": "stream",
       "stream": "stdout",
       "text": [
        "\n",
        "https://farm3.staticflickr.com/2854/10857038835_2f58706365_z.jpg"
       ]
      },
      {
       "output_type": "stream",
       "stream": "stdout",
       "text": [
        "\n",
        "https://farm3.staticflickr.com/2837/10885835094_f66839aece_z.jpg"
       ]
      },
      {
       "output_type": "stream",
       "stream": "stdout",
       "text": [
        "\n",
        "https://farm4.staticflickr.com/3776/10403585694_6cf8e92876_z.jpg"
       ]
      },
      {
       "output_type": "stream",
       "stream": "stdout",
       "text": [
        "\n",
        "https://farm6.staticflickr.com/5491/10463939254_96a79ef4ce_z.jpg"
       ]
      },
      {
       "output_type": "stream",
       "stream": "stdout",
       "text": [
        "\n",
        "https://farm6.staticflickr.com/5481/10385227005_8fdf5ccf57_z.jpg"
       ]
      },
      {
       "output_type": "stream",
       "stream": "stdout",
       "text": [
        "\n",
        "https://farm4.staticflickr.com/3734/10445284496_75253b3f0b_z.jpg"
       ]
      },
      {
       "output_type": "stream",
       "stream": "stdout",
       "text": [
        "\n",
        "https://farm8.staticflickr.com/7460/10612767803_f646dd87e2_z.jpg"
       ]
      },
      {
       "output_type": "stream",
       "stream": "stdout",
       "text": [
        "\n",
        "https://farm6.staticflickr.com/5476/10338644956_3dba5b3c5b_z.jpg"
       ]
      },
      {
       "output_type": "stream",
       "stream": "stdout",
       "text": [
        "\n",
        "https://farm8.staticflickr.com/7382/10380810513_686a8333a0_z.jpg"
       ]
      },
      {
       "output_type": "stream",
       "stream": "stdout",
       "text": [
        "\n",
        "https://farm8.staticflickr.com/7335/10279227266_0fe772e15f_z.jpg"
       ]
      },
      {
       "output_type": "stream",
       "stream": "stdout",
       "text": [
        "\n",
        "https://farm6.staticflickr.com/5474/10448552695_8f76902ef3_z.jpg"
       ]
      },
      {
       "output_type": "stream",
       "stream": "stdout",
       "text": [
        "\n",
        "https://farm6.staticflickr.com/5532/10114834485_521d8e9505_z.jpg"
       ]
      },
      {
       "output_type": "stream",
       "stream": "stdout",
       "text": [
        "\n",
        "https://farm6.staticflickr.com/5522/10560184373_5685671ec1_z.jpg"
       ]
      },
      {
       "output_type": "stream",
       "stream": "stdout",
       "text": [
        "\n",
        "https://farm4.staticflickr.com/3765/10347885436_54cf6c656a_z.jpg"
       ]
      },
      {
       "output_type": "stream",
       "stream": "stdout",
       "text": [
        "\n",
        "https://farm6.staticflickr.com/5486/10129120936_dbc875fd0f_z.jpg"
       ]
      },
      {
       "output_type": "stream",
       "stream": "stdout",
       "text": [
        "\n",
        "https://farm6.staticflickr.com/5508/10587799006_926fe1f8d7_z.jpg"
       ]
      },
      {
       "output_type": "stream",
       "stream": "stdout",
       "text": [
        "\n",
        "https://farm6.staticflickr.com/5538/11325271726_95921a36de_z.jpg"
       ]
      },
      {
       "output_type": "stream",
       "stream": "stdout",
       "text": [
        "\n",
        "https://farm4.staticflickr.com/3690/10135322096_ba01cc1546_z.jpg"
       ]
      },
      {
       "output_type": "stream",
       "stream": "stdout",
       "text": [
        "\n",
        "https://farm4.staticflickr.com/3673/10738370296_97fcfe3963_z.jpg"
       ]
      },
      {
       "output_type": "stream",
       "stream": "stdout",
       "text": [
        "\n",
        "https://farm4.staticflickr.com/3786/14289027866_3154bea106_z.jpg"
       ]
      },
      {
       "output_type": "stream",
       "stream": "stdout",
       "text": [
        "\n",
        "https://farm8.staticflickr.com/7389/10145898974_ee44d9df20_z.jpg"
       ]
      },
      {
       "output_type": "stream",
       "stream": "stdout",
       "text": [
        "\n",
        "https://farm4.staticflickr.com/3692/11159092504_d4cc525258_z.jpg"
       ]
      },
      {
       "output_type": "stream",
       "stream": "stdout",
       "text": [
        "\n",
        "https://farm3.staticflickr.com/2845/11368091633_f5507dc13c_z.jpg"
       ]
      },
      {
       "output_type": "stream",
       "stream": "stdout",
       "text": [
        "\n",
        "https://farm3.staticflickr.com/2849/10348137186_dda451d71c_z.jpg"
       ]
      },
      {
       "output_type": "stream",
       "stream": "stdout",
       "text": [
        "\n",
        "https://farm4.staticflickr.com/3738/10162904443_fc35b968fb_z.jpg"
       ]
      },
      {
       "output_type": "stream",
       "stream": "stdout",
       "text": [
        "\n",
        "https://farm3.staticflickr.com/2819/10338089594_3391092ea4_z.jpg"
       ]
      },
      {
       "output_type": "stream",
       "stream": "stdout",
       "text": [
        "\n",
        "https://farm8.staticflickr.com/7400/10271814563_01f057a509_z.jpg"
       ]
      },
      {
       "output_type": "stream",
       "stream": "stdout",
       "text": [
        "\n",
        "https://farm3.staticflickr.com/2844/12109176615_eb45162628_z.jpg"
       ]
      },
      {
       "output_type": "stream",
       "stream": "stdout",
       "text": [
        "\n",
        "https://farm4.staticflickr.com/3777/10590264574_9300e289b0_z.jpg"
       ]
      },
      {
       "output_type": "stream",
       "stream": "stdout",
       "text": [
        "\n",
        "https://farm4.staticflickr.com/3711/13747104694_818ef0e9f8_z.jpg"
       ]
      },
      {
       "output_type": "stream",
       "stream": "stdout",
       "text": [
        "\n",
        "https://farm4.staticflickr.com/3833/10587829176_f3365a5053_z.jpg"
       ]
      },
      {
       "output_type": "stream",
       "stream": "stdout",
       "text": [
        "\n",
        "https://farm3.staticflickr.com/2805/10085775834_61eb56e58d_z.jpg"
       ]
      },
      {
       "output_type": "stream",
       "stream": "stdout",
       "text": [
        "\n",
        "https://farm4.staticflickr.com/3769/10128965144_2fec405354_z.jpg"
       ]
      },
      {
       "output_type": "stream",
       "stream": "stdout",
       "text": [
        "\n",
        "https://farm3.staticflickr.com/2911/14524334433_5e9b1048d2_z.jpg"
       ]
      },
      {
       "output_type": "stream",
       "stream": "stdout",
       "text": [
        "\n",
        "https://farm4.staticflickr.com/3923/15054436526_387aac7439_z.jpg"
       ]
      },
      {
       "output_type": "stream",
       "stream": "stdout",
       "text": [
        "\n",
        "https://farm3.staticflickr.com/2859/10108687254_0db64a1a05_z.jpg"
       ]
      },
      {
       "output_type": "stream",
       "stream": "stdout",
       "text": [
        "\n",
        "https://farm6.staticflickr.com/5479/11924756846_f291dfd273_z.jpg"
       ]
      },
      {
       "output_type": "stream",
       "stream": "stdout",
       "text": [
        "\n",
        "https://farm6.staticflickr.com/5485/10479566253_e781c26af9_z.jpg"
       ]
      },
      {
       "output_type": "stream",
       "stream": "stdout",
       "text": [
        "\n",
        "https://farm8.staticflickr.com/7470/15694505876_59e1a95504_z.jpg"
       ]
      },
      {
       "output_type": "stream",
       "stream": "stdout",
       "text": [
        "\n",
        "https://farm4.staticflickr.com/3758/10338810613_c89ffbd0c2_z.jpg"
       ]
      },
      {
       "output_type": "stream",
       "stream": "stdout",
       "text": [
        "\n",
        "https://farm4.staticflickr.com/3676/10247893205_e713dbf144_z.jpg"
       ]
      },
      {
       "output_type": "stream",
       "stream": "stdout",
       "text": [
        "\n",
        "https://farm6.staticflickr.com/5494/10802003046_fd339279bb_z.jpg"
       ]
      },
      {
       "output_type": "stream",
       "stream": "stdout",
       "text": [
        "\n",
        "https://farm6.staticflickr.com/5515/10410552426_98f9741310_z.jpg"
       ]
      },
      {
       "output_type": "stream",
       "stream": "stdout",
       "text": [
        "\n",
        "https://farm6.staticflickr.com/5484/11048417456_ee5a3a2429_z.jpg"
       ]
      },
      {
       "output_type": "stream",
       "stream": "stdout",
       "text": [
        "\n",
        "https://farm4.staticflickr.com/3689/12795191375_3de8482cf4_z.jpg"
       ]
      },
      {
       "output_type": "stream",
       "stream": "stdout",
       "text": [
        "\n",
        "https://farm6.staticflickr.com/5515/10723519554_b55a99ec3d_z.jpg"
       ]
      },
      {
       "output_type": "stream",
       "stream": "stdout",
       "text": [
        "\n",
        "https://farm6.staticflickr.com/5547/10445663124_4bc556ef41_z.jpg"
       ]
      },
      {
       "output_type": "stream",
       "stream": "stdout",
       "text": [
        "\n",
        "https://farm4.staticflickr.com/3695/10171130115_3f82064216_z.jpg"
       ]
      },
      {
       "output_type": "stream",
       "stream": "stdout",
       "text": [
        "\n",
        "https://farm4.staticflickr.com/3726/10166162964_e6bb088521_z.jpg"
       ]
      },
      {
       "output_type": "stream",
       "stream": "stdout",
       "text": [
        "\n",
        "https://farm4.staticflickr.com/3712/10439686604_a526ae1e9d_z.jpg"
       ]
      },
      {
       "output_type": "stream",
       "stream": "stdout",
       "text": [
        "\n",
        "https://farm3.staticflickr.com/2815/10332276953_9a15a39bfe_z.jpg"
       ]
      },
      {
       "output_type": "stream",
       "stream": "stdout",
       "text": [
        "\n",
        "https://farm6.staticflickr.com/5493/10326922773_60fdf3f663_z.jpg"
       ]
      },
      {
       "output_type": "stream",
       "stream": "stdout",
       "text": [
        "\n",
        "https://farm8.staticflickr.com/7344/10212285756_2f58ca40ed_z.jpg"
       ]
      },
      {
       "output_type": "stream",
       "stream": "stdout",
       "text": [
        "\n",
        "https://farm6.staticflickr.com/5493/10384654414_ec8de7eb4b_z.jpg"
       ]
      },
      {
       "output_type": "stream",
       "stream": "stdout",
       "text": [
        "\n",
        "https://farm6.staticflickr.com/5460/10210925345_da7328e0a9_z.jpg"
       ]
      },
      {
       "output_type": "stream",
       "stream": "stdout",
       "text": [
        "\n",
        "https://farm4.staticflickr.com/3678/10373110105_981b05a8a6_z.jpg"
       ]
      },
      {
       "output_type": "stream",
       "stream": "stdout",
       "text": [
        "\n",
        "https://farm4.staticflickr.com/3791/10312128684_f5c4cb3f5f_z.jpg"
       ]
      },
      {
       "output_type": "stream",
       "stream": "stdout",
       "text": [
        "\n",
        "https://farm8.staticflickr.com/7339/10604881413_e6c3a4cb4f_z.jpg"
       ]
      },
      {
       "output_type": "stream",
       "stream": "stdout",
       "text": [
        "\n",
        "https://farm8.staticflickr.com/7371/13902984107_1ab6f11948_z.jpg"
       ]
      },
      {
       "output_type": "stream",
       "stream": "stdout",
       "text": [
        "\n",
        "https://farm8.staticflickr.com/7347/10306160024_04137d8976_z.jpg"
       ]
      },
      {
       "output_type": "stream",
       "stream": "stdout",
       "text": [
        "\n",
        "https://farm4.staticflickr.com/3893/14928732636_d94bfabb9f_z.jpg"
       ]
      },
      {
       "output_type": "stream",
       "stream": "stdout",
       "text": [
        "\n",
        "https://farm6.staticflickr.com/5510/10770606453_07e2f1aa9a_z.jpg"
       ]
      },
      {
       "output_type": "stream",
       "stream": "stdout",
       "text": [
        "\n",
        "https://farm4.staticflickr.com/3698/10348071643_037f9e9e40_z.jpg"
       ]
      },
      {
       "output_type": "stream",
       "stream": "stdout",
       "text": [
        "\n",
        "https://farm4.staticflickr.com/3736/12240002594_c9a267e387_z.jpg"
       ]
      },
      {
       "output_type": "stream",
       "stream": "stdout",
       "text": [
        "\n",
        "https://farm3.staticflickr.com/2849/10608841465_5f879ac6a4_z.jpg"
       ]
      },
      {
       "output_type": "stream",
       "stream": "stdout",
       "text": [
        "\n",
        "https://farm8.staticflickr.com/7405/11731425286_6c1b63fcb7_z.jpg"
       ]
      },
      {
       "output_type": "stream",
       "stream": "stdout",
       "text": [
        "\n",
        "https://farm8.staticflickr.com/7402/10447604435_13f03e4ba9_z.jpg"
       ]
      },
      {
       "output_type": "stream",
       "stream": "stdout",
       "text": [
        "\n",
        "https://farm8.staticflickr.com/7377/10338624014_0e93f03cc8_z.jpg"
       ]
      },
      {
       "output_type": "stream",
       "stream": "stdout",
       "text": [
        "\n",
        "https://farm6.staticflickr.com/5497/10043339443_678964210c_z.jpg"
       ]
      },
      {
       "output_type": "stream",
       "stream": "stdout",
       "text": [
        "\n",
        "https://farm8.staticflickr.com/7331/13913092696_572910d7cb_z.jpg"
       ]
      },
      {
       "output_type": "stream",
       "stream": "stdout",
       "text": [
        "\n",
        "https://farm8.staticflickr.com/7310/10038241044_b2d5ffcc21_z.jpg"
       ]
      },
      {
       "output_type": "stream",
       "stream": "stdout",
       "text": [
        "\n",
        "https://farm3.staticflickr.com/2843/10346788633_0e00f041b1_z.jpg"
       ]
      },
      {
       "output_type": "stream",
       "stream": "stdout",
       "text": [
        "\n",
        "https://farm8.staticflickr.com/7458/10056705865_893a9f5a7f_z.jpg"
       ]
      },
      {
       "output_type": "stream",
       "stream": "stdout",
       "text": [
        "\n",
        "https://farm3.staticflickr.com/2849/10384945754_c74976054a_z.jpg"
       ]
      },
      {
       "output_type": "stream",
       "stream": "stdout",
       "text": [
        "\n",
        "https://farm8.staticflickr.com/7437/10223334335_f6551e632d_z.jpg"
       ]
      },
      {
       "output_type": "stream",
       "stream": "stdout",
       "text": [
        "\n",
        "https://farm4.staticflickr.com/3667/10331359953_5698bd1bfd_z.jpg"
       ]
      },
      {
       "output_type": "stream",
       "stream": "stdout",
       "text": [
        "\n",
        "https://farm6.staticflickr.com/5338/10243829334_ab65db5953_z.jpg"
       ]
      },
      {
       "output_type": "stream",
       "stream": "stdout",
       "text": [
        "\n",
        "https://farm6.staticflickr.com/5538/10555316443_d053b3062f_z.jpg"
       ]
      },
      {
       "output_type": "stream",
       "stream": "stdout",
       "text": [
        "\n",
        "https://farm8.staticflickr.com/7328/10750438845_e09770ef15_z.jpg"
       ]
      },
      {
       "output_type": "stream",
       "stream": "stdout",
       "text": [
        "\n",
        "https://farm3.staticflickr.com/2835/10567386953_d124c8f6b2_z.jpg"
       ]
      },
      {
       "output_type": "stream",
       "stream": "stdout",
       "text": [
        "\n",
        "https://farm8.staticflickr.com/7491/15526046039_340a9ae183_z.jpg"
       ]
      },
      {
       "output_type": "stream",
       "stream": "stdout",
       "text": [
        "\n",
        "https://farm3.staticflickr.com/2864/10773599015_834bdde85f_z.jpg"
       ]
      },
      {
       "output_type": "stream",
       "stream": "stdout",
       "text": [
        "\n",
        "https://farm8.staticflickr.com/7401/10294325323_1851fee6ed_z.jpg"
       ]
      },
      {
       "output_type": "stream",
       "stream": "stdout",
       "text": [
        "\n",
        "https://farm8.staticflickr.com/7388/10271679956_17d35ae696_z.jpg"
       ]
      },
      {
       "output_type": "stream",
       "stream": "stdout",
       "text": [
        "\n",
        "https://farm6.staticflickr.com/5492/10770383066_597c53f1f6_z.jpg"
       ]
      },
      {
       "output_type": "stream",
       "stream": "stdout",
       "text": [
        "\n",
        "https://farm4.staticflickr.com/3723/10534265063_76c3ebd296_z.jpg"
       ]
      },
      {
       "output_type": "stream",
       "stream": "stdout",
       "text": [
        "\n",
        "https://farm6.staticflickr.com/5453/10126046283_4df3a88558_z.jpg"
       ]
      },
      {
       "output_type": "stream",
       "stream": "stdout",
       "text": [
        "\n",
        "https://farm3.staticflickr.com/2874/10167313316_64aa151977_z.jpg"
       ]
      },
      {
       "output_type": "stream",
       "stream": "stdout",
       "text": [
        "\n",
        "https://farm8.staticflickr.com/7454/10286267625_9f74296eb4_z.jpg"
       ]
      },
      {
       "output_type": "stream",
       "stream": "stdout",
       "text": [
        "\n",
        "https://farm6.staticflickr.com/5534/11422905364_8c826d79a3_z.jpg"
       ]
      },
      {
       "output_type": "stream",
       "stream": "stdout",
       "text": [
        "\n",
        "https://farm6.staticflickr.com/5522/10307941023_14cda1f44a_z.jpg"
       ]
      },
      {
       "output_type": "stream",
       "stream": "stdout",
       "text": [
        "\n",
        "https://farm6.staticflickr.com/5519/10425922183_e1178e0391_z.jpg"
       ]
      },
      {
       "output_type": "stream",
       "stream": "stdout",
       "text": [
        "\n",
        "https://farm3.staticflickr.com/2888/11995059085_6c757562fd_z.jpg"
       ]
      },
      {
       "output_type": "stream",
       "stream": "stdout",
       "text": [
        "\n",
        "https://farm4.staticflickr.com/3699/13296122675_309bdc1992_z.jpg"
       ]
      },
      {
       "output_type": "stream",
       "stream": "stdout",
       "text": [
        "\n",
        "https://farm6.staticflickr.com/5530/10256757373_ce51bb6922_z.jpg"
       ]
      },
      {
       "output_type": "stream",
       "stream": "stdout",
       "text": [
        "\n",
        "https://farm4.staticflickr.com/3928/15545420295_519f52332a_z.jpg"
       ]
      },
      {
       "output_type": "stream",
       "stream": "stdout",
       "text": [
        "\n",
        "https://farm4.staticflickr.com/3802/10146639556_cd99e744b2_z.jpg"
       ]
      },
      {
       "output_type": "stream",
       "stream": "stdout",
       "text": [
        "\n",
        "https://farm8.staticflickr.com/7390/10354074504_43125a5baa_z.jpg"
       ]
      },
      {
       "output_type": "stream",
       "stream": "stdout",
       "text": [
        "\n",
        "https://farm8.staticflickr.com/7400/10312179796_14a60280e2_z.jpg"
       ]
      },
      {
       "output_type": "stream",
       "stream": "stdout",
       "text": [
        "\n",
        "https://farm3.staticflickr.com/2878/13454565365_a4009f69be_z.jpg"
       ]
      },
      {
       "output_type": "stream",
       "stream": "stdout",
       "text": [
        "\n",
        "https://farm3.staticflickr.com/2809/10120511284_f385380d19_z.jpg"
       ]
      },
      {
       "output_type": "stream",
       "stream": "stdout",
       "text": [
        "\n",
        "https://farm6.staticflickr.com/5537/12616119403_22da714140_z.jpg"
       ]
      },
      {
       "output_type": "stream",
       "stream": "stdout",
       "text": [
        "\n",
        "error"
       ]
      },
      {
       "output_type": "stream",
       "stream": "stdout",
       "text": [
        " https://farm4.staticflickr.com/3809/9096557468_970599dda8_z.jpg\n",
        "https://farm4.staticflickr.com/3800/10324601345_2be1a356d3_z.jpg"
       ]
      },
      {
       "output_type": "stream",
       "stream": "stdout",
       "text": [
        "\n",
        "https://farm6.staticflickr.com/5492/10220449794_ae05ce0567_z.jpg"
       ]
      },
      {
       "output_type": "stream",
       "stream": "stdout",
       "text": [
        "\n",
        "https://farm6.staticflickr.com/5549/10348278106_e91ae7df38_z.jpg"
       ]
      },
      {
       "output_type": "stream",
       "stream": "stdout",
       "text": [
        "\n",
        "https://farm8.staticflickr.com/7417/10157253733_6f5605218a_z.jpg"
       ]
      },
      {
       "output_type": "stream",
       "stream": "stdout",
       "text": [
        "\n",
        "https://farm8.staticflickr.com/7457/10279551513_c19bd1c6b6_z.jpg"
       ]
      },
      {
       "output_type": "stream",
       "stream": "stdout",
       "text": [
        "\n",
        "https://farm4.staticflickr.com/3666/10223220063_6cfaa69110_z.jpg"
       ]
      },
      {
       "output_type": "stream",
       "stream": "stdout",
       "text": [
        "\n",
        "https://farm8.staticflickr.com/7352/10231044664_40ca10bd9d_z.jpg"
       ]
      },
      {
       "output_type": "stream",
       "stream": "stdout",
       "text": [
        "\n",
        "https://farm8.staticflickr.com/7411/10509629643_f45fd20dbe_z.jpg"
       ]
      },
      {
       "output_type": "stream",
       "stream": "stdout",
       "text": [
        "\n",
        "https://farm8.staticflickr.com/7459/10222590274_b69953e3a2_z.jpg"
       ]
      },
      {
       "output_type": "stream",
       "stream": "stdout",
       "text": [
        "\n",
        "https://farm8.staticflickr.com/7354/10555133366_3ff2862880_z.jpg"
       ]
      },
      {
       "output_type": "stream",
       "stream": "stdout",
       "text": [
        "\n",
        "https://farm3.staticflickr.com/2870/11938821415_34bce3ef41_z.jpg"
       ]
      },
      {
       "output_type": "stream",
       "stream": "stdout",
       "text": [
        "\n",
        "https://farm8.staticflickr.com/7400/10555095675_bbe8510c75_z.jpg"
       ]
      },
      {
       "output_type": "stream",
       "stream": "stdout",
       "text": [
        "\n",
        "https://farm4.staticflickr.com/3703/11011291683_5a064c9e0f_z.jpg"
       ]
      },
      {
       "output_type": "stream",
       "stream": "stdout",
       "text": [
        "\n",
        "https://farm8.staticflickr.com/7415/10149249123_7ccf1991fb_z.jpg"
       ]
      },
      {
       "output_type": "stream",
       "stream": "stdout",
       "text": [
        "\n",
        "https://farm8.staticflickr.com/7310/10461009635_bbb32285c3_z.jpg"
       ]
      },
      {
       "output_type": "stream",
       "stream": "stdout",
       "text": [
        "\n",
        "https://farm8.staticflickr.com/7382/10386712144_10e7bc7ffd_z.jpg"
       ]
      },
      {
       "output_type": "stream",
       "stream": "stdout",
       "text": [
        "\n",
        "https://farm8.staticflickr.com/7388/10447955355_34edea9cec_z.jpg"
       ]
      },
      {
       "output_type": "stream",
       "stream": "stdout",
       "text": [
        "\n",
        "https://farm3.staticflickr.com/2875/10348290084_87a5b0f594_z.jpg"
       ]
      },
      {
       "output_type": "stream",
       "stream": "stdout",
       "text": [
        "\n",
        "https://farm3.staticflickr.com/2872/10569720023_55e1403fb0_z.jpg"
       ]
      },
      {
       "output_type": "stream",
       "stream": "stdout",
       "text": [
        "\n",
        "https://farm4.staticflickr.com/3801/10483014613_9c81843a9c_z.jpg"
       ]
      },
      {
       "output_type": "stream",
       "stream": "stdout",
       "text": [
        "\n",
        "https://farm8.staticflickr.com/7301/10404449254_07b5554a86_z.jpg"
       ]
      },
      {
       "output_type": "stream",
       "stream": "stdout",
       "text": [
        "\n",
        "https://farm3.staticflickr.com/2849/10117476496_ac1a52c272_z.jpg"
       ]
      },
      {
       "output_type": "stream",
       "stream": "stdout",
       "text": [
        "\n",
        "https://farm4.staticflickr.com/3755/10307648535_559ec4c040_z.jpg"
       ]
      },
      {
       "output_type": "stream",
       "stream": "stdout",
       "text": [
        "\n",
        "https://farm8.staticflickr.com/7209/13783855745_4a7d5d2db7_z.jpg"
       ]
      },
      {
       "output_type": "stream",
       "stream": "stdout",
       "text": [
        "\n",
        "https://farm6.staticflickr.com/5546/10411272326_14f358c8c8_z.jpg"
       ]
      },
      {
       "output_type": "stream",
       "stream": "stdout",
       "text": [
        "\n",
        "https://farm3.staticflickr.com/2814/10250209446_0a6c1f49f4_z.jpg"
       ]
      },
      {
       "output_type": "stream",
       "stream": "stdout",
       "text": [
        "\n",
        "https://farm8.staticflickr.com/7313/10460839496_59efcb0d2f_z.jpg"
       ]
      },
      {
       "output_type": "stream",
       "stream": "stdout",
       "text": [
        "\n",
        "https://farm4.staticflickr.com/3713/10097554243_d20b374446_z.jpg"
       ]
      },
      {
       "output_type": "stream",
       "stream": "stdout",
       "text": [
        "\n",
        "https://farm8.staticflickr.com/7381/10445512364_4b2d95d7bb_z.jpg"
       ]
      },
      {
       "output_type": "stream",
       "stream": "stdout",
       "text": [
        "\n",
        "https://farm4.staticflickr.com/3747/10154951066_b295ece2fe_z.jpg"
       ]
      },
      {
       "output_type": "stream",
       "stream": "stdout",
       "text": [
        "\n",
        "https://farm8.staticflickr.com/7456/10447993405_c9a757f451_z.jpg"
       ]
      },
      {
       "output_type": "stream",
       "stream": "stdout",
       "text": [
        "\n",
        "https://farm4.staticflickr.com/3867/14480231552_b630a7b068_z.jpg"
       ]
      },
      {
       "output_type": "stream",
       "stream": "stdout",
       "text": [
        "\n",
        "https://farm4.staticflickr.com/3792/10199947655_1ee6b3678d_z.jpg"
       ]
      },
      {
       "output_type": "stream",
       "stream": "stdout",
       "text": [
        "\n",
        "https://farm4.staticflickr.com/3677/10142996136_697f149bd6_z.jpg"
       ]
      },
      {
       "output_type": "stream",
       "stream": "stdout",
       "text": [
        "\n",
        "https://farm3.staticflickr.com/2810/10685879494_97024e117c_z.jpg"
       ]
      },
      {
       "output_type": "stream",
       "stream": "stdout",
       "text": [
        "\n",
        "https://farm4.staticflickr.com/3736/10348283156_b7c7a1e0bb_z.jpg"
       ]
      },
      {
       "output_type": "stream",
       "stream": "stdout",
       "text": [
        "\n",
        "https://farm4.staticflickr.com/3673/10136813606_edcaec6a5c_z.jpg"
       ]
      },
      {
       "output_type": "stream",
       "stream": "stdout",
       "text": [
        "\n",
        "https://farm6.staticflickr.com/5474/10338622554_9c0b950d7c_z.jpg"
       ]
      },
      {
       "output_type": "stream",
       "stream": "stdout",
       "text": [
        "\n",
        "https://farm4.staticflickr.com/3681/10490760875_2856067656_z.jpg"
       ]
      },
      {
       "output_type": "stream",
       "stream": "stdout",
       "text": [
        "\n",
        "https://farm6.staticflickr.com/5491/10392733565_4c1ba0ecf1_z.jpg"
       ]
      },
      {
       "output_type": "stream",
       "stream": "stdout",
       "text": [
        "\n",
        "https://farm3.staticflickr.com/2872/10120999203_ed7fd8008a_z.jpg"
       ]
      },
      {
       "output_type": "stream",
       "stream": "stdout",
       "text": [
        "\n",
        "https://farm8.staticflickr.com/7176/13902446509_f3c1b997a1_z.jpg"
       ]
      },
      {
       "output_type": "stream",
       "stream": "stdout",
       "text": [
        "\n",
        "https://farm8.staticflickr.com/7377/10119975993_bed42bc6af_z.jpg"
       ]
      },
      {
       "output_type": "stream",
       "stream": "stdout",
       "text": [
        "\n",
        "https://farm6.staticflickr.com/5449/10089319293_9d84bb9c42_z.jpg"
       ]
      },
      {
       "output_type": "stream",
       "stream": "stdout",
       "text": [
        "\n",
        "https://farm6.staticflickr.com/5515/10312596883_8793ba1435_z.jpg"
       ]
      },
      {
       "output_type": "stream",
       "stream": "stdout",
       "text": [
        "\n",
        "https://farm4.staticflickr.com/3834/10566163244_dd6901944e_z.jpg"
       ]
      },
      {
       "output_type": "stream",
       "stream": "stdout",
       "text": [
        "\n",
        "https://farm6.staticflickr.com/5346/10189097736_7e7c7c219d_z.jpg"
       ]
      },
      {
       "output_type": "stream",
       "stream": "stdout",
       "text": [
        "\n",
        "https://farm4.staticflickr.com/3733/10402799383_cf167ab8ae_z.jpg"
       ]
      },
      {
       "output_type": "stream",
       "stream": "stdout",
       "text": [
        "\n",
        "https://farm6.staticflickr.com/5499/14579228525_a25cb9fef9_z.jpg"
       ]
      },
      {
       "output_type": "stream",
       "stream": "stdout",
       "text": [
        "\n",
        "https://farm4.staticflickr.com/3833/10355978234_e3d057c452_z.jpg"
       ]
      },
      {
       "output_type": "stream",
       "stream": "stdout",
       "text": [
        "\n",
        "https://farm6.staticflickr.com/5521/10338645426_a23dd35d14_z.jpg"
       ]
      },
      {
       "output_type": "stream",
       "stream": "stdout",
       "text": [
        "\n",
        "https://farm3.staticflickr.com/2859/10174104536_fc93cdd6b2_z.jpg"
       ]
      },
      {
       "output_type": "stream",
       "stream": "stdout",
       "text": [
        "\n",
        "https://farm8.staticflickr.com/7293/10508152873_6c02074e4d_z.jpg"
       ]
      },
      {
       "output_type": "stream",
       "stream": "stdout",
       "text": [
        "\n",
        "https://farm4.staticflickr.com/3681/10116287505_f88d12c2cb_z.jpg"
       ]
      },
      {
       "output_type": "stream",
       "stream": "stdout",
       "text": [
        "\n",
        "https://farm3.staticflickr.com/2806/10150158593_68d8d6f7c6_z.jpg"
       ]
      },
      {
       "output_type": "stream",
       "stream": "stdout",
       "text": [
        "\n",
        "https://farm3.staticflickr.com/2842/10965351685_3b2dcd6887_z.jpg"
       ]
      },
      {
       "output_type": "stream",
       "stream": "stdout",
       "text": [
        "\n",
        "https://farm6.staticflickr.com/5580/14980801656_07a2140537_z.jpg"
       ]
      },
      {
       "output_type": "stream",
       "stream": "stdout",
       "text": [
        "\n",
        "https://farm3.staticflickr.com/2833/10456009543_f8a3caf1f9_z.jpg"
       ]
      },
      {
       "output_type": "stream",
       "stream": "stdout",
       "text": [
        "\n",
        "https://farm6.staticflickr.com/5478/10312473535_b6b5654229_z.jpg"
       ]
      },
      {
       "output_type": "stream",
       "stream": "stdout",
       "text": [
        "\n",
        "https://farm8.staticflickr.com/7454/10342295344_48fcd58f14_z.jpg"
       ]
      },
      {
       "output_type": "stream",
       "stream": "stdout",
       "text": [
        "\n",
        "https://farm3.staticflickr.com/2870/10322235945_e6120bb819_z.jpg"
       ]
      },
      {
       "output_type": "stream",
       "stream": "stdout",
       "text": [
        "\n",
        "https://farm6.staticflickr.com/5521/10755544764_74f3a743af_z.jpg"
       ]
      },
      {
       "output_type": "stream",
       "stream": "stdout",
       "text": [
        "\n",
        "https://farm8.staticflickr.com/7294/12479809464_0825bed61a_z.jpg"
       ]
      },
      {
       "output_type": "stream",
       "stream": "stdout",
       "text": [
        "\n",
        "error"
       ]
      },
      {
       "output_type": "stream",
       "stream": "stdout",
       "text": [
        " https://farm4.staticflickr.com/3132/3237348776_ee42915212_z.jpg\n",
        "https://farm8.staticflickr.com/7422/10345639424_75eb468092_z.jpg"
       ]
      },
      {
       "output_type": "stream",
       "stream": "stdout",
       "text": [
        "\n",
        "https://farm4.staticflickr.com/3829/10509515993_32b27146d0_z.jpg"
       ]
      },
      {
       "output_type": "stream",
       "stream": "stdout",
       "text": [
        "\n",
        "https://farm8.staticflickr.com/7396/10346564306_03a03cc98d_z.jpg"
       ]
      },
      {
       "output_type": "stream",
       "stream": "stdout",
       "text": [
        "\n",
        "https://farm8.staticflickr.com/7319/10205002016_02df32051a_z.jpg"
       ]
      },
      {
       "output_type": "stream",
       "stream": "stdout",
       "text": [
        "\n",
        "https://farm8.staticflickr.com/7384/10060392546_c0b7a3d804_z.jpg"
       ]
      },
      {
       "output_type": "stream",
       "stream": "stdout",
       "text": [
        "\n",
        "https://farm8.staticflickr.com/7341/10367357256_ed5532f7aa_z.jpg"
       ]
      },
      {
       "output_type": "stream",
       "stream": "stdout",
       "text": [
        "\n",
        "https://farm8.staticflickr.com/7432/10579792984_671e7a2271_z.jpg"
       ]
      },
      {
       "output_type": "stream",
       "stream": "stdout",
       "text": [
        "\n",
        "https://farm8.staticflickr.com/7450/10222780413_8a3832e1b3_z.jpg"
       ]
      },
      {
       "output_type": "stream",
       "stream": "stdout",
       "text": [
        "\n",
        "https://farm6.staticflickr.com/5483/10805373653_6ddbff57c1_z.jpg"
       ]
      },
      {
       "output_type": "stream",
       "stream": "stdout",
       "text": [
        "\n",
        "https://farm8.staticflickr.com/7322/10377114565_34b322d315_z.jpg"
       ]
      },
      {
       "output_type": "stream",
       "stream": "stdout",
       "text": [
        "\n",
        "https://farm3.staticflickr.com/2894/10089173704_c573335d52_z.jpg"
       ]
      },
      {
       "output_type": "stream",
       "stream": "stdout",
       "text": [
        "\n",
        "https://farm3.staticflickr.com/2870/12083847326_0bf4b186fd_z.jpg"
       ]
      },
      {
       "output_type": "stream",
       "stream": "stdout",
       "text": [
        "\n",
        "https://farm8.staticflickr.com/7372/10718346116_274b1e9efc_z.jpg"
       ]
      },
      {
       "output_type": "stream",
       "stream": "stdout",
       "text": [
        "\n",
        "https://farm8.staticflickr.com/7306/11044392253_5148fb5183_z.jpg"
       ]
      },
      {
       "output_type": "stream",
       "stream": "stdout",
       "text": [
        "\n",
        "https://farm8.staticflickr.com/7296/12675557884_8ef243ffe4_z.jpg"
       ]
      },
      {
       "output_type": "stream",
       "stream": "stdout",
       "text": [
        "\n",
        "https://farm6.staticflickr.com/5510/10317010726_92f53bf569_z.jpg"
       ]
      },
      {
       "output_type": "stream",
       "stream": "stdout",
       "text": [
        "\n",
        "https://farm4.staticflickr.com/3768/10441832694_5f2e6f41ee_z.jpg"
       ]
      },
      {
       "output_type": "stream",
       "stream": "stdout",
       "text": [
        "\n",
        "https://farm4.staticflickr.com/3778/12031871173_8678a4d743_z.jpg"
       ]
      },
      {
       "output_type": "stream",
       "stream": "stdout",
       "text": [
        "\n",
        "https://farm8.staticflickr.com/7449/10534088136_e466127159_z.jpg"
       ]
      },
      {
       "output_type": "stream",
       "stream": "stdout",
       "text": [
        "\n",
        "https://farm3.staticflickr.com/2856/10101169414_411c6bdfd2_z.jpg"
       ]
      },
      {
       "output_type": "stream",
       "stream": "stdout",
       "text": [
        "\n",
        "https://farm4.staticflickr.com/3708/10170289096_a6effbefc1_z.jpg"
       ]
      },
      {
       "output_type": "stream",
       "stream": "stdout",
       "text": [
        "\n",
        "https://farm6.staticflickr.com/5522/10529040774_100f556243_z.jpg"
       ]
      },
      {
       "output_type": "stream",
       "stream": "stdout",
       "text": [
        "\n",
        "https://farm8.staticflickr.com/7450/10162031763_364dc30074_z.jpg"
       ]
      },
      {
       "output_type": "stream",
       "stream": "stdout",
       "text": [
        "\n",
        "https://farm8.staticflickr.com/7440/10238273544_4f9aae66b3_z.jpg"
       ]
      },
      {
       "output_type": "stream",
       "stream": "stdout",
       "text": [
        "\n",
        "https://farm8.staticflickr.com/7432/10390328765_222e8f7e0f_z.jpg"
       ]
      },
      {
       "output_type": "stream",
       "stream": "stdout",
       "text": [
        "\n",
        "https://farm8.staticflickr.com/7314/13338064794_cd9d500743_z.jpg"
       ]
      },
      {
       "output_type": "stream",
       "stream": "stdout",
       "text": [
        "\n",
        "error"
       ]
      },
      {
       "output_type": "stream",
       "stream": "stdout",
       "text": [
        " https://farm4.staticflickr.com/3810/9692366171_97dcb2143a_z.jpg\n",
        "error"
       ]
      },
      {
       "output_type": "stream",
       "stream": "stdout",
       "text": [
        " https://farm8.staticflickr.com/7315/9755003076_effdc4970f_z.jpg\n",
        "https://farm3.staticflickr.com/2855/11833889724_9b39e085a5_z.jpg"
       ]
      },
      {
       "output_type": "stream",
       "stream": "stdout",
       "text": [
        "\n",
        "error"
       ]
      },
      {
       "output_type": "stream",
       "stream": "stdout",
       "text": [
        " https://farm6.staticflickr.com/5507/9839758393_3ca689e101_z.jpg\n",
        "error"
       ]
      },
      {
       "output_type": "stream",
       "stream": "stdout",
       "text": [
        " https://farm3.staticflickr.com/2813/9806964143_b4daff21b5_z.jpg\n",
        "error"
       ]
      },
      {
       "output_type": "stream",
       "stream": "stdout",
       "text": [
        " https://farm4.staticflickr.com/3693/9691501898_040b96e98e_z.jpg\n",
        "error"
       ]
      },
      {
       "output_type": "stream",
       "stream": "stdout",
       "text": [
        " https://farm3.staticflickr.com/2857/9822071053_4291ea49d6_z.jpg\n",
        "https://farm3.staticflickr.com/2889/10108048616_40e06c447e_z.jpg"
       ]
      },
      {
       "output_type": "stream",
       "stream": "stdout",
       "text": [
        "\n",
        "error"
       ]
      },
      {
       "output_type": "stream",
       "stream": "stdout",
       "text": [
        " https://farm3.staticflickr.com/2868/9882458516_3109f26029_z.jpg\n",
        "https://farm4.staticflickr.com/3900/14913269951_9a200145ef_z.jpg"
       ]
      },
      {
       "output_type": "stream",
       "stream": "stdout",
       "text": [
        "\n",
        "error"
       ]
      },
      {
       "output_type": "stream",
       "stream": "stdout",
       "text": [
        " https://farm6.staticflickr.com/5530/9829985733_eef78af805_z.jpg\n",
        "error"
       ]
      },
      {
       "output_type": "stream",
       "stream": "stdout",
       "text": [
        " https://farm6.staticflickr.com/5346/9805966146_be02806313_z.jpg\n",
        "https://farm3.staticflickr.com/2830/11959996005_5841961036_z.jpg"
       ]
      },
      {
       "output_type": "stream",
       "stream": "stdout",
       "text": [
        "\n",
        "error"
       ]
      },
      {
       "output_type": "stream",
       "stream": "stdout",
       "text": [
        " https://farm6.staticflickr.com/5542/9664854634_66df6a47ed_z.jpg\n",
        "https://farm4.staticflickr.com/3941/15445437949_7cd8b256a3_z.jpg"
       ]
      },
      {
       "output_type": "stream",
       "stream": "stdout",
       "text": [
        "\n",
        "error"
       ]
      },
      {
       "output_type": "stream",
       "stream": "stdout",
       "text": [
        " https://farm3.staticflickr.com/2834/9784367743_d4fa06d586_z.jpg\n",
        "error"
       ]
      },
      {
       "output_type": "stream",
       "stream": "stdout",
       "text": [
        " https://farm8.staticflickr.com/7307/9727358063_bd19d814f4_z.jpg\n",
        "error"
       ]
      },
      {
       "output_type": "stream",
       "stream": "stdout",
       "text": [
        " https://farm3.staticflickr.com/2826/9798096164_7656f0e99c_z.jpg\n",
        "https://farm8.staticflickr.com/7397/10426350123_26df7b22e9_z.jpg"
       ]
      },
      {
       "output_type": "stream",
       "stream": "stdout",
       "text": [
        "\n",
        "https://farm8.staticflickr.com/7365/10105119295_e015fc729c_z.jpg"
       ]
      },
      {
       "output_type": "stream",
       "stream": "stdout",
       "text": [
        "\n",
        "error"
       ]
      },
      {
       "output_type": "stream",
       "stream": "stdout",
       "text": [
        " https://farm3.staticflickr.com/2848/9654494884_696902fdf3_z.jpg\n",
        "https://farm3.staticflickr.com/2845/10044996986_94ece70bf7_z.jpg"
       ]
      },
      {
       "output_type": "stream",
       "stream": "stdout",
       "text": [
        "\n",
        "error"
       ]
      },
      {
       "output_type": "stream",
       "stream": "stdout",
       "text": [
        " https://farm4.staticflickr.com/3752/9966837484_ba3a521a0d_z.jpg\n",
        "https://farm4.staticflickr.com/3876/15108882537_558ec05d5c_z.jpg"
       ]
      },
      {
       "output_type": "stream",
       "stream": "stdout",
       "text": [
        "\n",
        "error"
       ]
      },
      {
       "output_type": "stream",
       "stream": "stdout",
       "text": [
        " https://farm6.staticflickr.com/5322/9804995365_13c215379c_z.jpg\n",
        "error"
       ]
      },
      {
       "output_type": "stream",
       "stream": "stdout",
       "text": [
        " https://farm8.staticflickr.com/7319/9741521729_1a77f111b6_z.jpg\n",
        "error"
       ]
      },
      {
       "output_type": "stream",
       "stream": "stdout",
       "text": [
        " https://farm8.staticflickr.com/7378/9658433052_32d54de2ae_z.jpg\n",
        "error"
       ]
      },
      {
       "output_type": "stream",
       "stream": "stdout",
       "text": [
        " https://farm3.staticflickr.com/2823/9843860734_7a9ef0b065_z.jpg\n",
        "error"
       ]
      },
      {
       "output_type": "stream",
       "stream": "stdout",
       "text": [
        " https://farm4.staticflickr.com/3688/9730195773_2fc6347212_z.jpg\n",
        "https://farm8.staticflickr.com/7326/10434981446_c84154bde0_z.jpg"
       ]
      },
      {
       "output_type": "stream",
       "stream": "stdout",
       "text": [
        "\n",
        "error"
       ]
      },
      {
       "output_type": "stream",
       "stream": "stdout",
       "text": [
        " https://farm4.staticflickr.com/3740/9655189463_8e9cde457b_z.jpg\n",
        "error"
       ]
      },
      {
       "output_type": "stream",
       "stream": "stdout",
       "text": [
        " https://farm8.staticflickr.com/7428/9708562406_74e2bbc267_z.jpg\n",
        "error"
       ]
      },
      {
       "output_type": "stream",
       "stream": "stdout",
       "text": [
        " https://farm8.staticflickr.com/7448/9831252145_99641d1d83_z.jpg\n",
        "error"
       ]
      },
      {
       "output_type": "stream",
       "stream": "stdout",
       "text": [
        " https://farm4.staticflickr.com/3715/9767575982_026fbd7efd_z.jpg\n",
        "error"
       ]
      },
      {
       "output_type": "stream",
       "stream": "stdout",
       "text": [
        " https://farm8.staticflickr.com/7296/9765831784_8afa25c0fb_z.jpg\n",
        "error"
       ]
      },
      {
       "output_type": "stream",
       "stream": "stdout",
       "text": [
        " https://farm3.staticflickr.com/2814/9912291344_94ed7db428_z.jpg\n",
        "https://farm3.staticflickr.com/2878/10498009286_b1d1ef8c3c_z.jpg"
       ]
      },
      {
       "output_type": "stream",
       "stream": "stdout",
       "text": [
        "\n",
        "error"
       ]
      },
      {
       "output_type": "stream",
       "stream": "stdout",
       "text": [
        " https://farm4.staticflickr.com/3815/9707143798_6d27e87776_z.jpg\n",
        "error"
       ]
      },
      {
       "output_type": "stream",
       "stream": "stdout",
       "text": [
        " https://farm4.staticflickr.com/3780/9939645006_1394ddf162_z.jpg\n",
        "https://farm6.staticflickr.com/5596/15037523158_d07331ff50_z.jpg"
       ]
      },
      {
       "output_type": "stream",
       "stream": "stdout",
       "text": [
        "\n",
        "error"
       ]
      },
      {
       "output_type": "stream",
       "stream": "stdout",
       "text": [
        " https://farm6.staticflickr.com/5545/9662703807_76ccf58bf0_z.jpg\n",
        "error"
       ]
      },
      {
       "output_type": "stream",
       "stream": "stdout",
       "text": [
        " https://farm8.staticflickr.com/7287/9707162946_4549e1e0bd_z.jpg\n",
        "error"
       ]
      },
      {
       "output_type": "stream",
       "stream": "stdout",
       "text": [
        " https://farm6.staticflickr.com/5508/9823552484_44c1360d43_z.jpg\n",
        "https://farm3.staticflickr.com/2871/11630290763_1453ace5e4_z.jpg"
       ]
      },
      {
       "output_type": "stream",
       "stream": "stdout",
       "text": [
        "\n",
        "error"
       ]
      },
      {
       "output_type": "stream",
       "stream": "stdout",
       "text": [
        " https://farm8.staticflickr.com/7390/9731918937_8d3922a19d.jpg\n",
        "error"
       ]
      },
      {
       "output_type": "stream",
       "stream": "stdout",
       "text": [
        " https://farm6.staticflickr.com/5512/9782266795_6f6c52ea80_z.jpg\n",
        "https://farm3.staticflickr.com/2844/10058360486_5d6819a8bb_z.jpg"
       ]
      },
      {
       "output_type": "stream",
       "stream": "stdout",
       "text": [
        "\n",
        "error"
       ]
      },
      {
       "output_type": "stream",
       "stream": "stdout",
       "text": [
        " https://farm4.staticflickr.com/3700/9893692325_df436ac5c6_z.jpg\n",
        "error"
       ]
      },
      {
       "output_type": "stream",
       "stream": "stdout",
       "text": [
        " https://farm8.staticflickr.com/7440/9771951065_e43c114036_z.jpg\n",
        "error"
       ]
      },
      {
       "output_type": "stream",
       "stream": "stdout",
       "text": [
        " https://farm3.staticflickr.com/2815/9689104491_29f6134e2e_z.jpg\n",
        "https://farm6.staticflickr.com/5524/10244497333_fae76fd30e_z.jpg"
       ]
      },
      {
       "output_type": "stream",
       "stream": "stdout",
       "text": [
        "\n",
        "error"
       ]
      },
      {
       "output_type": "stream",
       "stream": "stdout",
       "text": [
        " https://farm8.staticflickr.com/7418/9703225924_2d25bf7d0c_z.jpg\n",
        "error"
       ]
      },
      {
       "output_type": "stream",
       "stream": "stdout",
       "text": [
        " https://farm6.staticflickr.com/5526/9765762033_5ec3267178_z.jpg\n",
        "error"
       ]
      },
      {
       "output_type": "stream",
       "stream": "stdout",
       "text": [
        " https://farm4.staticflickr.com/3762/9711285960_1bf457ddfa_z.jpg\n",
        "error"
       ]
      },
      {
       "output_type": "stream",
       "stream": "stdout",
       "text": [
        " https://farm8.staticflickr.com/7362/9741521655_507aea2e05_z.jpg\n",
        "error"
       ]
      },
      {
       "output_type": "stream",
       "stream": "stdout",
       "text": [
        " https://farm6.staticflickr.com/5327/9665903081_d52b3273e8_z.jpg\n",
        "error"
       ]
      },
      {
       "output_type": "stream",
       "stream": "stdout",
       "text": [
        " https://farm6.staticflickr.com/5536/9724690794_b62200a9b5_z.jpg\n",
        "error"
       ]
      },
      {
       "output_type": "stream",
       "stream": "stdout",
       "text": [
        " https://farm3.staticflickr.com/2844/9676087382_5a5c2ffe99_z.jpg\n",
        "error"
       ]
      },
      {
       "output_type": "stream",
       "stream": "stdout",
       "text": [
        " https://farm3.staticflickr.com/2812/9847330033_38fe922823_z.jpg\n",
        "error"
       ]
      },
      {
       "output_type": "stream",
       "stream": "stdout",
       "text": [
        " https://farm3.staticflickr.com/2819/9903989926_2df711eab1_z.jpg\n",
        "error"
       ]
      },
      {
       "output_type": "stream",
       "stream": "stdout",
       "text": [
        " https://farm8.staticflickr.com/7390/9700573384_a3fe361cd6_z.jpg\n",
        "https://farm8.staticflickr.com/7386/10211535334_1987410a10_z.jpg"
       ]
      },
      {
       "output_type": "stream",
       "stream": "stdout",
       "text": [
        "\n",
        "error"
       ]
      },
      {
       "output_type": "stream",
       "stream": "stdout",
       "text": [
        " https://farm3.staticflickr.com/2837/9778508574_b9b134da24_z.jpg\n",
        "error"
       ]
      },
      {
       "output_type": "stream",
       "stream": "stdout",
       "text": [
        " https://farm3.staticflickr.com/2832/9807701746_a2a0068a40_z.jpg\n",
        "https://farm8.staticflickr.com/7354/10004747015_e8764057bc_z.jpg"
       ]
      },
      {
       "output_type": "stream",
       "stream": "stdout",
       "text": [
        "\n",
        "https://farm8.staticflickr.com/7410/10319959275_eab646bedb_z.jpg"
       ]
      },
      {
       "output_type": "stream",
       "stream": "stdout",
       "text": [
        "\n",
        "https://farm8.staticflickr.com/7424/10436897503_d93c7f4c8f_z.jpg"
       ]
      },
      {
       "output_type": "stream",
       "stream": "stdout",
       "text": [
        "\n",
        "https://farm4.staticflickr.com/3670/10690189853_07ab15ae85_z.jpg"
       ]
      },
      {
       "output_type": "stream",
       "stream": "stdout",
       "text": [
        "\n",
        "error"
       ]
      },
      {
       "output_type": "stream",
       "stream": "stdout",
       "text": [
        " https://farm4.staticflickr.com/3710/9870341185_7843a7fb86_z.jpg\n",
        "error"
       ]
      },
      {
       "output_type": "stream",
       "stream": "stdout",
       "text": [
        " https://farm3.staticflickr.com/2844/9703880879_9dbd3dac9a_z.jpg\n",
        "https://farm4.staticflickr.com/3714/10766561734_961a977a9c_z.jpg"
       ]
      },
      {
       "output_type": "stream",
       "stream": "stdout",
       "text": [
        "\n",
        "error"
       ]
      },
      {
       "output_type": "stream",
       "stream": "stdout",
       "text": [
        " https://farm8.staticflickr.com/7373/9999945544_5b95e437d0_z.jpg\n",
        "error"
       ]
      },
      {
       "output_type": "stream",
       "stream": "stdout",
       "text": [
        " https://farm8.staticflickr.com/7319/9682168356_ce2c485002_z.jpg\n",
        "https://farm4.staticflickr.com/3730/11512395024_e82048b499_z.jpg"
       ]
      },
      {
       "output_type": "stream",
       "stream": "stdout",
       "text": [
        "\n",
        "error"
       ]
      },
      {
       "output_type": "stream",
       "stream": "stdout",
       "text": [
        " https://farm6.staticflickr.com/5542/9710551069_e28c98ca8d_z.jpg\n",
        "error"
       ]
      },
      {
       "output_type": "stream",
       "stream": "stdout",
       "text": [
        " https://farm6.staticflickr.com/5337/9686845493_21b2422693_z.jpg\n",
        "error"
       ]
      },
      {
       "output_type": "stream",
       "stream": "stdout",
       "text": [
        " https://farm8.staticflickr.com/7437/9741609479_d557d9570d_z.jpg\n",
        "https://farm8.staticflickr.com/7398/11189673934_de2385cab9_z.jpg"
       ]
      },
      {
       "output_type": "stream",
       "stream": "stdout",
       "text": [
        "\n",
        "error"
       ]
      },
      {
       "output_type": "stream",
       "stream": "stdout",
       "text": [
        " https://farm6.staticflickr.com/5485/9794346556_72fb93751e_z.jpg\n",
        "https://farm4.staticflickr.com/3777/12935955603_80723f5938_z.jpg"
       ]
      },
      {
       "output_type": "stream",
       "stream": "stdout",
       "text": [
        "\n",
        "error"
       ]
      },
      {
       "output_type": "stream",
       "stream": "stdout",
       "text": [
        " https://farm3.staticflickr.com/2825/9862278175_caf547e505_z.jpg\n",
        "https://farm6.staticflickr.com/5461/10044102666_8484ae4375_z.jpg"
       ]
      },
      {
       "output_type": "stream",
       "stream": "stdout",
       "text": [
        "\n",
        "error"
       ]
      },
      {
       "output_type": "stream",
       "stream": "stdout",
       "text": [
        " https://farm4.staticflickr.com/3726/9765541452_003138ddc4_z.jpg\n",
        "https://farm6.staticflickr.com/5513/11832169635_65e84aa34e_z.jpg"
       ]
      },
      {
       "output_type": "stream",
       "stream": "stdout",
       "text": [
        "\n",
        "error"
       ]
      },
      {
       "output_type": "stream",
       "stream": "stdout",
       "text": [
        " https://farm6.staticflickr.com/5504/9993769683_9b8c6ec2e3_z.jpg\n",
        "https://farm8.staticflickr.com/7458/10076818705_fdb901379c_z.jpg"
       ]
      },
      {
       "output_type": "stream",
       "stream": "stdout",
       "text": [
        "\n",
        "error"
       ]
      },
      {
       "output_type": "stream",
       "stream": "stdout",
       "text": [
        " https://farm6.staticflickr.com/5537/9768060525_0e5e4a5824_z.jpg\n",
        "error"
       ]
      },
      {
       "output_type": "stream",
       "stream": "stdout",
       "text": [
        " https://farm8.staticflickr.com/7425/9859329686_1ee8d1e1c2_z.jpg\n",
        "error"
       ]
      },
      {
       "output_type": "stream",
       "stream": "stdout",
       "text": [
        " https://farm8.staticflickr.com/7306/9796837165_e748ef6563_z.jpg\n",
        "error"
       ]
      },
      {
       "output_type": "stream",
       "stream": "stdout",
       "text": [
        " https://farm3.staticflickr.com/2873/9907920063_9e40b91778_z.jpg\n",
        "error"
       ]
      },
      {
       "output_type": "stream",
       "stream": "stdout",
       "text": [
        " https://farm3.staticflickr.com/2870/9894075246_e9a5858a2e_z.jpg\n",
        "https://farm4.staticflickr.com/3774/11227669054_f32cfc5195_z.jpg"
       ]
      },
      {
       "output_type": "stream",
       "stream": "stdout",
       "text": [
        "\n",
        "https://farm6.staticflickr.com/5607/15614469845_fe47ccdf9d_z.jpg"
       ]
      },
      {
       "output_type": "stream",
       "stream": "stdout",
       "text": [
        "\n",
        "error"
       ]
      },
      {
       "output_type": "stream",
       "stream": "stdout",
       "text": [
        " https://farm4.staticflickr.com/3679/9727032923_778a93e7d1_z.jpg\n",
        "error"
       ]
      },
      {
       "output_type": "stream",
       "stream": "stdout",
       "text": [
        " https://farm8.staticflickr.com/7308/9777475362_4135f7e236_z.jpg\n",
        "https://farm8.staticflickr.com/7322/10435033123_cabc6757c7_z.jpg"
       ]
      },
      {
       "output_type": "stream",
       "stream": "stdout",
       "text": [
        "\n",
        "error"
       ]
      },
      {
       "output_type": "stream",
       "stream": "stdout",
       "text": [
        " https://farm4.staticflickr.com/3746/9868190153_6e80f07b23_z.jpg\n",
        "https://farm8.staticflickr.com/7433/10114788024_b06a755416_z.jpg"
       ]
      },
      {
       "output_type": "stream",
       "stream": "stdout",
       "text": [
        "\n",
        "error"
       ]
      },
      {
       "output_type": "stream",
       "stream": "stdout",
       "text": [
        " https://farm6.staticflickr.com/5487/9773414282_81a98fb662_z.jpg\n",
        "https://farm4.staticflickr.com/3744/10464176603_78605b62c3_z.jpg"
       ]
      },
      {
       "output_type": "stream",
       "stream": "stdout",
       "text": [
        "\n",
        "error"
       ]
      },
      {
       "output_type": "stream",
       "stream": "stdout",
       "text": [
        " https://farm6.staticflickr.com/5450/9650986486_580526bcaa_z.jpg\n",
        "error"
       ]
      },
      {
       "output_type": "stream",
       "stream": "stdout",
       "text": [
        " https://farm4.staticflickr.com/3717/9695871790_cf7fdb655d_z.jpg\n",
        "https://farm4.staticflickr.com/3830/10060588166_fb501b1d45_z.jpg"
       ]
      },
      {
       "output_type": "stream",
       "stream": "stdout",
       "text": [
        "\n",
        "error"
       ]
      },
      {
       "output_type": "stream",
       "stream": "stdout",
       "text": [
        " https://farm3.staticflickr.com/2809/9707114116_ff32c8f44b_z.jpg\n",
        "error"
       ]
      },
      {
       "output_type": "stream",
       "stream": "stdout",
       "text": [
        " https://farm6.staticflickr.com/5469/9821966386_f8cb694510_z.jpg\n",
        "error"
       ]
      },
      {
       "output_type": "stream",
       "stream": "stdout",
       "text": [
        " https://farm8.staticflickr.com/7391/9741693606_97e669b97e_z.jpg\n",
        "error"
       ]
      },
      {
       "output_type": "stream",
       "stream": "stdout",
       "text": [
        " https://farm8.staticflickr.com/7361/9882737504_6c5727438e_z.jpg\n",
        "error"
       ]
      },
      {
       "output_type": "stream",
       "stream": "stdout",
       "text": [
        " https://farm4.staticflickr.com/3706/9714307649_899bdd7ff2_z.jpg\n",
        "https://farm3.staticflickr.com/2892/10467993053_16d4bb13c6_z.jpg"
       ]
      },
      {
       "output_type": "stream",
       "stream": "stdout",
       "text": [
        "\n",
        "https://farm4.staticflickr.com/3816/10461238685_3d430028c6_z.jpg"
       ]
      },
      {
       "output_type": "stream",
       "stream": "stdout",
       "text": [
        "\n",
        "error"
       ]
      },
      {
       "output_type": "stream",
       "stream": "stdout",
       "text": [
        " https://farm4.staticflickr.com/3728/9807629943_d892cd51c1_z.jpg\n",
        "error"
       ]
      },
      {
       "output_type": "stream",
       "stream": "stdout",
       "text": [
        " https://farm4.staticflickr.com/3824/9960686295_6621d8cfe7_z.jpg\n",
        "https://farm6.staticflickr.com/5446/10002312044_3f15387a54_z.jpg"
       ]
      },
      {
       "output_type": "stream",
       "stream": "stdout",
       "text": [
        "\n",
        "https://farm8.staticflickr.com/7314/10463994824_943b9186f2_z.jpg"
       ]
      },
      {
       "output_type": "stream",
       "stream": "stdout",
       "text": [
        "\n",
        "https://farm4.staticflickr.com/3793/10364770716_53a318f8e8_z.jpg"
       ]
      },
      {
       "output_type": "stream",
       "stream": "stdout",
       "text": [
        "\n",
        "error"
       ]
      },
      {
       "output_type": "stream",
       "stream": "stdout",
       "text": [
        " https://farm8.staticflickr.com/7388/9807283224_09320edd1c_z.jpg\n",
        "error"
       ]
      },
      {
       "output_type": "stream",
       "stream": "stdout",
       "text": [
        " https://farm8.staticflickr.com/7450/9703885741_5981420935_z.jpg\n",
        "error"
       ]
      },
      {
       "output_type": "stream",
       "stream": "stdout",
       "text": [
        " https://farm8.staticflickr.com/7424/9698016810_30156fc8ca_z.jpg\n",
        "error"
       ]
      },
      {
       "output_type": "stream",
       "stream": "stdout",
       "text": [
        " https://farm8.staticflickr.com/7371/9753049646_7d8dd45bc2_z.jpg\n",
        "error"
       ]
      },
      {
       "output_type": "stream",
       "stream": "stdout",
       "text": [
        " https://farm6.staticflickr.com/5502/9918804243_8d8ef081d2_z.jpg\n",
        "error"
       ]
      },
      {
       "output_type": "stream",
       "stream": "stdout",
       "text": [
        " https://farm8.staticflickr.com/7417/9840412654_60b4817742_z.jpg\n",
        "https://farm3.staticflickr.com/2947/15306359690_a3058353ef_z.jpg"
       ]
      },
      {
       "output_type": "stream",
       "stream": "stdout",
       "text": [
        "\n",
        "https://farm8.staticflickr.com/7447/12326536995_8441f7bac9_z.jpg"
       ]
      },
      {
       "output_type": "stream",
       "stream": "stdout",
       "text": [
        "\n",
        "error"
       ]
      },
      {
       "output_type": "stream",
       "stream": "stdout",
       "text": [
        " https://farm8.staticflickr.com/7305/9709610140_04bba5d1be_z.jpg\n",
        "https://farm4.staticflickr.com/3829/10435003045_6870fe3e1c_z.jpg"
       ]
      },
      {
       "output_type": "stream",
       "stream": "stdout",
       "text": [
        "\n",
        "https://farm3.staticflickr.com/2940/13937710204_e89d5c02f8_z.jpg"
       ]
      },
      {
       "output_type": "stream",
       "stream": "stdout",
       "text": [
        "\n",
        "error"
       ]
      },
      {
       "output_type": "stream",
       "stream": "stdout",
       "text": [
        " https://farm3.staticflickr.com/2811/9841238164_d7a79a03aa_z.jpg\n",
        "https://farm4.staticflickr.com/3780/10541095765_017bbbb444_z.jpg"
       ]
      },
      {
       "output_type": "stream",
       "stream": "stdout",
       "text": [
        "\n",
        "error"
       ]
      },
      {
       "output_type": "stream",
       "stream": "stdout",
       "text": [
        " https://farm6.staticflickr.com/5455/9728468121_b0a21ee3d4_z.jpg\n",
        "error"
       ]
      },
      {
       "output_type": "stream",
       "stream": "stdout",
       "text": [
        " https://farm8.staticflickr.com/7300/9728621867_23d9702a54_z.jpg\n",
        "error"
       ]
      },
      {
       "output_type": "stream",
       "stream": "stdout",
       "text": [
        " https://farm4.staticflickr.com/3739/9939662814_21e901ff61_z.jpg\n",
        "error"
       ]
      },
      {
       "output_type": "stream",
       "stream": "stdout",
       "text": [
        " https://farm8.staticflickr.com/7337/9922174226_6d0b1b6c13_z.jpg\n"
       ]
      }
     ],
     "prompt_number": 24
    },
    {
     "cell_type": "code",
     "collapsed": false,
     "input": [],
     "language": "python",
     "metadata": {},
     "outputs": []
    }
   ],
   "metadata": {}
  }
 ]
}