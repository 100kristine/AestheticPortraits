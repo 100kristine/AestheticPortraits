{
 "metadata": {
  "name": "",
  "signature": "sha256:5c00491a7c295431de8e53ac1adfc2dcd9f08ecb9dcfb98e7bc3ba1dadb4608b"
 },
 "nbformat": 3,
 "nbformat_minor": 0,
 "worksheets": [
  {
   "cells": [
    {
     "cell_type": "code",
     "collapsed": false,
     "input": [
      "from __future__ import division\n",
      "import pickle,os\n",
      "from collections import defaultdict\n",
      "from sklearn.preprocessing import scale\n",
      "from sklearn import svm\n",
      "import numpy as np\n",
      "from sklearn import cross_validation\n",
      "from sklearn.ensemble import RandomForestClassifier \n",
      "from sklearn.ensemble import AdaBoostClassifier\n",
      "from sklearn.linear_model import LogisticRegression\n",
      "from sklearn import neighbors,datasets\n",
      "from sklearn.metrics import precision_recall_fscore_support\n",
      "import urllib2\n",
      "from sklearn.svm import SVC\n",
      "from bs4 import BeautifulSoup\n",
      "from sklearn.feature_selection import RFE\n",
      "import cv2\n",
      "from scipy.misc import imread\n",
      "from cv2 import imwrite\n",
      "import matplotlib.pyplot as plt\n",
      "from operator import itemgetter"
     ],
     "language": "python",
     "metadata": {},
     "outputs": [],
     "prompt_number": 2
    },
    {
     "cell_type": "code",
     "collapsed": false,
     "input": [
      "def loadMongo():\n",
      "    mongoposts = pickle.load(open('./mongodb_posts','r'))\n",
      "    mongoDB = defaultdict()\n",
      "    for post in mongoposts:\n",
      "        mongoDB[post['name'][-28:]] = post\n",
      "    return mongoDB\n",
      "\n",
      "designMat = scale(pickle.load(open('designMat','r')))\n",
      "labels = np.array(pickle.load(open('labels','r')))\n",
      "comments = pickle.load(open('fixed_comments','r'))\n",
      "faves = pickle.load(open('fixed_faves','r'))\n",
      "names = pickle.load(open('names','r'))\n",
      "views,f,c = labels[:,0],labels[:,1],labels[:,2]\n",
      "mongoData = loadMongo()\n",
      "urls = [mongoData[name]['pageLink'] for name in names]"
     ],
     "language": "python",
     "metadata": {},
     "outputs": [],
     "prompt_number": 3
    },
    {
     "cell_type": "code",
     "collapsed": false,
     "input": [],
     "language": "python",
     "metadata": {},
     "outputs": [],
     "prompt_number": 3
    },
    {
     "cell_type": "code",
     "collapsed": false,
     "input": [
      "def updateAll(designMat,comments,faves,names,urls,views):\n",
      "    newComments,newFaves,newNames,newUrls,newViews = [],[],[],[],[]\n",
      "    for i in range(len(comments)):\n",
      "        if faves[i] is None or comments[i] is None:\n",
      "            designMat = deleteRow(designMat,i)\n",
      "            pass\n",
      "        else:\n",
      "            newComments.append(comments[i])\n",
      "            newNames.append(names[i])\n",
      "            newUrls.append(urls[i])\n",
      "            newFaves.append(faves[i])\n",
      "            newViews.append(views[i])\n",
      "    return designMat,newComments,newNames,newUrls,newFaves,newViews\n",
      "\n",
      "def deleteRow(mat,row):\n",
      "    return np.delete(mat,row,0)\n",
      "\n",
      "designMat,comments,names,urls,faves,views = updateAll(designMat,comments,faves,names,urls,views)"
     ],
     "language": "python",
     "metadata": {},
     "outputs": [],
     "prompt_number": 4
    },
    {
     "cell_type": "code",
     "collapsed": false,
     "input": [],
     "language": "python",
     "metadata": {},
     "outputs": [],
     "prompt_number": 4
    },
    {
     "cell_type": "code",
     "collapsed": false,
     "input": [
      "## Need to reupdate fave and comment counts, some were incorrect in the scraped code. Will return in the same order as the urls.\n",
      "\n",
      "def getImprovedMetrics(url):\n",
      "    sp = urllib2.urlopen(url).read().split('Y.photo.init')\n",
      "    items = [i.split(\":\") for i in sp[1].split(',') if \"fave_count\" in i or \"comment_count\" in i]\n",
      "    items = {i[0].strip('\"'): int(i[1].strip('\"')) for i in items}\n",
      "    return items\n",
      "\n",
      "def getAllImprovedMetrics(urls):\n",
      "    count,metrics = 0,[]\n",
      "    for url in urls:\n",
      "        try:\n",
      "            metrics.append(getImprovedMetrics(url))\n",
      "            if len(metrics)%10==0:\n",
      "                print len(metrics)\n",
      "        except:\n",
      "            metrics.append({'comment_count':None,'fave_count':None})\n",
      "    return [item['comment_count'] for item in metrics],[item['fave_count'] for item in metrics]\n",
      "\n",
      "#comm,fav=getAllImprovedMetrics(urls)"
     ],
     "language": "python",
     "metadata": {},
     "outputs": [],
     "prompt_number": 5
    },
    {
     "cell_type": "code",
     "collapsed": false,
     "input": [
      "#pickle.dump(comm,open('fixed_comments','w'))\n",
      "#pickle.dump(fav,open('fixed_faves','w'))"
     ],
     "language": "python",
     "metadata": {},
     "outputs": [],
     "prompt_number": 6
    },
    {
     "cell_type": "code",
     "collapsed": false,
     "input": [
      "labelArr = np.array(labels)"
     ],
     "language": "python",
     "metadata": {},
     "outputs": [],
     "prompt_number": 7
    },
    {
     "cell_type": "code",
     "collapsed": false,
     "input": [],
     "language": "python",
     "metadata": {},
     "outputs": [],
     "prompt_number": 14
    },
    {
     "cell_type": "code",
     "collapsed": false,
     "input": [
      "def getImageFiles():\n",
      "    return os.listdir('./Images/')\n",
      "\n",
      "def loadIm(name):\n",
      "    return imread('./Images/'+name)\n",
      "\n",
      "def getRandomSample(n=5):\n",
      "    files = getImageFiles()\n",
      "    return [imread('./Images/'+files[random.randint(0,len(files))]) for i in range(n)]\n",
      "    #return [files[random.randint(0,len(files))] for i in range(n)]\n",
      "\n"
     ],
     "language": "python",
     "metadata": {},
     "outputs": [],
     "prompt_number": 8
    },
    {
     "cell_type": "code",
     "collapsed": false,
     "input": [
      "y = np.zeros(486)\n",
      "y[np.where(np.array(faves) > 30)] = 1"
     ],
     "language": "python",
     "metadata": {},
     "outputs": [],
     "prompt_number": 48
    },
    {
     "cell_type": "code",
     "collapsed": false,
     "input": [
      "def classify(Classifier, X_train, X_test, y_train, y_test):\n",
      "    \"\"\" >>> classify(RandomForestClassifier(n_estimators=5),X_train, X_test, y_train, y_test)\n",
      "    Accuracy 0.755102040816 Total elements in test: 98 Total nonzero: 9\n",
      "    \"\"\"\n",
      "    clf = Classifier.fit(X_train,y_train)\n",
      "    predicted = clf.predict(X_test)\n",
      "    try:\n",
      "        print precision_recall_fscore_support(y_test, predicted)\n",
      "        print \"Accuracy\",clf.score(X_test,y_test),\"Total elements in test:\",predicted.shape[0],\"Total nonzero:\",np.nonzero(predicted)[0].shape[0],\"\\n\"\n",
      "    \n",
      "    except:\n",
      "        print \"error\"\n",
      "    return \n",
      "\n",
      "def classifyAll(designMat,y,testSize=0.2):\n",
      "    \"\"\" >>>classifyAll(designMat,y)\n",
      "        Random Forest\n",
      "        Accuracy 0.80612244898 Total elements in test: 98 Total nonzero: 4 \n",
      "\n",
      "        Logistic Regression\n",
      "        Accuracy 0.591836734694 Total elements in test: 98 Total nonzero: 31 \n",
      "\n",
      "        Adaboost\n",
      "        Accuracy 0.80612244898 Total elements in test: 98 Total nonzero: 6 \n",
      "\n",
      "        KNN\n",
      "        Accuracy 0.826530612245 Total elements in test: 98 Total nonzero: 2 \n",
      "    \"\"\"\n",
      "    X_train, X_test, y_train, y_test = cross_validation.train_test_split(designMat, y, test_size=testSize, random_state=0)\n",
      "    print \"Random Forest\"\n",
      "    classify(RandomForestClassifier(n_estimators=5),X_train, X_test, y_train, y_test)\n",
      "    print \"Logistic Regression\"\n",
      "    classify(LogisticRegression(penalty='l2'),X_train, X_test, y_train, y_test)\n",
      "    print \"Adaboost\"\n",
      "    classify(AdaBoostClassifier(),X_train, X_test, y_train, y_test)\n",
      "    print \"KNN\"\n",
      "    classify(neighbors.KNeighborsClassifier(2),X_train, X_test, y_train, y_test)\n",
      "    print \"SVM\"\n",
      "    classify(SVC(kernel=\"linear\", C=1),X_train, X_test, y_train, y_test)\n",
      "    return\n"
     ],
     "language": "python",
     "metadata": {},
     "outputs": [],
     "prompt_number": 52
    },
    {
     "cell_type": "code",
     "collapsed": false,
     "input": [
      "classifyAll(designMat,y,0.2)"
     ],
     "language": "python",
     "metadata": {},
     "outputs": [
      {
       "output_type": "stream",
       "stream": "stdout",
       "text": [
        "Random Forest\n",
        "(array([ 0.77777778,  0.125     ]), array([ 0.90909091,  0.04761905]), array([ 0.83832335,  0.06896552]), array([77, 21]))\n",
        "Accuracy 0.724489795918 Total elements in test: 98 Total nonzero: 8 \n",
        "\n",
        "Logistic Regression\n",
        "(array([ 0.76666667,  0.18421053]), array([ 0.5974026 ,  0.33333333]), array([ 0.67153285,  0.23728814]), array([77, 21]))"
       ]
      },
      {
       "output_type": "stream",
       "stream": "stdout",
       "text": [
        "\n",
        "Accuracy 0.540816326531 Total elements in test: 98 Total nonzero: 38 \n",
        "\n",
        "Adaboost\n",
        "(array([ 0.81176471,  0.38461538]), array([ 0.8961039 ,  0.23809524]), array([ 0.85185185,  0.29411765]), array([77, 21]))"
       ]
      },
      {
       "output_type": "stream",
       "stream": "stdout",
       "text": [
        "\n",
        "Accuracy 0.755102040816 Total elements in test: 98 Total nonzero: 13 \n",
        "\n",
        "KNN\n",
        "(array([ 0.79347826,  0.33333333]), array([ 0.94805195,  0.0952381 ]), array([ 0.86390533,  0.14814815]), array([77, 21]))"
       ]
      },
      {
       "output_type": "stream",
       "stream": "stdout",
       "text": [
        "\n",
        "Accuracy 0.765306122449 Total elements in test: 98 Total nonzero: 6 \n",
        "\n",
        "SVM\n",
        "(array([ 0.77464789,  0.18518519]), array([ 0.71428571,  0.23809524]), array([ 0.74324324,  0.20833333]), array([77, 21]))"
       ]
      },
      {
       "output_type": "stream",
       "stream": "stdout",
       "text": [
        "\n",
        "Accuracy 0.612244897959 Total elements in test: 98 Total nonzero: 27 \n",
        "\n"
       ]
      }
     ],
     "prompt_number": 53
    },
    {
     "cell_type": "code",
     "collapsed": false,
     "input": [
      "X_train, X_test, y_train, y_test = cross_validation.train_test_split(designMat, y, test_size=0.2, random_state=0)\n",
      "\n",
      "clf = SVC(kernel=\"linear\", C=1)\n",
      "rfe = RFE(estimator=clf, n_features_to_select=1, step=1)\n",
      "rfe.fit(X_train, y_train)\n",
      "#ranking = rfe.ranking_.reshape(digits.images[0].shape)"
     ],
     "language": "python",
     "metadata": {},
     "outputs": [
      {
       "metadata": {},
       "output_type": "pyout",
       "prompt_number": 24,
       "text": [
        "RFE(estimator=SVC(C=1, cache_size=200, class_weight=None, coef0=0.0, degree=3, gamma=0.0,\n",
        "  kernel='linear', max_iter=-1, probability=False, random_state=None,\n",
        "  shrinking=True, tol=0.001, verbose=False),\n",
        "  estimator_params={}, n_features_to_select=1, step=1, verbose=0)"
       ]
      }
     ],
     "prompt_number": 24
    },
    {
     "cell_type": "code",
     "collapsed": false,
     "input": [
      "def identifyFeature(num):\n",
      "    #Entropy histogram: 10 bins\n",
      "    #Color histogram: 64 bins\n",
      "    #Texture statistics, all bands: 24\n",
      "    #Total face features: 24+64 = 34\n",
      "    #Total eye features: 24+10 =\n",
      "    \n",
      "    if num in range(0,10):\n",
      "        return \"Entropy Histogram, whole Image\"\n",
      "    elif num in range(10,34):\n",
      "        return \"Texture stats: face\" \n",
      "    elif num in range(34,58):\n",
      "        return \"Texture stats: eyes\" \n",
      "    elif num in range(58,122):\n",
      "        return \"Color histogram: Face\"\n",
      "    elif num in range(122,132):\n",
      "        return \"Entropy histogram: Eyes\" \n",
      "    \n",
      "    elif num in range(132,156):\n",
      "        return \"Corner 1, texture stats\"\n",
      "    elif num in range(156,220):\n",
      "        return \"Corner 1, color\"\n",
      "    elif num in range(220,230):\n",
      "        return \"Corner 1, entropy\"\n",
      "    \n",
      "    elif num in range(230,254):\n",
      "        return \"Corner 2, texture stats\"\n",
      "    elif num in range(254,318):\n",
      "        return \"Corner 2, color\"\n",
      "    elif num in range(318,328):\n",
      "        return \"Corner 2, entropy\"\n",
      "    \n",
      "    elif num in range(328,352):\n",
      "        return \"Corner 3, texture stats\"    \n",
      "    elif num in range(352,416):\n",
      "        return \"Corner 3, color\"\n",
      "    elif num in range(416,426):\n",
      "        return \"Corner 3, entropy\"\n",
      "    \n",
      "    elif num in range(426,450):\n",
      "        return \"Corner 4, texture stats\"\n",
      "    elif num in range(450,514):\n",
      "        return \"Corner 4, color\"\n",
      "    elif num in range(514,524):\n",
      "        return \"Corner 4, entropy\"\n",
      "    return\n",
      "    \n",
      "top20 = [i for i in enumerate(rfe.ranking_) if i[1] < 200]\n",
      "bottom100 = [i for i in enumerate(rfe.ranking_) if i[1] > 400]"
     ],
     "language": "python",
     "metadata": {},
     "outputs": [],
     "prompt_number": 25
    },
    {
     "cell_type": "code",
     "collapsed": false,
     "input": [
      "ranking100 = [(item[1],identifyFeature(item[0])) for item in top20]\n",
      "#Total number: Eye related features, 24+"
     ],
     "language": "python",
     "metadata": {},
     "outputs": [],
     "prompt_number": 26
    },
    {
     "cell_type": "code",
     "collapsed": false,
     "input": [
      "sum([1 for i in list(ranking100) if \"Eyes\" in i[1] or \"eyes\" in i[1]])"
     ],
     "language": "python",
     "metadata": {},
     "outputs": [
      {
       "metadata": {},
       "output_type": "pyout",
       "prompt_number": 27,
       "text": [
        "24"
       ]
      }
     ],
     "prompt_number": 27
    },
    {
     "cell_type": "code",
     "collapsed": false,
     "input": [
      "print sum([1 for i in list(ranking100) if \"Face\" in i[1] or \"face\" in i[1]])\n",
      "print sum([1 for i in list(bottom100) if \"Face\" in i[1] or \"face\" in i[1]])\n",
      "print sum([1 for i in list(bottom100) if \"Eyes\" in i[1] or \"eyes\" in i[1]])\n",
      "print sum([1 for i in list(ranking100) if \"Eyes\" in i[1] or \"eyes\" in i[1]])"
     ],
     "language": "python",
     "metadata": {},
     "outputs": [
      {
       "output_type": "stream",
       "stream": "stdout",
       "text": [
        "31\n"
       ]
      },
      {
       "ename": "TypeError",
       "evalue": "argument of type 'numpy.int64' is not iterable",
       "output_type": "pyerr",
       "traceback": [
        "\u001b[0;31m---------------------------------------------------------------------------\u001b[0m\n\u001b[0;31mTypeError\u001b[0m                                 Traceback (most recent call last)",
        "\u001b[0;32m<ipython-input-29-d88d414b40f5>\u001b[0m in \u001b[0;36m<module>\u001b[0;34m()\u001b[0m\n\u001b[1;32m      1\u001b[0m \u001b[0;32mprint\u001b[0m \u001b[0msum\u001b[0m\u001b[0;34m(\u001b[0m\u001b[0;34m[\u001b[0m\u001b[0;36m1\u001b[0m \u001b[0;32mfor\u001b[0m \u001b[0mi\u001b[0m \u001b[0;32min\u001b[0m \u001b[0mlist\u001b[0m\u001b[0;34m(\u001b[0m\u001b[0mranking100\u001b[0m\u001b[0;34m)\u001b[0m \u001b[0;32mif\u001b[0m \u001b[0;34m\"Face\"\u001b[0m \u001b[0;32min\u001b[0m \u001b[0mi\u001b[0m\u001b[0;34m[\u001b[0m\u001b[0;36m1\u001b[0m\u001b[0;34m]\u001b[0m \u001b[0;32mor\u001b[0m \u001b[0;34m\"face\"\u001b[0m \u001b[0;32min\u001b[0m \u001b[0mi\u001b[0m\u001b[0;34m[\u001b[0m\u001b[0;36m1\u001b[0m\u001b[0;34m]\u001b[0m\u001b[0;34m]\u001b[0m\u001b[0;34m)\u001b[0m\u001b[0;34m\u001b[0m\u001b[0m\n\u001b[0;32m----> 2\u001b[0;31m \u001b[0;32mprint\u001b[0m \u001b[0msum\u001b[0m\u001b[0;34m(\u001b[0m\u001b[0;34m[\u001b[0m\u001b[0;36m1\u001b[0m \u001b[0;32mfor\u001b[0m \u001b[0mi\u001b[0m \u001b[0;32min\u001b[0m \u001b[0mlist\u001b[0m\u001b[0;34m(\u001b[0m\u001b[0mbottom100\u001b[0m\u001b[0;34m)\u001b[0m \u001b[0;32mif\u001b[0m \u001b[0;34m\"Face\"\u001b[0m \u001b[0;32min\u001b[0m \u001b[0mi\u001b[0m\u001b[0;34m[\u001b[0m\u001b[0;36m1\u001b[0m\u001b[0;34m]\u001b[0m \u001b[0;32mor\u001b[0m \u001b[0;34m\"face\"\u001b[0m \u001b[0;32min\u001b[0m \u001b[0mi\u001b[0m\u001b[0;34m[\u001b[0m\u001b[0;36m1\u001b[0m\u001b[0;34m]\u001b[0m\u001b[0;34m]\u001b[0m\u001b[0;34m)\u001b[0m\u001b[0;34m\u001b[0m\u001b[0m\n\u001b[0m\u001b[1;32m      3\u001b[0m \u001b[0;32mprint\u001b[0m \u001b[0msum\u001b[0m\u001b[0;34m(\u001b[0m\u001b[0;34m[\u001b[0m\u001b[0;36m1\u001b[0m \u001b[0;32mfor\u001b[0m \u001b[0mi\u001b[0m \u001b[0;32min\u001b[0m \u001b[0mlist\u001b[0m\u001b[0;34m(\u001b[0m\u001b[0mbottom100\u001b[0m\u001b[0;34m)\u001b[0m \u001b[0;32mif\u001b[0m \u001b[0;34m\"Eyes\"\u001b[0m \u001b[0;32min\u001b[0m \u001b[0mi\u001b[0m\u001b[0;34m[\u001b[0m\u001b[0;36m1\u001b[0m\u001b[0;34m]\u001b[0m \u001b[0;32mor\u001b[0m \u001b[0;34m\"eyes\"\u001b[0m \u001b[0;32min\u001b[0m \u001b[0mi\u001b[0m\u001b[0;34m[\u001b[0m\u001b[0;36m1\u001b[0m\u001b[0;34m]\u001b[0m\u001b[0;34m]\u001b[0m\u001b[0;34m)\u001b[0m\u001b[0;34m\u001b[0m\u001b[0m\n\u001b[1;32m      4\u001b[0m \u001b[0;32mprint\u001b[0m \u001b[0msum\u001b[0m\u001b[0;34m(\u001b[0m\u001b[0;34m[\u001b[0m\u001b[0;36m1\u001b[0m \u001b[0;32mfor\u001b[0m \u001b[0mi\u001b[0m \u001b[0;32min\u001b[0m \u001b[0mlist\u001b[0m\u001b[0;34m(\u001b[0m\u001b[0mranking100\u001b[0m\u001b[0;34m)\u001b[0m \u001b[0;32mif\u001b[0m \u001b[0;34m\"Eyes\"\u001b[0m \u001b[0;32min\u001b[0m \u001b[0mi\u001b[0m\u001b[0;34m[\u001b[0m\u001b[0;36m1\u001b[0m\u001b[0;34m]\u001b[0m \u001b[0;32mor\u001b[0m \u001b[0;34m\"eyes\"\u001b[0m \u001b[0;32min\u001b[0m \u001b[0mi\u001b[0m\u001b[0;34m[\u001b[0m\u001b[0;36m1\u001b[0m\u001b[0;34m]\u001b[0m\u001b[0;34m]\u001b[0m\u001b[0;34m)\u001b[0m\u001b[0;34m\u001b[0m\u001b[0m\n",
        "\u001b[0;31mTypeError\u001b[0m: argument of type 'numpy.int64' is not iterable"
       ]
      }
     ],
     "prompt_number": 29
    },
    {
     "cell_type": "code",
     "collapsed": false,
     "input": [
      "ranking100 = [(item[1],identifyFeature(item[0])) for item in top20]\n",
      "ranking100.sort()\n",
      "#for i in ranking100:\n",
      "#    print i"
     ],
     "language": "python",
     "metadata": {},
     "outputs": []
    },
    {
     "cell_type": "code",
     "collapsed": false,
     "input": [
      "bottom100 = [(item[1],identifyFeature(item[0])) for item in bottom100]\n",
      "bottom100.sort(reverse=True)\n",
      "#for item in bottom100:\n",
      "#    print item"
     ],
     "language": "python",
     "metadata": {},
     "outputs": []
    },
    {
     "cell_type": "code",
     "collapsed": false,
     "input": [
      "designMat.shape"
     ],
     "language": "python",
     "metadata": {},
     "outputs": [
      {
       "metadata": {},
       "output_type": "pyout",
       "prompt_number": 739,
       "text": [
        "(486, 524)"
       ]
      }
     ],
     "prompt_number": 739
    },
    {
     "cell_type": "code",
     "collapsed": false,
     "input": [
      "print sum([1 for i in list(ranking100) if \"Face\" in i[1] or \"face\" in i[1]])\n",
      "print [i for i in list(ranking100) if \"eye\" in i[1] or \"Eye\" in i[1]]\n"
     ],
     "language": "python",
     "metadata": {},
     "outputs": [
      {
       "output_type": "stream",
       "stream": "stdout",
       "text": [
        "31\n",
        "[(10, 'Entropy histogram: Eyes'), (11, 'Entropy histogram: Eyes'), (19, 'Entropy histogram: Eyes'), (20, 'Entropy histogram: Eyes'), (21, 'Texture stats: eyes'), (22, 'Texture stats: eyes'), (30, 'Texture stats: eyes'), (33, 'Texture stats: eyes'), (34, 'Texture stats: eyes'), (35, 'Texture stats: eyes'), (37, 'Texture stats: eyes'), (41, 'Texture stats: eyes'), (42, 'Texture stats: eyes'), (96, 'Entropy histogram: Eyes'), (121, 'Texture stats: eyes'), (124, 'Texture stats: eyes'), (161, 'Texture stats: eyes'), (165, 'Texture stats: eyes'), (170, 'Texture stats: eyes'), (172, 'Entropy histogram: Eyes'), (174, 'Texture stats: eyes'), (180, 'Texture stats: eyes'), (188, 'Texture stats: eyes'), (189, 'Texture stats: eyes')]\n"
       ]
      }
     ],
     "prompt_number": 791
    },
    {
     "cell_type": "code",
     "collapsed": false,
     "input": [
      "lst = zip(faves,urls,names)\n",
      "lst.sort(reverse=False)\n",
      "def loadIm(name):\n",
      "    return imread('./Images/'+name)\n",
      "\n",
      "def saveRankedImages(names,faves):\n",
      "    names = list(names)\n",
      "    lst = list(enumerate(faves))\n",
      "    lst.sort(key=itemgetter(1))\n",
      "    for i in range(len(faves)):\n",
      "        im = cv2.imread('./Images/' + names[lst[i][0]])\n",
      "        cv2.imwrite(\"./rankedImages/\"+str(lst[i][1])+ \"_\"+ names[lst[i][0]],im)\n",
      "    return\n",
      "\n",
      "saveRankedImages(names,faves)"
     ],
     "language": "python",
     "metadata": {},
     "outputs": [],
     "prompt_number": 845
    },
    {
     "cell_type": "code",
     "collapsed": false,
     "input": [],
     "language": "python",
     "metadata": {},
     "outputs": [],
     "prompt_number": 1
    },
    {
     "cell_type": "code",
     "collapsed": false,
     "input": [],
     "language": "python",
     "metadata": {},
     "outputs": [],
     "prompt_number": 1
    },
    {
     "cell_type": "code",
     "collapsed": false,
     "input": [
      "im = cv2.imread(\"./hires.jpg\",cv2.COLOR_BGR2GRAY) "
     ],
     "language": "python",
     "metadata": {},
     "outputs": [
      {
       "ename": "NameError",
       "evalue": "name 'cv2' is not defined",
       "output_type": "pyerr",
       "traceback": [
        "\u001b[0;31m---------------------------------------------------------------------------\u001b[0m\n\u001b[0;31mNameError\u001b[0m                                 Traceback (most recent call last)",
        "\u001b[0;32m<ipython-input-800-9a32cc79b28b>\u001b[0m in \u001b[0;36m<module>\u001b[0;34m()\u001b[0m\n\u001b[0;32m----> 1\u001b[0;31m \u001b[0mim\u001b[0m \u001b[0;34m=\u001b[0m \u001b[0mcv2\u001b[0m\u001b[0;34m.\u001b[0m\u001b[0mimread\u001b[0m\u001b[0;34m(\u001b[0m\u001b[0;34m\"./hires.jpg\"\u001b[0m\u001b[0;34m,\u001b[0m\u001b[0mcv2\u001b[0m\u001b[0;34m.\u001b[0m\u001b[0mCOLOR_BGR2GRAY\u001b[0m\u001b[0;34m)\u001b[0m\u001b[0;34m\u001b[0m\u001b[0m\n\u001b[0m",
        "\u001b[0;31mNameError\u001b[0m: name 'cv2' is not defined"
       ]
      }
     ],
     "prompt_number": 800
    },
    {
     "cell_type": "code",
     "collapsed": false,
     "input": [
      "haar = \"/Users/Artemis/anaconda/pkgs/opencv-2.4.8-np17py27_2/share/OpenCV/haarcascades/\"\n",
      "face = cv2.CascadeClassifier(haar + \"haarcascade_frontalface_default.xml\")\n"
     ],
     "language": "python",
     "metadata": {},
     "outputs": [],
     "prompt_number": 821
    },
    {
     "cell_type": "code",
     "collapsed": false,
     "input": [
      "features = rfe.ranking_.flatten()\n",
      "data = np.random.rand(10,6)\n",
      "\n",
      "plt.pcolor(rfe.ranking_.reshape(131,4),cmap=plt.cm.Reds)"
     ],
     "language": "python",
     "metadata": {},
     "outputs": [
      {
       "metadata": {},
       "output_type": "pyout",
       "prompt_number": 48,
       "text": [
        "<matplotlib.collections.PolyCollection at 0x109a193d0>"
       ]
      },
      {
       "metadata": {},
       "output_type": "display_data",
       "png": "[encoded data removed]",
       "text": [
        "<matplotlib.figure.Figure at 0x10aad7410>"
       ]
      }
     ],
     "prompt_number": 48
    },
    {
     "cell_type": "code",
     "collapsed": false,
     "input": [
      "x = list(rfe.ranking_)\n",
      "318-254"
     ],
     "language": "python",
     "metadata": {},
     "outputs": [
      {
       "metadata": {},
       "output_type": "pyout",
       "prompt_number": 100,
       "text": [
        "64"
       ]
      }
     ],
     "prompt_number": 100
    },
    {
     "cell_type": "code",
     "collapsed": false,
     "input": [
      "import numpy as np\n",
      "import matplotlib.pyplot as plt\n",
      "\n",
      "ma = np.max(rfe.ranking_) \n",
      "mi = np.min(rfe.ranking_) \n",
      "\n",
      "fig, axes = plt.subplots(nrows=4, ncols=3)\n",
      "#print list(axes.flat)\n",
      "fig.tight_layout() \n",
      "fig.title = \"Background Features\"\n",
      "\n",
      "#Entropy: whole image\"\n",
      "\n",
      "axes.flat[0].pcolor(np.array(x[132:156]).reshape(6,4),cmap=plt.cm.Reds_r,vmin=mi,vmax=ma)\n",
      "axes.flat[0].set_title(\"Background 1: Texture\")\n",
      "\n",
      "axes.flat[1].pcolor(np.array(x[156:220]).reshape(8,8),cmap=plt.cm.Reds_r,vmin=mi,vmax=ma)\n",
      "axes.flat[1].set_title(\"Background 1: Color\")\n",
      "\n",
      "axes.flat[2].pcolor(np.array(x[220:230]).reshape(5,2),cmap=plt.cm.Reds_r,vmin=mi,vmax=ma)\n",
      "axes.flat[2].set_title(\"Background 1: Entropy\")\n",
      "\n",
      "axes.flat[3].pcolor(np.array(x[230:254]).reshape(6,4),cmap=plt.cm.Reds_r,vmin=mi,vmax=ma)\n",
      "axes.flat[3].set_title(\"Background 2: Texture\")\n",
      "\n",
      "axes.flat[4].pcolor(np.array(x[254:318]).reshape(8,8),cmap=plt.cm.Reds_r,vmin=mi,vmax=ma)\n",
      "axes.flat[4].set_title(\"Background 2: Color\")\n",
      "\n",
      "axes.flat[5].pcolor(np.array(x[318:328]).reshape(5,2),cmap=plt.cm.Reds_r,vmin=mi,vmax=ma)\n",
      "axes.flat[5].set_title(\"Background 2: Entropy\")\n",
      "\n",
      "axes.flat[6].pcolor(np.array(x[328:352]).reshape(6,4),cmap=plt.cm.Reds_r,vmin=mi,vmax=ma)\n",
      "axes.flat[6].set_title(\"Background 3: Texture\")\n",
      "\n",
      "axes.flat[7].pcolor(np.array(x[352:416]).reshape(8,8),cmap=plt.cm.Reds_r,vmin=mi,vmax=ma)\n",
      "axes.flat[7].set_title(\"Background 3: Color\")\n",
      "\n",
      "axes.flat[8].pcolor(np.array(x[416:426]).reshape(5,2),cmap=plt.cm.Reds_r,vmin=mi,vmax=ma)\n",
      "axes.flat[8].set_title(\"Background 3: Entropy\")\n",
      "\n",
      "axes.flat[9].pcolor(np.array(x[426:450]).reshape(6,4),cmap=plt.cm.Reds_r,vmin=mi,vmax=ma)\n",
      "axes.flat[9].set_title(\"Background 4: Texture\")\n",
      "\n",
      "axes.flat[10].pcolor(np.array(x[450:514]).reshape(8,8),cmap=plt.cm.Reds_r,vmin=mi,vmax=ma)\n",
      "axes.flat[10].set_title(\"Background 4: Color\")\n",
      "\n",
      "axes.flat[11].pcolor(np.array(x[514:524]).reshape(5,2),cmap=plt.cm.Reds_r,vmin=mi,vmax=ma)\n",
      "axes.flat[11].set_title(\"Background 4: Entropy\")\n",
      "\n",
      "for ax in axes.flat:\n",
      "    ax.get_xaxis().set_ticks([])\n",
      "    ax.get_yaxis().set_ticks([])\n",
      "#for ax in axes.flat:\n",
      "#    im = ax.imshow(np.random.random((10,10)), vmin=0, vmax=1)\n",
      "\n",
      "fig.subplots_adjust(right=0.95)\n",
      "#cbar_ax = fig.add_axes([0.85, 0.15, 0.05, 0.7])\n",
      "#fig.colorbar(im, cmap=plt.cm.Reds_r, cax=cbar_ax)\n",
      "\n",
      "plt.show()\n",
      "fig.savefig(\"background_heatmaps\",format=\"pdf\")"
     ],
     "language": "python",
     "metadata": {},
     "outputs": [
      {
       "metadata": {},
       "output_type": "display_data",
       "png": "[encoded data removed]",
       "text": [
        "<matplotlib.figure.Figure at 0x113c01950>"
       ]
      }
     ],
     "prompt_number": 143
    },
    {
     "cell_type": "code",
     "collapsed": false,
     "input": [
      "ma = np.max(rfe.ranking_) \n",
      "mi = np.min(rfe.ranking_) \n",
      "\n",
      "fig, axes = plt.subplots(nrows=3, ncols=2)\n",
      "axes.flat[0].pcolor(np.array(x[:10]).reshape(5,2),cmap=plt.cm.Reds_r,vmin=mi,vmax=ma)\n",
      "axes.flat[0].set_title(\"Whole Image: Entropy\")\n",
      "\n",
      "axes.flat[1].pcolor(np.array(x[10:34]).reshape(6,4),cmap=plt.cm.Reds_r,vmin=mi,vmax=ma)\n",
      "axes.flat[1].set_title(\"Face: Texture\")\n",
      "\n",
      "axes.flat[2].pcolor(np.array(x[34:58]).reshape(6,4),cmap=plt.cm.Reds_r,vmin=mi,vmax=ma)\n",
      "axes.flat[2].set_title(\"Eyes: Texture\")\n",
      "\n",
      "axes.flat[3].pcolor(np.array(x[58:122]).reshape(8,8),cmap=plt.cm.Reds_r,vmin=mi,vmax=ma)\n",
      "axes.flat[3].set_title(\"Face: Color\")\n",
      "\n",
      "axes.flat[4].pcolor(np.array(x[122:132]).reshape(5,2),cmap=plt.cm.Reds_r,vmin=mi,vmax=ma)\n",
      "axes.flat[4].set_title(\"Eyes: Entropy\")\n",
      "for ax in axes.flat:\n",
      "    ax.get_xaxis().set_ticks([])\n",
      "    ax.get_yaxis().set_ticks([])\n",
      "\n",
      "#print list(axes.flat)\n",
      "fig.tight_layout() \n",
      "fig.savefig(\"FaceEyeheatmaps\",format=\"pdf\")\n",
      "\n"
     ],
     "language": "python",
     "metadata": {},
     "outputs": [
      {
       "metadata": {},
       "output_type": "display_data",
       "png": "[encoded data removed]",
       "text": [
        "<matplotlib.figure.Figure at 0x10a74c350>"
       ]
      }
     ],
     "prompt_number": 144
    },
    {
     "cell_type": "code",
     "collapsed": false,
     "input": [
      "ma = np.max(rfe.ranking_) \n",
      "mi = np.min(rfe.ranking_) \n",
      "\n",
      "fig, axes = plt.subplots(nrows=5, ncols=4)\n",
      "#print list(axes.flat)\n",
      "fig.tight_layout() "
     ],
     "language": "python",
     "metadata": {},
     "outputs": [
      {
       "metadata": {},
       "output_type": "display_data",
       "png": "[encoded data removed]",
       "text": [
        "<matplotlib.figure.Figure at 0x10a783550>"
       ]
      }
     ],
     "prompt_number": 114
    },
    {
     "cell_type": "code",
     "collapsed": false,
     "input": [
      "fig, axes = plt.subplots(nrows=2, ncols=2)\n",
      "\n",
      "plt.pcolor(np.array(x[:10]).reshape(5,2),cmap=plt.cm.Reds)\n",
      "#plt.show()\n",
      "plt.pcolor(np.array([0,0,0,10]).reshape(2,2),cmap=plt.cm.Reds)\n",
      "#plt.show()"
     ],
     "language": "python",
     "metadata": {},
     "outputs": [
      {
       "metadata": {},
       "output_type": "display_data",
       "png": "[encoded data removed]",
       "text": [
        "<matplotlib.figure.Figure at 0x10c05a950>"
       ]
      },
      {
       "metadata": {},
       "output_type": "display_data",
       "png": "[encoded data removed]",
       "text": [
        "<matplotlib.figure.Figure at 0x10ed94250>"
       ]
      }
     ],
     "prompt_number": 62
    },
    {
     "cell_type": "code",
     "collapsed": false,
     "input": [],
     "language": "python",
     "metadata": {},
     "outputs": []
    }
   ],
   "metadata": {}
  }
 ]
}